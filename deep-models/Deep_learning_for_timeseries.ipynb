{
  "nbformat": 4,
  "nbformat_minor": 0,
  "metadata": {
    "colab": {
      "provenance": []
    },
    "kernelspec": {
      "name": "python3",
      "display_name": "Python 3"
    },
    "language_info": {
      "name": "python"
    },
    "gpuClass": "standard",
    "accelerator": "GPU"
  },
  "cells": [
    {
      "cell_type": "markdown",
      "source": [
        "# What is a timeseries?\n",
        "\n",
        "A timeseries can be any data obtained via measurements at regular intervals, like the daily price of a stock, the hourly electricity consumption of a city, or the weekly sales of a store. Unlike the types of data we've encountered so far, working with timeseries involves understanding the *dynamics* of a system - its periodic cycles, how it trends over time, its regular regime and its sudden spikes."
      ],
      "metadata": {
        "id": "4JcOgTK7mMR9"
      }
    },
    {
      "cell_type": "markdown",
      "source": [
        "### What is forecasting?\n",
        "\n",
        "Predicting what will happen next in a series is called forecasting. Forecast electricity consumption a few hours in advance so you can anticipate demand; forecast revenue a few months in advance so you can plan your budget; forecast the weather a few days in advance so you can plan your schedule. \n",
        "\n",
        "Things can be done with timeseries:\n",
        "* *Classification* - Assign one or more categorical labels to a timeseries. For instance, given the timeseries of the activity of a visitor on a website, classify whether the visitor is a bot or a human.\n",
        "* *Event detection* - Identify the occurence of a specific expected event within a continuous data stream. A particularly useful application is \"hotword detection,\" where a model monitors an audio stream and detects utterances like \"Ok Google\" or \"Hey Alexa.\"\n",
        "* *Anomaly detection* - Detect anything unusual happening within a continuous datastream. Unusual activity on your corporate network? Might be an attacker. Unusual readings on a manufacturing line? Time for a human to go take a look."
      ],
      "metadata": {
        "id": "ki67WjUInKkx"
      }
    },
    {
      "cell_type": "markdown",
      "source": [
        "## A timeseries (temperature-forecasting) problem\n",
        "\n",
        "We will tackle a single big problem of predicting the temperature 24 hours in the future, given a timeseries of hourly measurement of quantities such as atmospheric pressure and humidity, recorded over the recent past by a set of sensors on the roof of a building."
      ],
      "metadata": {
        "id": "Rx7ynhrBrILD"
      }
    },
    {
      "cell_type": "markdown",
      "source": [
        "### The dataset we will work with\n",
        "\n",
        "We'll work with a weather timeseries dataset recorded at the weather station at the Max Planck Institute of Biogeochemistry in Jena. In this dataset, 14 different quantities (such as temperature, pressure, humidity, wind direction, and so on) were recorded every 10 minutes over several years. The original data goes back to 2003, but the subset of the data we'll download is limited to 2009-2016."
      ],
      "metadata": {
        "id": "Lt7decOWtCZf"
      }
    },
    {
      "cell_type": "code",
      "execution_count": null,
      "metadata": {
        "colab": {
          "base_uri": "https://localhost:8080/"
        },
        "id": "HkzBkrNGl5p6",
        "outputId": "aff3a674-4d0b-422e-b2ba-b600ccc348dd"
      },
      "outputs": [
        {
          "output_type": "stream",
          "name": "stdout",
          "text": [
            "--2023-02-27 10:10:16--  https://s3.amazonaws.com/keras-datasets/jena_climate_2009_2016.csv.zip\n",
            "Resolving s3.amazonaws.com (s3.amazonaws.com)... 52.217.133.176, 52.216.105.253, 52.216.29.182, ...\n",
            "Connecting to s3.amazonaws.com (s3.amazonaws.com)|52.217.133.176|:443... connected.\n",
            "HTTP request sent, awaiting response... 200 OK\n",
            "Length: 13565642 (13M) [application/zip]\n",
            "Saving to: ‘jena_climate_2009_2016.csv.zip’\n",
            "\n",
            "jena_climate_2009_2 100%[===================>]  12.94M  5.33MB/s    in 2.4s    \n",
            "\n",
            "2023-02-27 10:10:20 (5.33 MB/s) - ‘jena_climate_2009_2016.csv.zip’ saved [13565642/13565642]\n",
            "\n",
            "Archive:  jena_climate_2009_2016.csv.zip\n",
            "  inflating: jena_climate_2009_2016.csv  \n",
            "  inflating: __MACOSX/._jena_climate_2009_2016.csv  \n"
          ]
        }
      ],
      "source": [
        "# Downloading and uncompressing the data:\n",
        "!wget https://s3.amazonaws.com/keras-datasets/jena_climate_2009_2016.csv.zip\n",
        "!unzip jena_climate_2009_2016.csv.zip"
      ]
    },
    {
      "cell_type": "code",
      "source": [
        "# Inspecting the data of the Jena weather dataset\n",
        "import os\n",
        "fname = os.path.join(\"jena_climate_2009_2016.csv\")\n",
        "\n",
        "with open(fname) as f:\n",
        "  data = f.read()\n",
        "\n",
        "lines = data.split(\"\\n\")\n",
        "header = lines[0].split(\",\")\n",
        "lines = lines[1:]\n",
        "print(header)\n",
        "print(\"Number of weather related values:\", len(header[1:]))\n",
        "print(\"Number of timesteps:\", len(lines))\n",
        "print(lines[:1])"
      ],
      "metadata": {
        "colab": {
          "base_uri": "https://localhost:8080/"
        },
        "id": "J3RQS-IWuGNW",
        "outputId": "d72175cb-1a35-4c64-bf6d-b17531d79db0"
      },
      "execution_count": null,
      "outputs": [
        {
          "output_type": "stream",
          "name": "stdout",
          "text": [
            "['\"Date Time\"', '\"p (mbar)\"', '\"T (degC)\"', '\"Tpot (K)\"', '\"Tdew (degC)\"', '\"rh (%)\"', '\"VPmax (mbar)\"', '\"VPact (mbar)\"', '\"VPdef (mbar)\"', '\"sh (g/kg)\"', '\"H2OC (mmol/mol)\"', '\"rho (g/m**3)\"', '\"wv (m/s)\"', '\"max. wv (m/s)\"', '\"wd (deg)\"']\n",
            "Number of weather related values: 14\n",
            "Number of timesteps: 420451\n",
            "['01.01.2009 00:10:00,996.52,-8.02,265.40,-8.90,93.30,3.33,3.11,0.22,1.94,3.12,1307.75,1.03,1.75,152.30']\n"
          ]
        }
      ]
    },
    {
      "cell_type": "markdown",
      "source": [
        "Now, convert all 420,551 timesteps (lines) of data into NumPy arrays: one array for the temperature (in degree Celsius), and another one for the rest of the data - the features we will use to predict future temperatures."
      ],
      "metadata": {
        "id": "RpUCKdewwLHo"
      }
    },
    {
      "cell_type": "code",
      "source": [
        "# Parsing the data\n",
        "import numpy as np\n",
        "temperature = np.zeros((len(lines),))\n",
        "raw_data = np.zeros((len(lines), len(header) -1))\n",
        "for i, line in enumerate(lines):\n",
        "  values = [float(x) for x in line.split(\",\")[1:]]\n",
        "  temperature[i] = values[1] # We store column1 in the \"temperature\" array\n",
        "  raw_data[i, :] = values[:] # We store all columns (including the temperature) in the \"raw_data\" array."
      ],
      "metadata": {
        "id": "WmKymvJhuoRM"
      },
      "execution_count": null,
      "outputs": []
    },
    {
      "cell_type": "code",
      "source": [
        "print(temperature.shape)\n",
        "print(raw_data.shape)  "
      ],
      "metadata": {
        "colab": {
          "base_uri": "https://localhost:8080/"
        },
        "id": "f23HwZo3wzDU",
        "outputId": "14d55e48-5c03-4493-a325-9bb88cf0f260"
      },
      "execution_count": null,
      "outputs": [
        {
          "output_type": "stream",
          "name": "stdout",
          "text": [
            "(420451,)\n",
            "(420451, 14)\n"
          ]
        }
      ]
    },
    {
      "cell_type": "markdown",
      "source": [
        "Temperature span of 8 years."
      ],
      "metadata": {
        "id": "klRh2I0_3RD6"
      }
    },
    {
      "cell_type": "code",
      "source": [
        "# Plotting the temperature (in degree Celcius) over time (the data spans 8 years).\n",
        "import matplotlib.pyplot as plt\n",
        "plt.plot(range(len(temperature)), temperature);"
      ],
      "metadata": {
        "colab": {
          "base_uri": "https://localhost:8080/",
          "height": 268
        },
        "id": "jR1aS2BFx3pj",
        "outputId": "672a20d5-267c-4ef5-ebbc-384bfbc6d682"
      },
      "execution_count": null,
      "outputs": [
        {
          "output_type": "display_data",
          "data": {
            "text/plain": [
              "<Figure size 432x288 with 1 Axes>"
            ],
            "image/png": "[encoded data removed]"
          },
          "metadata": {
            "needs_background": "light"
          }
        }
      ]
    },
    {
      "cell_type": "code",
      "source": [
        "range(len(temperature))"
      ],
      "metadata": {
        "colab": {
          "base_uri": "https://localhost:8080/"
        },
        "id": "6IROG41Z1C53",
        "outputId": "6270771d-0ade-4234-d44d-e3fafe0623a6"
      },
      "execution_count": null,
      "outputs": [
        {
          "output_type": "execute_result",
          "data": {
            "text/plain": [
              "range(0, 420451)"
            ]
          },
          "metadata": {},
          "execution_count": 6
        }
      ]
    },
    {
      "cell_type": "code",
      "source": [
        "temperature[temperature < -15]"
      ],
      "metadata": {
        "colab": {
          "base_uri": "https://localhost:8080/"
        },
        "id": "Ah2FFet41YJS",
        "outputId": "aa1904ac-38b8-476c-c2ff-7299672a30ab"
      },
      "execution_count": null,
      "outputs": [
        {
          "output_type": "execute_result",
          "data": {
            "text/plain": [
              "array([-15.13, -15.2 , -15.16, ..., -15.49, -15.45, -15.11])"
            ]
          },
          "metadata": {},
          "execution_count": 7
        }
      ]
    },
    {
      "cell_type": "markdown",
      "source": [
        "Temperature span of the first 10 days. Because the data is recorded every 10 minutes you get 24 x 6 = 144 data points per day and a total of 10 x 144 = 1440 for the first 10 days."
      ],
      "metadata": {
        "id": "cDA5tmc43Xzs"
      }
    },
    {
      "cell_type": "code",
      "source": [
        "# Plotting the first 10 days of the temperature timeseries\n",
        "plt.plot(range(1440), temperature[:1440]);"
      ],
      "metadata": {
        "colab": {
          "base_uri": "https://localhost:8080/",
          "height": 265
        },
        "id": "lkx3DfiF2vxX",
        "outputId": "a46cfea6-ebb1-489d-a967-1dd1300ca0cc"
      },
      "execution_count": null,
      "outputs": [
        {
          "output_type": "display_data",
          "data": {
            "text/plain": [
              "<Figure size 432x288 with 1 Axes>"
            ],
            "image/png": "[encoded data removed]"
          },
          "metadata": {
            "needs_background": "light"
          }
        }
      ]
    },
    {
      "cell_type": "markdown",
      "source": [
        "### Always look for periodicity in your data\n",
        "\n",
        "> Periodicity over multiple timescales is an important and very common property of timeseries data. Whether you're looking at the weather, mall parking occupancy, traficto a website, sales of a grocery store, or steps logged in a fitness tracker, you'll see daily cycles and yearly cycles (human-generated data also tends to feature weekly cycles). When eploring your data, make sure to look for these patterns."
      ],
      "metadata": {
        "id": "ntKR1unP4bup"
      }
    },
    {
      "cell_type": "markdown",
      "source": [
        "With our dataset, if you were trying to predict average temperature for the next month given a few months of past data, the problem would be easy, due to the reliable year scale periodicity of the data. But looking at the data over a scale of days, the temperature looks a lot more chaotic. Is this timeseries predictable at a daily scale?"
      ],
      "metadata": {
        "id": "gvCC1G7X5ZIQ"
      }
    },
    {
      "cell_type": "markdown",
      "source": [
        "### Separation between the three sets\n",
        "\n",
        "In all our experiments, we'll use the first 50% of the data for training, the following 25% for validation, and the last 25% for testing. When working with timeseries data, it's important to use validation and test data that is more recent than the training data, because you're trying to predict the future given the past, not the reverse, and your validation/test splits should reflect that."
      ],
      "metadata": {
        "id": "6RNzxhEW6P_y"
      }
    },
    {
      "cell_type": "code",
      "source": [
        "# Compute the number of samples we'll use for each data split\n",
        "num_train_samples = int(0.5 * len(raw_data))\n",
        "num_val_samples = int(0.25 * len(raw_data))\n",
        "num_test_samples = len(raw_data) - num_train_samples - num_val_samples\n",
        "\n",
        "print(\"num_train_samples:\", num_train_samples)\n",
        "print(\"num_val_samples:\", num_val_samples)\n",
        "print(\"num_test_samples:\", num_test_samples)"
      ],
      "metadata": {
        "colab": {
          "base_uri": "https://localhost:8080/"
        },
        "id": "6zvp31QJ3-Is",
        "outputId": "f8bc1e80-7b46-498b-8b90-be0e9840a134"
      },
      "execution_count": null,
      "outputs": [
        {
          "output_type": "stream",
          "name": "stdout",
          "text": [
            "num_train_samples: 210225\n",
            "num_val_samples: 105112\n",
            "num_test_samples: 105114\n"
          ]
        }
      ]
    },
    {
      "cell_type": "markdown",
      "source": [
        "### Preparing the data\n",
        "\n",
        "The exact formulation of the problem will be as follows: given data covering the previous five days and samples once per hour, can we predict the temperature in 24 hours?\n",
        "\n",
        "First, let's preprocess the data to a format a neural network can ingest. This is easy: the data is already numerical, so you don't need to do any vectorization. But each timeseries in the data is on a different scale (for example, atmospheric pressure, measured in mbar, is around 1000, while H2OC, measured in millimoles per mole, is around 3). We'll normalize each timeseries independently so that they all take small values on a similar scale."
      ],
      "metadata": {
        "id": "fVZtxXhm841i"
      }
    },
    {
      "cell_type": "code",
      "source": [
        "# Normalizing the data\n",
        "mean = raw_data[:num_train_samples].mean(axis=0)\n",
        "raw_data -= mean\n",
        "std = raw_data[:num_train_samples].std(axis=0)\n",
        "raw_data /= std"
      ],
      "metadata": {
        "id": "eOP8p2Vd7MBN"
      },
      "execution_count": null,
      "outputs": []
    },
    {
      "cell_type": "code",
      "source": [
        "raw_data[:2]"
      ],
      "metadata": {
        "colab": {
          "base_uri": "https://localhost:8080/"
        },
        "id": "4SaOZYz2-lqI",
        "outputId": "d67bac34-252b-4370-cef5-23ae69ed600a"
      },
      "execution_count": null,
      "outputs": [
        {
          "output_type": "execute_result",
          "data": {
            "text/plain": [
              "array([[ 0.91365151, -1.92064015, -1.97449272, -1.86625827,  1.04801712,\n",
              "        -1.29131928, -1.46715535, -0.78234525, -1.47012583, -1.4720352 ,\n",
              "         2.12415558, -0.73016651, -0.77935289, -0.28119316],\n",
              "       [ 0.91953033, -1.96510495, -2.01848295, -1.91992974,  1.05403079,\n",
              "        -1.30447494, -1.48885833, -0.78444185, -1.48911721, -1.49346536,\n",
              "         2.1729195 , -0.93230685, -0.88696976, -0.46989368]])"
            ]
          },
          "metadata": {},
          "execution_count": 11
        }
      ]
    },
    {
      "cell_type": "markdown",
      "source": [
        "### Understanding `timeseries_dataset_from_array()`\n",
        "\n",
        "To understand what `timeseries_dataset_from_array()` does, let's look at a simple example. The general idea is that you provide an array of timeseries data (the `data` argument), and `timeseries_dataset_from_array()` gives you windows extracted from the original timeseries (we'll call them \"sequences\").\n",
        "\n",
        "For example, if you use data = `[0 1 2 3 4 5 6]` and `sequence_length=3`, then `timeseries_dataset_from_array()` will generate the following samples: `[0 1 2], [1 2 3], [3 4 5], [4 5 6]`.\n",
        "\n",
        "You can also pass a `targets` argument (an array) to `timeseries_dataset_from_array().` The first entry of the `targets` array should be the same array as `data`, offset by some amount.\n",
        "\n",
        "For instance, with `data = [0 1 2 3 4 5 6...]` and `sequence_length=3`, you could create a dataset to predict the next step in the series by passing `targets = [3 4 5 6...]`."
      ],
      "metadata": {
        "id": "Qch3CauRGsvM"
      }
    },
    {
      "cell_type": "code",
      "source": [
        "import numpy as np\n",
        "from tensorflow import keras\n",
        "int_sequence = np.arange(10)\n",
        "dummy_dataset = keras.utils.timeseries_dataset_from_array(\n",
        "    data=int_sequence[:-3], # [0 1 2 3 4 5 6]\n",
        "    targets=int_sequence[3:], # [3 4 5 6 7 8 9]\n",
        "    sequence_length=3, # The sequence will be 3 steps long\n",
        "    batch_size=2, # The sequence will be batched in batches of size 2\n",
        ")\n",
        "\n",
        "for inputs, targets in dummy_dataset:\n",
        "  for i in range(inputs.shape[0]):\n",
        "    print([int(x) for x in inputs[i]], int(targets[i]))"
      ],
      "metadata": {
        "colab": {
          "base_uri": "https://localhost:8080/"
        },
        "id": "Scy22Yig-nA3",
        "outputId": "745e84eb-cda0-45a5-dde2-8039f27eb794"
      },
      "execution_count": null,
      "outputs": [
        {
          "output_type": "stream",
          "name": "stdout",
          "text": [
            "[0, 1, 2] 3\n",
            "[1, 2, 3] 4\n",
            "[2, 3, 4] 5\n",
            "[3, 4, 5] 6\n",
            "[4, 5, 6] 7\n"
          ]
        }
      ]
    },
    {
      "cell_type": "code",
      "source": [
        "print(int_sequence[:-3])\n",
        "print(int_sequence[3:])"
      ],
      "metadata": {
        "colab": {
          "base_uri": "https://localhost:8080/"
        },
        "id": "rNrare5MBtLd",
        "outputId": "02260797-d82e-447c-8350-283b5057cac6"
      },
      "execution_count": null,
      "outputs": [
        {
          "output_type": "stream",
          "name": "stdout",
          "text": [
            "[0 1 2 3 4 5 6]\n",
            "[3 4 5 6 7 8 9]\n"
          ]
        }
      ]
    },
    {
      "cell_type": "markdown",
      "source": [
        "Instantiating datasets for training, validation, and testing"
      ],
      "metadata": {
        "id": "wY43gU6OM9Gr"
      }
    },
    {
      "cell_type": "code",
      "source": [
        "sampling_rate = 6\n",
        "sequence_length = 120\n",
        "delay = sampling_rate * (sequence_length + 24 - 1)\n",
        "batch_size = 256\n",
        "\n",
        "train_dataset = keras.utils.timeseries_dataset_from_array(\n",
        "    raw_data[:-delay],\n",
        "    targets=temperature[delay:],\n",
        "    sampling_rate=sampling_rate,\n",
        "    sequence_length=sequence_length,\n",
        "    shuffle=True,\n",
        "    batch_size=batch_size,\n",
        "    start_index=0,\n",
        "    end_index=num_train_samples\n",
        ")\n",
        "\n",
        "val_dataset = keras.utils.timeseries_dataset_from_array(\n",
        "    raw_data[:-delay],\n",
        "    targets=temperature[delay:],\n",
        "    sampling_rate=sampling_rate,\n",
        "    sequence_length=sequence_length,\n",
        "    shuffle=True,\n",
        "    batch_size=batch_size,\n",
        "    start_index=num_train_samples,\n",
        "    end_index=num_train_samples + num_val_samples\n",
        ")\n",
        "\n",
        "test_dataset = keras.utils.timeseries_dataset_from_array(\n",
        "    raw_data[:-delay],\n",
        "    targets=temperature[delay:],\n",
        "    sampling_rate=sampling_rate,\n",
        "    sequence_length=sequence_length,\n",
        "    shuffle=True,\n",
        "    batch_size=batch_size,\n",
        "    start_index=num_train_samples + num_val_samples\n",
        ")"
      ],
      "metadata": {
        "id": "B_kbxBN6CM6r"
      },
      "execution_count": null,
      "outputs": []
    },
    {
      "cell_type": "code",
      "source": [
        "# Inspecting the output of one of our datasets\n",
        "for samples, targets in train_dataset:\n",
        "  print(\"samples shape:\", samples.shape)\n",
        "  print(\"targets shape:\", targets.shape)\n",
        "  break"
      ],
      "metadata": {
        "colab": {
          "base_uri": "https://localhost:8080/"
        },
        "id": "rPKUYPOTOyn_",
        "outputId": "1858ad55-ba33-4485-bd37-e0671ff4f542"
      },
      "execution_count": null,
      "outputs": [
        {
          "output_type": "stream",
          "name": "stdout",
          "text": [
            "samples shape: (256, 120, 14)\n",
            "targets shape: (256,)\n"
          ]
        }
      ]
    },
    {
      "cell_type": "code",
      "source": [
        "# np.mean(np.abs(preds - targets))\n",
        "\n",
        "# Computing the common-sense baseline MAE\n",
        "def evaluate_naive_method(dataset):\n",
        "  total_abs_err = 0.\n",
        "  samples_seen = 0\n",
        "  for samples, targets in dataset:\n",
        "    preds = samples[:, -1, 1] * std[1] + mean[1]\n",
        "    total_abs_err += np.sum(np.abs(preds - targets))\n",
        "    samples_seen += samples.shape[0]\n",
        "  return total_abs_err / samples_seen\n",
        "\n",
        "print(f\"Validation MAE: {evaluate_naive_method(val_dataset):.2f}\") \n",
        "print(f\"Test MAE: {evaluate_naive_method(test_dataset):.2f}\")"
      ],
      "metadata": {
        "colab": {
          "base_uri": "https://localhost:8080/"
        },
        "id": "4nNeYDVUR5eW",
        "outputId": "70bcfe07-4e30-442d-f2d6-3eaa96d115fe"
      },
      "execution_count": null,
      "outputs": [
        {
          "output_type": "stream",
          "name": "stdout",
          "text": [
            "Validation MAE: 2.44\n",
            "Test MAE: 2.62\n"
          ]
        }
      ]
    },
    {
      "cell_type": "markdown",
      "source": [
        "This common-sense baseline achieves a validation MAE of 2.44 degrees Celsius and a test MAE of 2.62 degrees Celsius. So if you always assume that the temperature 24 hours in the future will be the same as it is now, you will be off by two and a half degrees on average."
      ],
      "metadata": {
        "id": "hT3mbmkMUcKw"
      }
    },
    {
      "cell_type": "markdown",
      "source": [
        "### Let's try a basic machine learning model\n",
        "\n",
        "In the same way that it's useful to establish a common-sense baseline before trying machine-learning approaches, it's useful to try simple, cheap machine learning models (such as small, densely connected networks) before looking into complicated and computationally expensive models such as RNNs."
      ],
      "metadata": {
        "id": "FoePXQkEclxN"
      }
    },
    {
      "cell_type": "code",
      "source": [
        "# Traininf and evaluating a densely connected model\n",
        "from tensorflow import keras\n",
        "from tensorflow.keras import layers\n",
        "\n",
        "inputs = keras.Input(shape=(sequence_length, raw_data.shape[-1]))\n",
        "x = layers.Flatten()(inputs)\n",
        "x = layers.Dense(16, activation=\"relu\")(x)\n",
        "outputs = layers.Dense(1)(x)\n",
        "model = keras.Model(inputs, outputs)\n",
        "\n",
        "callbacks = [\n",
        "    keras.callbacks.ModelCheckpoint(\"jena_dense.keras\",\n",
        "                                    save_best_only=True) \n",
        "]\n",
        "model.compile(optimizer=\"rmsprop\", loss=\"mse\", metrics=[\"mae\"])\n",
        "history = model.fit(train_dataset,\n",
        "                    epochs=10,\n",
        "                    validation_data=val_dataset,\n",
        "                    callbacks=callbacks)\n",
        "\n",
        "model = keras.models.load_model(\"jena_dense.keras\")\n",
        "print(f\"Test MAE: {model.evaluate(test_dataset)[1]:.2f}\")"
      ],
      "metadata": {
        "colab": {
          "base_uri": "https://localhost:8080/"
        },
        "id": "NEqiFIi-Scy6",
        "outputId": "6e20044e-d68d-41b9-d6d3-d988c2a60ccb"
      },
      "execution_count": null,
      "outputs": [
        {
          "output_type": "stream",
          "name": "stdout",
          "text": [
            "Epoch 1/10\n",
            "819/819 [==============================] - 44s 48ms/step - loss: 11.9766 - mae: 2.6766 - val_loss: 14.3345 - val_mae: 3.0159\n",
            "Epoch 2/10\n",
            "819/819 [==============================] - 39s 47ms/step - loss: 8.8010 - mae: 2.3317 - val_loss: 12.8991 - val_mae: 2.8426\n",
            "Epoch 3/10\n",
            "819/819 [==============================] - 39s 48ms/step - loss: 8.1256 - mae: 2.2443 - val_loss: 10.2721 - val_mae: 2.5118\n",
            "Epoch 4/10\n",
            "819/819 [==============================] - 48s 58ms/step - loss: 7.7266 - mae: 2.1906 - val_loss: 10.6718 - val_mae: 2.5735\n",
            "Epoch 5/10\n",
            "819/819 [==============================] - 48s 58ms/step - loss: 7.4044 - mae: 2.1456 - val_loss: 13.1648 - val_mae: 2.8760\n",
            "Epoch 6/10\n",
            "819/819 [==============================] - 40s 49ms/step - loss: 7.1945 - mae: 2.1169 - val_loss: 11.1490 - val_mae: 2.6351\n",
            "Epoch 7/10\n",
            "819/819 [==============================] - 40s 49ms/step - loss: 7.0022 - mae: 2.0871 - val_loss: 11.8926 - val_mae: 2.7256\n",
            "Epoch 8/10\n",
            "819/819 [==============================] - 40s 49ms/step - loss: 6.8691 - mae: 2.0683 - val_loss: 10.6483 - val_mae: 2.5685\n",
            "Epoch 9/10\n",
            "819/819 [==============================] - 39s 47ms/step - loss: 6.7366 - mae: 2.0492 - val_loss: 11.7453 - val_mae: 2.7135\n",
            "Epoch 10/10\n",
            "819/819 [==============================] - 39s 48ms/step - loss: 6.6473 - mae: 2.0358 - val_loss: 12.9885 - val_mae: 2.8453\n",
            "405/405 [==============================] - 14s 33ms/step - loss: 11.4843 - mae: 2.6778\n",
            "Test MAE: 2.68\n",
            "Epoch 1/10\n",
            "819/819 [==============================] - 40s 48ms/step - loss: 13.1616 - mae: 2.8091 - val_loss: 11.1478 - val_mae: 2.6341\n",
            "Epoch 2/10\n",
            "819/819 [==============================] - 40s 49ms/step - loss: 9.3850 - mae: 2.4065 - val_loss: 10.1901 - val_mae: 2.5247\n",
            "Epoch 3/10\n",
            "819/819 [==============================] - 45s 54ms/step - loss: 8.6534 - mae: 2.3121 - val_loss: 10.1996 - val_mae: 2.5365\n",
            "Epoch 4/10\n",
            "819/819 [==============================] - 42s 51ms/step - loss: 8.2135 - mae: 2.2559 - val_loss: 12.5558 - val_mae: 2.8196\n",
            "Epoch 5/10\n",
            "819/819 [==============================] - 58s 70ms/step - loss: 7.8755 - mae: 2.2090 - val_loss: 10.2679 - val_mae: 2.5476\n",
            "Epoch 6/10\n",
            "819/819 [==============================] - 58s 70ms/step - loss: 7.6023 - mae: 2.1682 - val_loss: 11.0527 - val_mae: 2.6455\n",
            "Epoch 7/10\n",
            "819/819 [==============================] - 50s 61ms/step - loss: 7.3534 - mae: 2.1325 - val_loss: 10.5929 - val_mae: 2.5835\n",
            "Epoch 8/10\n",
            "819/819 [==============================] - 42s 51ms/step - loss: 7.1967 - mae: 2.1104 - val_loss: 11.5709 - val_mae: 2.7022\n",
            "Epoch 9/10\n",
            "819/819 [==============================] - 41s 50ms/step - loss: 7.0409 - mae: 2.0872 - val_loss: 10.7559 - val_mae: 2.5982\n",
            "Epoch 10/10\n",
            "819/819 [==============================] - 40s 49ms/step - loss: 6.8976 - mae: 2.0696 - val_loss: 12.8724 - val_mae: 2.8488\n",
            "405/405 [==============================] - 14s 33ms/step - loss: 11.0450 - mae: 2.6134\n",
            "Test MAE: 2.61\n"
          ]
        }
      ]
    },
    {
      "cell_type": "code",
      "source": [
        "# Let's display the loss curves for validation and training\n",
        "import matplotlib.pyplot as plt\n",
        "loss = history.history[\"mae\"]\n",
        "val_loss = history.history[\"val_mae\"]\n",
        "epochs = range(1, len(loss) + 1)\n",
        "plt.figure()\n",
        "plt.plot(epochs, loss, \"bo\", label=\"Training MAE\")\n",
        "plt.plot(epochs, val_loss, \"b\", label=\"Validation MAE\")\n",
        "plt.title(\"Training and validation MAE\")\n",
        "plt.legend()\n",
        "plt.show()"
      ],
      "metadata": {
        "colab": {
          "base_uri": "https://localhost:8080/",
          "height": 281
        },
        "id": "WcoVG0fNht_K",
        "outputId": "a4ede132-7e0d-4324-eeb1-ced33d9759c4"
      },
      "execution_count": null,
      "outputs": [
        {
          "output_type": "display_data",
          "data": {
            "text/plain": [
              "<Figure size 432x288 with 1 Axes>"
            ],
            "image/png": "[encoded data removed]"
          },
          "metadata": {
            "needs_background": "light"
          }
        }
      ]
    },
    {
      "cell_type": "markdown",
      "source": [
        "### Let's try a 1D convolutional model"
      ],
      "metadata": {
        "id": "Tp3Mygu9j0Xr"
      }
    },
    {
      "cell_type": "code",
      "source": [
        "inputs = keras.Input(shape=(sequence_length, raw_data.shape[-1]))\n",
        "x = layers.Conv1D(8, 24, activation=\"relu\")(inputs)\n",
        "x = layers.MaxPooling1D(2)(x)\n",
        "x = layers.Conv1D(8, 12, activation=\"relu\")(x)\n",
        "x = layers.MaxPooling1D(2)(x)\n",
        "x = layers.Conv1D(8, 6, activation=\"relu\")(x)\n",
        "x = layers.GlobalAveragePooling1D()(x)\n",
        "outputs = layers.Dense(1)(x)\n",
        "model = keras.Model(inputs, outputs)\n",
        "\n",
        "callbacks = [\n",
        "    keras.callbacks.ModelCheckpoint(\"jena_conv.keras\",\n",
        "                                    save_best_only=True)\n",
        "]\n",
        "model.compile(optimizer=\"rmsprop\", loss=\"mse\", metrics=[\"mae\"])\n",
        "history = model.fit(train_dataset,\n",
        "                    epochs=10,\n",
        "                    validation_data=val_dataset,\n",
        "                    callbacks=callbacks)\n",
        "\n",
        "model = keras.models.load_model(\"jena_conv.keras\")\n",
        "print(f\"Test MAE: {model.evaluate(test_dataset)[1]:.2f}\")"
      ],
      "metadata": {
        "colab": {
          "base_uri": "https://localhost:8080/"
        },
        "id": "KjMaFqHHkTxs",
        "outputId": "870549d0-a6b7-46e5-f264-08a4ea819541"
      },
      "execution_count": null,
      "outputs": [
        {
          "output_type": "stream",
          "name": "stdout",
          "text": [
            "Epoch 1/10\n",
            "819/819 [==============================] - 52s 54ms/step - loss: 23.4163 - mae: 3.7497 - val_loss: 18.5038 - val_mae: 3.3719\n",
            "Epoch 2/10\n",
            "819/819 [==============================] - 41s 50ms/step - loss: 15.3334 - mae: 3.1108 - val_loss: 14.4850 - val_mae: 3.0091\n",
            "Epoch 3/10\n",
            "819/819 [==============================] - 41s 50ms/step - loss: 13.8432 - mae: 2.9452 - val_loss: 18.3201 - val_mae: 3.3709\n",
            "Epoch 4/10\n",
            "819/819 [==============================] - 40s 49ms/step - loss: 12.8034 - mae: 2.8250 - val_loss: 15.8421 - val_mae: 3.1188\n",
            "Epoch 5/10\n",
            "819/819 [==============================] - 41s 49ms/step - loss: 11.9582 - mae: 2.7293 - val_loss: 17.9156 - val_mae: 3.3131\n",
            "Epoch 6/10\n",
            "819/819 [==============================] - 41s 49ms/step - loss: 11.3566 - mae: 2.6586 - val_loss: 16.8926 - val_mae: 3.2473\n",
            "Epoch 7/10\n",
            "819/819 [==============================] - 40s 49ms/step - loss: 10.9323 - mae: 2.6062 - val_loss: 14.9888 - val_mae: 3.0558\n",
            "Epoch 8/10\n",
            "819/819 [==============================] - 49s 59ms/step - loss: 10.5824 - mae: 2.5621 - val_loss: 16.4308 - val_mae: 3.1794\n",
            "Epoch 9/10\n",
            "819/819 [==============================] - 42s 50ms/step - loss: 10.2979 - mae: 2.5264 - val_loss: 15.7170 - val_mae: 3.1301\n",
            "Epoch 10/10\n",
            "819/819 [==============================] - 40s 49ms/step - loss: 10.0579 - mae: 2.4994 - val_loss: 17.7770 - val_mae: 3.3146\n",
            "405/405 [==============================] - 13s 32ms/step - loss: 16.1278 - mae: 3.1794\n",
            "Test MAE: 3.18\n"
          ]
        }
      ]
    },
    {
      "cell_type": "code",
      "source": [
        "# Let's display the loss curves for validation and training\n",
        "import matplotlib.pyplot as plt\n",
        "loss = history.history[\"mae\"]\n",
        "val_loss = history.history[\"val_mae\"]\n",
        "epochs = range(1, len(loss) + 1)\n",
        "plt.figure()\n",
        "plt.plot(epochs, loss, \"bo\", label=\"Training MAE\")\n",
        "plt.plot(epochs, val_loss, \"b\", label=\"Validation MAE\")\n",
        "plt.title(\"Training and validation MAE\")\n",
        "plt.legend()\n",
        "plt.show()"
      ],
      "metadata": {
        "colab": {
          "base_uri": "https://localhost:8080/",
          "height": 281
        },
        "id": "wVMjb6f2mZuO",
        "outputId": "5d0268b2-7f98-4b57-fe79-54080283389c"
      },
      "execution_count": null,
      "outputs": [
        {
          "output_type": "display_data",
          "data": {
            "text/plain": [
              "<Figure size 432x288 with 1 Axes>"
            ],
            "image/png": "[encoded data removed]"
          },
          "metadata": {
            "needs_background": "light"
          }
        }
      ]
    },
    {
      "cell_type": "markdown",
      "source": [
        "### A first recurrent baseline\n",
        "\n",
        "Neither the fully connected approach nor the convolutional approach did well, but that doesn't mean machine learning isn't applicable to this problem. The densely connected approach first flattened the timeseries, which removed the notion of time from the input data. The convolutional approach treated every segment of the data in the same way, even applying pooling, which destroyed order information. Let's instead look at the data as what it is: a sequence, where casuality and order matter."
      ],
      "metadata": {
        "id": "8NWGnPk1oTM8"
      }
    },
    {
      "cell_type": "code",
      "source": [
        "# A simple LSTM-based model\n",
        "inputs = keras.Input(shape=(sequence_length, raw_data.shape[-1]))\n",
        "x = layers.LSTM(16)(inputs)\n",
        "outputs = layers.Dense(1)(x)\n",
        "model = keras.Model(inputs, outputs)\n",
        "\n",
        "callbacks = [\n",
        "    keras.callbacks.ModelCheckpoint(\"jena_lstm.keras\",\n",
        "                                    save_best_only=True)\n",
        "]\n",
        "model.compile(optimizer=\"rmsprop\", loss=\"mse\", metrics=[\"mae\"])\n",
        "history = model.fit(train_dataset,\n",
        "                    epochs=10,\n",
        "                    validation_data=val_dataset,\n",
        "                    callbacks=callbacks)\n",
        "\n",
        "model = keras.models.load_model(\"jena_lstm.keras\")\n",
        "print(f\"Test MAE: {model.evaluate(test_dataset)[1]:.2f}\")"
      ],
      "metadata": {
        "colab": {
          "base_uri": "https://localhost:8080/"
        },
        "id": "ScprI4cXmlBp",
        "outputId": "786420c0-14fc-489c-dd8d-6e7414dcf2e5"
      },
      "execution_count": null,
      "outputs": [
        {
          "output_type": "stream",
          "name": "stdout",
          "text": [
            "Epoch 1/10\n",
            "819/819 [==============================] - 49s 56ms/step - loss: 41.0268 - mae: 4.6681 - val_loss: 12.3852 - val_mae: 2.6881\n",
            "Epoch 2/10\n",
            "819/819 [==============================] - 49s 60ms/step - loss: 10.9383 - mae: 2.5650 - val_loss: 9.4034 - val_mae: 2.3886\n",
            "Epoch 3/10\n",
            "819/819 [==============================] - 43s 52ms/step - loss: 9.7556 - mae: 2.4345 - val_loss: 9.2579 - val_mae: 2.3702\n",
            "Epoch 4/10\n",
            "819/819 [==============================] - 43s 53ms/step - loss: 9.4247 - mae: 2.3898 - val_loss: 9.1678 - val_mae: 2.3592\n",
            "Epoch 5/10\n",
            "819/819 [==============================] - 43s 53ms/step - loss: 9.1467 - mae: 2.3486 - val_loss: 9.3929 - val_mae: 2.3866\n",
            "Epoch 6/10\n",
            "819/819 [==============================] - 43s 52ms/step - loss: 8.9288 - mae: 2.3168 - val_loss: 9.3538 - val_mae: 2.3759\n",
            "Epoch 7/10\n",
            "819/819 [==============================] - 43s 52ms/step - loss: 8.7038 - mae: 2.2845 - val_loss: 9.4234 - val_mae: 2.3842\n",
            "Epoch 8/10\n",
            "819/819 [==============================] - 43s 52ms/step - loss: 8.4960 - mae: 2.2556 - val_loss: 9.5846 - val_mae: 2.4050\n",
            "Epoch 9/10\n",
            "819/819 [==============================] - 44s 54ms/step - loss: 8.3164 - mae: 2.2302 - val_loss: 9.9591 - val_mae: 2.4458\n",
            "Epoch 10/10\n",
            "819/819 [==============================] - 42s 52ms/step - loss: 8.1455 - mae: 2.2082 - val_loss: 9.7668 - val_mae: 2.4332\n",
            "405/405 [==============================] - 14s 34ms/step - loss: 12.0393 - mae: 2.5916\n",
            "Test MAE: 2.59\n"
          ]
        }
      ]
    },
    {
      "cell_type": "code",
      "source": [
        "# Let's display the loss curves for validation and training\n",
        "import matplotlib.pyplot as plt\n",
        "loss = history.history[\"mae\"][1:]\n",
        "val_loss = history.history[\"val_mae\"][1:]\n",
        "epochs = range(1, len(loss) + 1)\n",
        "plt.figure()\n",
        "plt.plot(epochs, loss, \"bo\", label=\"Training MAE\")\n",
        "plt.plot(epochs, val_loss, \"b\", label=\"Validation MAE\")\n",
        "plt.title(\"Training and validation MAE\")\n",
        "plt.legend()\n",
        "plt.show()"
      ],
      "metadata": {
        "colab": {
          "base_uri": "https://localhost:8080/",
          "height": 281
        },
        "id": "IYRaPwhkqV_Q",
        "outputId": "6bba660a-7276-448a-cb7f-8a77ca311e1e"
      },
      "execution_count": null,
      "outputs": [
        {
          "output_type": "display_data",
          "data": {
            "text/plain": [
              "<Figure size 432x288 with 1 Axes>"
            ],
            "image/png": "[encoded data removed]"
          },
          "metadata": {
            "needs_background": "light"
          }
        }
      ]
    },
    {
      "cell_type": "markdown",
      "source": [
        "## Understanding recurrent neural networks\n",
        "\n",
        "A major characteristic of all neural networks such as densely connected networks and convnets, is that they have no memory. Each input shown to them is processed independently, with no state kept between inputs. With such networks, in order to process a sequence or a temporal seires of data points, you have to show the entire sequence to the network at once: turn it into a single data point. For instance, this is what we did in the densely connected network example: we flattened our five days of data into a single large vector and processed it in one go. Such networks are called *feedforward networks*.\n",
        "\n",
        "In contrast, as you're reading the present sentence, you're processing it word by word - or rather, eye saccade by eye saccade - while keeping memories of what came before; this gives you a fliud representation of the meaning conveyed by this sentence.\n",
        "\n",
        "Biological intelligence process information incrementally while maintaining an internal model of what it's processing, built from past information and constantly updated as new information comes in.\n",
        "\n",
        "A *recurrent neural network* (RNN) adopts the same principle, albeit in an extremely simplified version: it processes sequences by iterating through the sequence elements and maintaining a *state* that contains information relative to what it has seen so far. In effect, an RNN is a type of neural network that has an internal *loop*.\n",
        "\n",
        "![image.png](data:image/png;base64,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)\n",
        "\n"
      ],
      "metadata": {
        "id": "MAtzo9R9tRLi"
      }
    },
    {
      "cell_type": "code",
      "source": [
        "# # Pseudocode RNN\n",
        "# state_t = 0 # The state at t\n",
        "# for input_t in input_sequence: # Iterates over sequence elements\n",
        "#   output_t = f(input_t, state_t)\n",
        "#   state_t = output_t # The previous output becomes the state for the next iteration."
      ],
      "metadata": {
        "id": "Yn4XvD7bqi0G"
      },
      "execution_count": null,
      "outputs": []
    },
    {
      "cell_type": "code",
      "source": [
        "# # More detailed pseudocode for the RNN\n",
        "# state_t = 0\n",
        "# for input_t in input_sequence:\n",
        "#   output_t = activation(dot(W, input_t) + dot(U, state_t) + b)\n",
        "#   state_t = output_t"
      ],
      "metadata": {
        "id": "lxHKdq7nxrjZ"
      },
      "execution_count": null,
      "outputs": []
    },
    {
      "cell_type": "code",
      "source": [
        "# NumPy implemetation of a simple RNN\n",
        "import numpy as np\n",
        "\n",
        "timesteps = 100\n",
        "input_features = 32\n",
        "output_features = 64\n",
        "inputs = np.random.random((timesteps, input_features))\n",
        "state_t = np.zeros((output_features,))\n",
        "W = np.random.random((output_features, input_features))\n",
        "U = np.random.random((output_features, output_features))\n",
        "b = np.random.random((output_features,))\n",
        "successive_outputs = []\n",
        "for input_t in inputs:\n",
        "  output_t = np.tanh(np.dot(W, input_t) + np.dot(U, state_t) + b)\n",
        "  successive_outputs.append(output_t)\n",
        "  state_t = output_t\n",
        "final_output_sequence = np.stack(successive_outputs, axis=0)"
      ],
      "metadata": {
        "id": "wLJcIAyByg2Q"
      },
      "execution_count": null,
      "outputs": []
    },
    {
      "cell_type": "code",
      "source": [
        "# An RNN layer that can process sequences of any length\n",
        "num_features = 14\n",
        "inputs = keras.Input(shape=(None, num_features))\n",
        "outputs = keras.layers.SimpleRNN(16)(inputs)"
      ],
      "metadata": {
        "id": "bcg9CAg07vlI"
      },
      "execution_count": null,
      "outputs": []
    },
    {
      "cell_type": "markdown",
      "source": [
        "All recurrent layers in Keras (SimpleRNN, LSTM, GRU) can be run in two different modes: they can return either full sequences of successive outputs for each time step (a rank-3 tensor of shape `(batch_size, timesteps, output_features)`) or return only the last output for each input sequence (a rank-2 tensor of shape `(batch_size, output_features)`). "
      ],
      "metadata": {
        "id": "WSfAx1MfX6AF"
      }
    },
    {
      "cell_type": "code",
      "source": [
        "# An RNN layer that returns only its last output step\n",
        "from keras import layers\n",
        "num_features = 14\n",
        "steps = 120\n",
        "inputs = keras.Input(shape=(steps, num_features))\n",
        "outputs = layers.SimpleRNN(16, return_sequences=False)(inputs)\n",
        "outputs.shape"
      ],
      "metadata": {
        "colab": {
          "base_uri": "https://localhost:8080/"
        },
        "id": "EbUmXbtbAGbZ",
        "outputId": "802c9acb-52fe-4052-8798-dc365ee5a99a"
      },
      "execution_count": null,
      "outputs": [
        {
          "output_type": "execute_result",
          "data": {
            "text/plain": [
              "TensorShape([None, 16])"
            ]
          },
          "metadata": {},
          "execution_count": 24
        }
      ]
    },
    {
      "cell_type": "code",
      "source": [
        "# An RNN layer that returns its full output sequence\n",
        "num_features = 14\n",
        "steps = 120\n",
        "inputs = keras.Input(shape=(steps, num_features))\n",
        "outputs = layers.SimpleRNN(16, return_sequences=True)(inputs)\n",
        "outputs.shape"
      ],
      "metadata": {
        "colab": {
          "base_uri": "https://localhost:8080/"
        },
        "id": "hnKJXwDbXhms",
        "outputId": "ae9cac3c-7bdc-4f90-803e-9282b9c36224"
      },
      "execution_count": null,
      "outputs": [
        {
          "output_type": "execute_result",
          "data": {
            "text/plain": [
              "TensorShape([None, 120, 16])"
            ]
          },
          "metadata": {},
          "execution_count": 25
        }
      ]
    },
    {
      "cell_type": "code",
      "source": [
        "# Stacking RNN layers to increase the representational power of the network\n",
        "inputs = keras.Input(shape=(steps, num_features))\n",
        "x = layers.SimpleRNN(16, return_sequences=True)(inputs)\n",
        "x = layers.SimpleRNN(16, return_sequences=True)(x)\n",
        "outputs = layers.SimpleRNN(16)(x)\n",
        "outputs.shape"
      ],
      "metadata": {
        "colab": {
          "base_uri": "https://localhost:8080/"
        },
        "id": "JXbeHQsgZL9M",
        "outputId": "69861609-42c2-4885-a726-2cb7cef9d2e8"
      },
      "execution_count": null,
      "outputs": [
        {
          "output_type": "execute_result",
          "data": {
            "text/plain": [
              "TensorShape([None, 16])"
            ]
          },
          "metadata": {},
          "execution_count": 30
        }
      ]
    },
    {
      "cell_type": "markdown",
      "source": [
        "#### Idea behind LSTM\n",
        "\n",
        "LSTM layer is a variant of the SimpleRNN layer but it adds a way to carry information across many timesteps. Imagine a conveyor belt running parallel to the sequence you're processing. Information from the sequence can jump onto the conveyor brlt at any point, be transported to a later timestep, and jump off, intact, when you need it. This is essentially what LSTM does: it save information for later, thus preventing older signals from gradually vanishing during processing."
      ],
      "metadata": {
        "id": "WG5Y68uoav3m"
      }
    },
    {
      "cell_type": "code",
      "source": [
        "# Training and evaluating a dropout-regularized LSTM\n",
        "inputs = keras.Input(shape=(sequence_length, raw_data.shape[-1]))\n",
        "x = layers.LSTM(32, recurrent_dropout=0.25, unroll=True)(inputs)\n",
        "x = layers.Dropout(0.5)(x)\n",
        "outputs = layers.Dense(1)(x)\n",
        "model = keras.Model(inputs, outputs)\n",
        "\n",
        "callbacks = [\n",
        "    keras.callbacks.ModelCheckpoint(\"jena_lstm_dropout.keras\",\n",
        "                                    save_best_only=True)\n",
        "]\n",
        "model.compile(optimizer=\"rmsprop\", loss=\"mse\", metrics=[\"mae\"])\n",
        "history = model.fit(train_dataset,\n",
        "                    epochs=50,\n",
        "                    validation_data=val_dataset,\n",
        "                    callbacks=callbacks)"
      ],
      "metadata": {
        "id": "dzmPPvJ8Z3hP"
      },
      "execution_count": null,
      "outputs": []
    },
    {
      "cell_type": "code",
      "source": [
        "# Training and evaluating a dropout-regularized, stacked GRU model\n",
        "inputs = keras.Input(shape=(sequence_length, raw_data.shape[-1]))\n",
        "x = layers.GRU(32, recurrent_dropout=0.5, return_sequences=True)(inputs) \n",
        "x = layers.GRU(32, recurrent_dropout=0.5)(x)\n",
        "x = layers.Dropout(0.5)(x)\n",
        "outputs = layers.Dense(1)(x)\n",
        "model = keras.Model(inputs, outputs)\n",
        "\n",
        "callbacks = [\n",
        "    keras.callbacks.ModelCheckpoint(\"jena_stacked_gru_dropout.keras\",\n",
        "                                    save_best_only=True)\n",
        "]\n",
        "model.compile(optimizer=\"rmsprop\", loss=\"mse\", metrics=[\"mae\"])\n",
        "history = model.fit(train_dataset,\n",
        "                    epochs=50,\n",
        "                    validation_data=val_dataset,\n",
        "                    callbacks=callbacks)\n",
        "model = keras.models.load_model(\"jena_stacked_gru_dropout.keras\")\n",
        "print(f\"Test MAE: {model.evaluate(test_dataset)[1]:.2f}\")"
      ],
      "metadata": {
        "id": "-XrjwFP9inmD"
      },
      "execution_count": null,
      "outputs": []
    },
    {
      "cell_type": "code",
      "source": [
        "sequence_length, raw_data.shape[-1]"
      ],
      "metadata": {
        "colab": {
          "base_uri": "https://localhost:8080/"
        },
        "id": "QF7TJE-SxQyB",
        "outputId": "f73414b5-870f-4e61-f96d-d7e4d7c7d053"
      },
      "execution_count": null,
      "outputs": [
        {
          "output_type": "execute_result",
          "data": {
            "text/plain": [
              "(120, 14)"
            ]
          },
          "metadata": {},
          "execution_count": 34
        }
      ]
    },
    {
      "cell_type": "code",
      "source": [
        "# Training and evaluating a bidirectional LSTM\n",
        "inputs = keras.Input(shape=(sequence_length, raw_data.shape[-1]))\n",
        "x = layers.Bidirectional(layers.LSTM(16))(inputs)\n",
        "outputs = layers.Dense(1)(x)\n",
        "model = keras.Model(inputs, outputs) \n",
        "model.compile(optimizer=\"rmsprop\", loss=\"mse\", metrics=[\"mae\"])\n",
        "history = model.fit(train_dataset,\n",
        "                    epochs=10,\n",
        "                    validation_data=val_dataset)"
      ],
      "metadata": {
        "colab": {
          "base_uri": "https://localhost:8080/"
        },
        "id": "Fz2qE1bLxeOr",
        "outputId": "48a0759b-a55c-436d-a62f-da9451597a60"
      },
      "execution_count": null,
      "outputs": [
        {
          "output_type": "stream",
          "name": "stdout",
          "text": [
            "Epoch 1/10\n",
            "819/819 [==============================] - 61s 68ms/step - loss: 27.5754 - mae: 3.7718 - val_loss: 10.9982 - val_mae: 2.5782\n",
            "Epoch 2/10\n",
            "819/819 [==============================] - 48s 58ms/step - loss: 9.5160 - mae: 2.4046 - val_loss: 10.3499 - val_mae: 2.5046\n",
            "Epoch 3/10\n",
            "819/819 [==============================] - 48s 58ms/step - loss: 8.5983 - mae: 2.2762 - val_loss: 10.1200 - val_mae: 2.4902\n",
            "Epoch 4/10\n",
            "417/819 [==============>...............] - ETA: 16s - loss: 8.2458 - mae: 2.2280"
          ]
        }
      ]
    },
    {
      "cell_type": "code",
      "source": [],
      "metadata": {
        "id": "Dev_FeJG1GW0"
      },
      "execution_count": null,
      "outputs": []
    }
  ]
}