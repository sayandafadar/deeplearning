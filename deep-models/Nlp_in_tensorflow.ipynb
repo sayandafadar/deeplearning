{
  "nbformat": 4,
  "nbformat_minor": 0,
  "metadata": {
    "colab": {
      "provenance": []
    },
    "kernelspec": {
      "name": "python3",
      "display_name": "Python 3"
    },
    "language_info": {
      "name": "python"
    },
    "accelerator": "GPU",
    "gpuClass": "standard"
  },
  "cells": [
    {
      "cell_type": "markdown",
      "source": [
        "# NLP fundamentals in Tensorflow\n",
        "\n",
        "NLP has the goal of deriving information out of naturral language (could be sequences text or speech).\n",
        "\n",
        "Another common term for NLP problem is sequence to sequence problems (seq2seq)."
      ],
      "metadata": {
        "id": "48BwngTDgAWO"
      }
    },
    {
      "cell_type": "markdown",
      "source": [
        "## Get helper functions"
      ],
      "metadata": {
        "id": "ntn9LvIFhIsD"
      }
    },
    {
      "cell_type": "code",
      "source": [
        "!wget https://raw.githubusercontent.com/mrdbourke/tensorflow-deep-learning/main/extras/helper_functions.py"
      ],
      "metadata": {
        "colab": {
          "base_uri": "https://localhost:8080/"
        },
        "id": "QEICgHMIf8lv",
        "outputId": "a1c52155-538d-49b0-bc0f-7a85bcf0d7e8"
      },
      "execution_count": null,
      "outputs": [
        {
          "output_type": "stream",
          "name": "stdout",
          "text": [
            "--2023-03-18 04:41:13--  https://raw.githubusercontent.com/mrdbourke/tensorflow-deep-learning/main/extras/helper_functions.py\n",
            "Resolving raw.githubusercontent.com (raw.githubusercontent.com)... 185.199.108.133, 185.199.109.133, 185.199.110.133, ...\n",
            "Connecting to raw.githubusercontent.com (raw.githubusercontent.com)|185.199.108.133|:443... connected.\n",
            "HTTP request sent, awaiting response... 200 OK\n",
            "Length: 10246 (10K) [text/plain]\n",
            "Saving to: ‘helper_functions.py’\n",
            "\n",
            "\rhelper_functions.py   0%[                    ]       0  --.-KB/s               \rhelper_functions.py 100%[===================>]  10.01K  --.-KB/s    in 0s      \n",
            "\n",
            "2023-03-18 04:41:14 (86.9 MB/s) - ‘helper_functions.py’ saved [10246/10246]\n",
            "\n"
          ]
        }
      ]
    },
    {
      "cell_type": "code",
      "source": [
        "# Import series of helper functions for the notebook\n",
        "from helper_functions import unzip_data, create_tensorboard_callback, plot_loss_curves, compare_historys"
      ],
      "metadata": {
        "id": "Dig8ieeGf6bk"
      },
      "execution_count": null,
      "outputs": []
    },
    {
      "cell_type": "markdown",
      "source": [
        "## Get a text dataset\n",
        "\n",
        "The dataset we're going to be using is Kaggle's introduction to NLP dataset (textsamples of Tweets labelled as disaster or not disaster)."
      ],
      "metadata": {
        "id": "a1zVMpWbhxW7"
      }
    },
    {
      "cell_type": "code",
      "source": [
        "# Download data (same as from Kaggle)\n",
        "!wget \"https://storage.googleapis.com/ztm_tf_course/nlp_getting_started.zip\"\n",
        "\n",
        "# Unzip data\n",
        "unzip_data(\"nlp_getting_started.zip\")"
      ],
      "metadata": {
        "colab": {
          "base_uri": "https://localhost:8080/"
        },
        "id": "71k_zsxyhrNs",
        "outputId": "d3ee0343-ac26-4fa3-d3b0-390768e79b54"
      },
      "execution_count": null,
      "outputs": [
        {
          "output_type": "stream",
          "name": "stdout",
          "text": [
            "--2023-03-18 04:41:17--  https://storage.googleapis.com/ztm_tf_course/nlp_getting_started.zip\n",
            "Resolving storage.googleapis.com (storage.googleapis.com)... 142.251.161.128, 74.125.126.128, 74.125.70.128, ...\n",
            "Connecting to storage.googleapis.com (storage.googleapis.com)|142.251.161.128|:443... connected.\n",
            "HTTP request sent, awaiting response... 200 OK\n",
            "Length: 607343 (593K) [application/zip]\n",
            "Saving to: ‘nlp_getting_started.zip’\n",
            "\n",
            "\rnlp_getting_started   0%[                    ]       0  --.-KB/s               \rnlp_getting_started 100%[===================>] 593.11K  --.-KB/s    in 0.004s  \n",
            "\n",
            "2023-03-18 04:41:17 (136 MB/s) - ‘nlp_getting_started.zip’ saved [607343/607343]\n",
            "\n"
          ]
        }
      ]
    },
    {
      "cell_type": "markdown",
      "source": [
        "## Visualizing a text dataset"
      ],
      "metadata": {
        "id": "Pm93ZC4JjPdX"
      }
    },
    {
      "cell_type": "code",
      "source": [
        "import pandas as pd\n",
        "\n",
        "train_df = pd.read_csv(\"train.csv\")\n",
        "test_df = pd.read_csv(\"test.csv\")\n",
        "train_df.head()"
      ],
      "metadata": {
        "colab": {
          "base_uri": "https://localhost:8080/",
          "height": 206
        },
        "id": "E0E57jzPimBw",
        "outputId": "b9ba10b5-4df0-438f-a6f0-0b6cd728d3b0"
      },
      "execution_count": null,
      "outputs": [
        {
          "output_type": "execute_result",
          "data": {
            "text/plain": [
              "   id keyword location                                               text  \\\n",
              "0   1     NaN      NaN  Our Deeds are the Reason of this #earthquake M...   \n",
              "1   4     NaN      NaN             Forest fire near La Ronge Sask. Canada   \n",
              "2   5     NaN      NaN  All residents asked to 'shelter in place' are ...   \n",
              "3   6     NaN      NaN  13,000 people receive #wildfires evacuation or...   \n",
              "4   7     NaN      NaN  Just got sent this photo from Ruby #Alaska as ...   \n",
              "\n",
              "   target  \n",
              "0       1  \n",
              "1       1  \n",
              "2       1  \n",
              "3       1  \n",
              "4       1  "
            ],
            "text/html": [
              "\n",
              "  <div id=\"df-8e7cf5db-2571-46e6-a04e-c969ea0791bf\">\n",
              "    <div class=\"colab-df-container\">\n",
              "      <div>\n",
              "<style scoped>\n",
              "    .dataframe tbody tr th:only-of-type {\n",
              "        vertical-align: middle;\n",
              "    }\n",
              "\n",
              "    .dataframe tbody tr th {\n",
              "        vertical-align: top;\n",
              "    }\n",
              "\n",
              "    .dataframe thead th {\n",
              "        text-align: right;\n",
              "    }\n",
              "</style>\n",
              "<table border=\"1\" class=\"dataframe\">\n",
              "  <thead>\n",
              "    <tr style=\"text-align: right;\">\n",
              "      <th></th>\n",
              "      <th>id</th>\n",
              "      <th>keyword</th>\n",
              "      <th>location</th>\n",
              "      <th>text</th>\n",
              "      <th>target</th>\n",
              "    </tr>\n",
              "  </thead>\n",
              "  <tbody>\n",
              "    <tr>\n",
              "      <th>0</th>\n",
              "      <td>1</td>\n",
              "      <td>NaN</td>\n",
              "      <td>NaN</td>\n",
              "      <td>Our Deeds are the Reason of this #earthquake M...</td>\n",
              "      <td>1</td>\n",
              "    </tr>\n",
              "    <tr>\n",
              "      <th>1</th>\n",
              "      <td>4</td>\n",
              "      <td>NaN</td>\n",
              "      <td>NaN</td>\n",
              "      <td>Forest fire near La Ronge Sask. Canada</td>\n",
              "      <td>1</td>\n",
              "    </tr>\n",
              "    <tr>\n",
              "      <th>2</th>\n",
              "      <td>5</td>\n",
              "      <td>NaN</td>\n",
              "      <td>NaN</td>\n",
              "      <td>All residents asked to 'shelter in place' are ...</td>\n",
              "      <td>1</td>\n",
              "    </tr>\n",
              "    <tr>\n",
              "      <th>3</th>\n",
              "      <td>6</td>\n",
              "      <td>NaN</td>\n",
              "      <td>NaN</td>\n",
              "      <td>13,000 people receive #wildfires evacuation or...</td>\n",
              "      <td>1</td>\n",
              "    </tr>\n",
              "    <tr>\n",
              "      <th>4</th>\n",
              "      <td>7</td>\n",
              "      <td>NaN</td>\n",
              "      <td>NaN</td>\n",
              "      <td>Just got sent this photo from Ruby #Alaska as ...</td>\n",
              "      <td>1</td>\n",
              "    </tr>\n",
              "  </tbody>\n",
              "</table>\n",
              "</div>\n",
              "      <button class=\"colab-df-convert\" onclick=\"convertToInteractive('df-8e7cf5db-2571-46e6-a04e-c969ea0791bf')\"\n",
              "              title=\"Convert this dataframe to an interactive table.\"\n",
              "              style=\"display:none;\">\n",
              "        \n",
              "  <svg xmlns=\"http://www.w3.org/2000/svg\" height=\"24px\"viewBox=\"0 0 24 24\"\n",
              "       width=\"24px\">\n",
              "    <path d=\"M0 0h24v24H0V0z\" fill=\"none\"/>\n",
              "    <path d=\"M18.56 5.44l.94 2.06.94-2.06 2.06-.94-2.06-.94-.94-2.06-.94 2.06-2.06.94zm-11 1L8.5 8.5l.94-2.06 2.06-.94-2.06-.94L8.5 2.5l-.94 2.06-2.06.94zm10 10l.94 2.06.94-2.06 2.06-.94-2.06-.94-.94-2.06-.94 2.06-2.06.94z\"/><path d=\"M17.41 7.96l-1.37-1.37c-.4-.4-.92-.59-1.43-.59-.52 0-1.04.2-1.43.59L10.3 9.45l-7.72 7.72c-.78.78-.78 2.05 0 2.83L4 21.41c.39.39.9.59 1.41.59.51 0 1.02-.2 1.41-.59l7.78-7.78 2.81-2.81c.8-.78.8-2.07 0-2.86zM5.41 20L4 18.59l7.72-7.72 1.47 1.35L5.41 20z\"/>\n",
              "  </svg>\n",
              "      </button>\n",
              "      \n",
              "  <style>\n",
              "    .colab-df-container {\n",
              "      display:flex;\n",
              "      flex-wrap:wrap;\n",
              "      gap: 12px;\n",
              "    }\n",
              "\n",
              "    .colab-df-convert {\n",
              "      background-color: #E8F0FE;\n",
              "      border: none;\n",
              "      border-radius: 50%;\n",
              "      cursor: pointer;\n",
              "      display: none;\n",
              "      fill: #1967D2;\n",
              "      height: 32px;\n",
              "      padding: 0 0 0 0;\n",
              "      width: 32px;\n",
              "    }\n",
              "\n",
              "    .colab-df-convert:hover {\n",
              "      background-color: #E2EBFA;\n",
              "      box-shadow: 0px 1px 2px rgba(60, 64, 67, 0.3), 0px 1px 3px 1px rgba(60, 64, 67, 0.15);\n",
              "      fill: #174EA6;\n",
              "    }\n",
              "\n",
              "    [theme=dark] .colab-df-convert {\n",
              "      background-color: #3B4455;\n",
              "      fill: #D2E3FC;\n",
              "    }\n",
              "\n",
              "    [theme=dark] .colab-df-convert:hover {\n",
              "      background-color: #434B5C;\n",
              "      box-shadow: 0px 1px 3px 1px rgba(0, 0, 0, 0.15);\n",
              "      filter: drop-shadow(0px 1px 2px rgba(0, 0, 0, 0.3));\n",
              "      fill: #FFFFFF;\n",
              "    }\n",
              "  </style>\n",
              "\n",
              "      <script>\n",
              "        const buttonEl =\n",
              "          document.querySelector('#df-8e7cf5db-2571-46e6-a04e-c969ea0791bf button.colab-df-convert');\n",
              "        buttonEl.style.display =\n",
              "          google.colab.kernel.accessAllowed ? 'block' : 'none';\n",
              "\n",
              "        async function convertToInteractive(key) {\n",
              "          const element = document.querySelector('#df-8e7cf5db-2571-46e6-a04e-c969ea0791bf');\n",
              "          const dataTable =\n",
              "            await google.colab.kernel.invokeFunction('convertToInteractive',\n",
              "                                                     [key], {});\n",
              "          if (!dataTable) return;\n",
              "\n",
              "          const docLinkHtml = 'Like what you see? Visit the ' +\n",
              "            '<a target=\"_blank\" href=https://colab.research.google.com/notebooks/data_table.ipynb>data table notebook</a>'\n",
              "            + ' to learn more about interactive tables.';\n",
              "          element.innerHTML = '';\n",
              "          dataTable['output_type'] = 'display_data';\n",
              "          await google.colab.output.renderOutput(dataTable, element);\n",
              "          const docLink = document.createElement('div');\n",
              "          docLink.innerHTML = docLinkHtml;\n",
              "          element.appendChild(docLink);\n",
              "        }\n",
              "      </script>\n",
              "    </div>\n",
              "  </div>\n",
              "  "
            ]
          },
          "metadata": {},
          "execution_count": 4
        }
      ]
    },
    {
      "cell_type": "code",
      "source": [
        "# Shuffle training dataframe\n",
        "train_df_shuffled = train_df.sample(frac=1, random_state=42)\n",
        "train_df_shuffled.head()"
      ],
      "metadata": {
        "colab": {
          "base_uri": "https://localhost:8080/",
          "height": 337
        },
        "id": "5wVbKKVzkgs9",
        "outputId": "fc0fb13d-377c-4336-9066-0a29a48425e0"
      },
      "execution_count": null,
      "outputs": [
        {
          "output_type": "execute_result",
          "data": {
            "text/plain": [
              "        id      keyword               location  \\\n",
              "2644  3796  destruction                    NaN   \n",
              "2227  3185       deluge                    NaN   \n",
              "5448  7769       police                     UK   \n",
              "132    191   aftershock                    NaN   \n",
              "6845  9810       trauma  Montgomery County, MD   \n",
              "\n",
              "                                                   text  target  \n",
              "2644  So you have a new weapon that can cause un-ima...       1  \n",
              "2227  The f$&amp;@ing things I do for #GISHWHES Just...       0  \n",
              "5448  DT @georgegalloway: RT @Galloway4Mayor: ÛÏThe...       1  \n",
              "132   Aftershock back to school kick off was great. ...       0  \n",
              "6845  in response to trauma Children of Addicts deve...       0  "
            ],
            "text/html": [
              "\n",
              "  <div id=\"df-f85a2e53-244f-4a00-8622-d6ab815dc806\">\n",
              "    <div class=\"colab-df-container\">\n",
              "      <div>\n",
              "<style scoped>\n",
              "    .dataframe tbody tr th:only-of-type {\n",
              "        vertical-align: middle;\n",
              "    }\n",
              "\n",
              "    .dataframe tbody tr th {\n",
              "        vertical-align: top;\n",
              "    }\n",
              "\n",
              "    .dataframe thead th {\n",
              "        text-align: right;\n",
              "    }\n",
              "</style>\n",
              "<table border=\"1\" class=\"dataframe\">\n",
              "  <thead>\n",
              "    <tr style=\"text-align: right;\">\n",
              "      <th></th>\n",
              "      <th>id</th>\n",
              "      <th>keyword</th>\n",
              "      <th>location</th>\n",
              "      <th>text</th>\n",
              "      <th>target</th>\n",
              "    </tr>\n",
              "  </thead>\n",
              "  <tbody>\n",
              "    <tr>\n",
              "      <th>2644</th>\n",
              "      <td>3796</td>\n",
              "      <td>destruction</td>\n",
              "      <td>NaN</td>\n",
              "      <td>So you have a new weapon that can cause un-ima...</td>\n",
              "      <td>1</td>\n",
              "    </tr>\n",
              "    <tr>\n",
              "      <th>2227</th>\n",
              "      <td>3185</td>\n",
              "      <td>deluge</td>\n",
              "      <td>NaN</td>\n",
              "      <td>The f$&amp;amp;@ing things I do for #GISHWHES Just...</td>\n",
              "      <td>0</td>\n",
              "    </tr>\n",
              "    <tr>\n",
              "      <th>5448</th>\n",
              "      <td>7769</td>\n",
              "      <td>police</td>\n",
              "      <td>UK</td>\n",
              "      <td>DT @georgegalloway: RT @Galloway4Mayor: ÛÏThe...</td>\n",
              "      <td>1</td>\n",
              "    </tr>\n",
              "    <tr>\n",
              "      <th>132</th>\n",
              "      <td>191</td>\n",
              "      <td>aftershock</td>\n",
              "      <td>NaN</td>\n",
              "      <td>Aftershock back to school kick off was great. ...</td>\n",
              "      <td>0</td>\n",
              "    </tr>\n",
              "    <tr>\n",
              "      <th>6845</th>\n",
              "      <td>9810</td>\n",
              "      <td>trauma</td>\n",
              "      <td>Montgomery County, MD</td>\n",
              "      <td>in response to trauma Children of Addicts deve...</td>\n",
              "      <td>0</td>\n",
              "    </tr>\n",
              "  </tbody>\n",
              "</table>\n",
              "</div>\n",
              "      <button class=\"colab-df-convert\" onclick=\"convertToInteractive('df-f85a2e53-244f-4a00-8622-d6ab815dc806')\"\n",
              "              title=\"Convert this dataframe to an interactive table.\"\n",
              "              style=\"display:none;\">\n",
              "        \n",
              "  <svg xmlns=\"http://www.w3.org/2000/svg\" height=\"24px\"viewBox=\"0 0 24 24\"\n",
              "       width=\"24px\">\n",
              "    <path d=\"M0 0h24v24H0V0z\" fill=\"none\"/>\n",
              "    <path d=\"M18.56 5.44l.94 2.06.94-2.06 2.06-.94-2.06-.94-.94-2.06-.94 2.06-2.06.94zm-11 1L8.5 8.5l.94-2.06 2.06-.94-2.06-.94L8.5 2.5l-.94 2.06-2.06.94zm10 10l.94 2.06.94-2.06 2.06-.94-2.06-.94-.94-2.06-.94 2.06-2.06.94z\"/><path d=\"M17.41 7.96l-1.37-1.37c-.4-.4-.92-.59-1.43-.59-.52 0-1.04.2-1.43.59L10.3 9.45l-7.72 7.72c-.78.78-.78 2.05 0 2.83L4 21.41c.39.39.9.59 1.41.59.51 0 1.02-.2 1.41-.59l7.78-7.78 2.81-2.81c.8-.78.8-2.07 0-2.86zM5.41 20L4 18.59l7.72-7.72 1.47 1.35L5.41 20z\"/>\n",
              "  </svg>\n",
              "      </button>\n",
              "      \n",
              "  <style>\n",
              "    .colab-df-container {\n",
              "      display:flex;\n",
              "      flex-wrap:wrap;\n",
              "      gap: 12px;\n",
              "    }\n",
              "\n",
              "    .colab-df-convert {\n",
              "      background-color: #E8F0FE;\n",
              "      border: none;\n",
              "      border-radius: 50%;\n",
              "      cursor: pointer;\n",
              "      display: none;\n",
              "      fill: #1967D2;\n",
              "      height: 32px;\n",
              "      padding: 0 0 0 0;\n",
              "      width: 32px;\n",
              "    }\n",
              "\n",
              "    .colab-df-convert:hover {\n",
              "      background-color: #E2EBFA;\n",
              "      box-shadow: 0px 1px 2px rgba(60, 64, 67, 0.3), 0px 1px 3px 1px rgba(60, 64, 67, 0.15);\n",
              "      fill: #174EA6;\n",
              "    }\n",
              "\n",
              "    [theme=dark] .colab-df-convert {\n",
              "      background-color: #3B4455;\n",
              "      fill: #D2E3FC;\n",
              "    }\n",
              "\n",
              "    [theme=dark] .colab-df-convert:hover {\n",
              "      background-color: #434B5C;\n",
              "      box-shadow: 0px 1px 3px 1px rgba(0, 0, 0, 0.15);\n",
              "      filter: drop-shadow(0px 1px 2px rgba(0, 0, 0, 0.3));\n",
              "      fill: #FFFFFF;\n",
              "    }\n",
              "  </style>\n",
              "\n",
              "      <script>\n",
              "        const buttonEl =\n",
              "          document.querySelector('#df-f85a2e53-244f-4a00-8622-d6ab815dc806 button.colab-df-convert');\n",
              "        buttonEl.style.display =\n",
              "          google.colab.kernel.accessAllowed ? 'block' : 'none';\n",
              "\n",
              "        async function convertToInteractive(key) {\n",
              "          const element = document.querySelector('#df-f85a2e53-244f-4a00-8622-d6ab815dc806');\n",
              "          const dataTable =\n",
              "            await google.colab.kernel.invokeFunction('convertToInteractive',\n",
              "                                                     [key], {});\n",
              "          if (!dataTable) return;\n",
              "\n",
              "          const docLinkHtml = 'Like what you see? Visit the ' +\n",
              "            '<a target=\"_blank\" href=https://colab.research.google.com/notebooks/data_table.ipynb>data table notebook</a>'\n",
              "            + ' to learn more about interactive tables.';\n",
              "          element.innerHTML = '';\n",
              "          dataTable['output_type'] = 'display_data';\n",
              "          await google.colab.output.renderOutput(dataTable, element);\n",
              "          const docLink = document.createElement('div');\n",
              "          docLink.innerHTML = docLinkHtml;\n",
              "          element.appendChild(docLink);\n",
              "        }\n",
              "      </script>\n",
              "    </div>\n",
              "  </div>\n",
              "  "
            ]
          },
          "metadata": {},
          "execution_count": 5
        }
      ]
    },
    {
      "cell_type": "code",
      "source": [
        "# What does the test dataframe look like?\n",
        "test_df.head()"
      ],
      "metadata": {
        "colab": {
          "base_uri": "https://localhost:8080/",
          "height": 206
        },
        "id": "u8tg-g6ik_RI",
        "outputId": "2a7f8a4a-2261-4cc5-9ada-b1f54fc20122"
      },
      "execution_count": null,
      "outputs": [
        {
          "output_type": "execute_result",
          "data": {
            "text/plain": [
              "   id keyword location                                               text\n",
              "0   0     NaN      NaN                 Just happened a terrible car crash\n",
              "1   2     NaN      NaN  Heard about #earthquake is different cities, s...\n",
              "2   3     NaN      NaN  there is a forest fire at spot pond, geese are...\n",
              "3   9     NaN      NaN           Apocalypse lighting. #Spokane #wildfires\n",
              "4  11     NaN      NaN      Typhoon Soudelor kills 28 in China and Taiwan"
            ],
            "text/html": [
              "\n",
              "  <div id=\"df-485fb589-2c25-4fd8-a73a-3d65dce71c1a\">\n",
              "    <div class=\"colab-df-container\">\n",
              "      <div>\n",
              "<style scoped>\n",
              "    .dataframe tbody tr th:only-of-type {\n",
              "        vertical-align: middle;\n",
              "    }\n",
              "\n",
              "    .dataframe tbody tr th {\n",
              "        vertical-align: top;\n",
              "    }\n",
              "\n",
              "    .dataframe thead th {\n",
              "        text-align: right;\n",
              "    }\n",
              "</style>\n",
              "<table border=\"1\" class=\"dataframe\">\n",
              "  <thead>\n",
              "    <tr style=\"text-align: right;\">\n",
              "      <th></th>\n",
              "      <th>id</th>\n",
              "      <th>keyword</th>\n",
              "      <th>location</th>\n",
              "      <th>text</th>\n",
              "    </tr>\n",
              "  </thead>\n",
              "  <tbody>\n",
              "    <tr>\n",
              "      <th>0</th>\n",
              "      <td>0</td>\n",
              "      <td>NaN</td>\n",
              "      <td>NaN</td>\n",
              "      <td>Just happened a terrible car crash</td>\n",
              "    </tr>\n",
              "    <tr>\n",
              "      <th>1</th>\n",
              "      <td>2</td>\n",
              "      <td>NaN</td>\n",
              "      <td>NaN</td>\n",
              "      <td>Heard about #earthquake is different cities, s...</td>\n",
              "    </tr>\n",
              "    <tr>\n",
              "      <th>2</th>\n",
              "      <td>3</td>\n",
              "      <td>NaN</td>\n",
              "      <td>NaN</td>\n",
              "      <td>there is a forest fire at spot pond, geese are...</td>\n",
              "    </tr>\n",
              "    <tr>\n",
              "      <th>3</th>\n",
              "      <td>9</td>\n",
              "      <td>NaN</td>\n",
              "      <td>NaN</td>\n",
              "      <td>Apocalypse lighting. #Spokane #wildfires</td>\n",
              "    </tr>\n",
              "    <tr>\n",
              "      <th>4</th>\n",
              "      <td>11</td>\n",
              "      <td>NaN</td>\n",
              "      <td>NaN</td>\n",
              "      <td>Typhoon Soudelor kills 28 in China and Taiwan</td>\n",
              "    </tr>\n",
              "  </tbody>\n",
              "</table>\n",
              "</div>\n",
              "      <button class=\"colab-df-convert\" onclick=\"convertToInteractive('df-485fb589-2c25-4fd8-a73a-3d65dce71c1a')\"\n",
              "              title=\"Convert this dataframe to an interactive table.\"\n",
              "              style=\"display:none;\">\n",
              "        \n",
              "  <svg xmlns=\"http://www.w3.org/2000/svg\" height=\"24px\"viewBox=\"0 0 24 24\"\n",
              "       width=\"24px\">\n",
              "    <path d=\"M0 0h24v24H0V0z\" fill=\"none\"/>\n",
              "    <path d=\"M18.56 5.44l.94 2.06.94-2.06 2.06-.94-2.06-.94-.94-2.06-.94 2.06-2.06.94zm-11 1L8.5 8.5l.94-2.06 2.06-.94-2.06-.94L8.5 2.5l-.94 2.06-2.06.94zm10 10l.94 2.06.94-2.06 2.06-.94-2.06-.94-.94-2.06-.94 2.06-2.06.94z\"/><path d=\"M17.41 7.96l-1.37-1.37c-.4-.4-.92-.59-1.43-.59-.52 0-1.04.2-1.43.59L10.3 9.45l-7.72 7.72c-.78.78-.78 2.05 0 2.83L4 21.41c.39.39.9.59 1.41.59.51 0 1.02-.2 1.41-.59l7.78-7.78 2.81-2.81c.8-.78.8-2.07 0-2.86zM5.41 20L4 18.59l7.72-7.72 1.47 1.35L5.41 20z\"/>\n",
              "  </svg>\n",
              "      </button>\n",
              "      \n",
              "  <style>\n",
              "    .colab-df-container {\n",
              "      display:flex;\n",
              "      flex-wrap:wrap;\n",
              "      gap: 12px;\n",
              "    }\n",
              "\n",
              "    .colab-df-convert {\n",
              "      background-color: #E8F0FE;\n",
              "      border: none;\n",
              "      border-radius: 50%;\n",
              "      cursor: pointer;\n",
              "      display: none;\n",
              "      fill: #1967D2;\n",
              "      height: 32px;\n",
              "      padding: 0 0 0 0;\n",
              "      width: 32px;\n",
              "    }\n",
              "\n",
              "    .colab-df-convert:hover {\n",
              "      background-color: #E2EBFA;\n",
              "      box-shadow: 0px 1px 2px rgba(60, 64, 67, 0.3), 0px 1px 3px 1px rgba(60, 64, 67, 0.15);\n",
              "      fill: #174EA6;\n",
              "    }\n",
              "\n",
              "    [theme=dark] .colab-df-convert {\n",
              "      background-color: #3B4455;\n",
              "      fill: #D2E3FC;\n",
              "    }\n",
              "\n",
              "    [theme=dark] .colab-df-convert:hover {\n",
              "      background-color: #434B5C;\n",
              "      box-shadow: 0px 1px 3px 1px rgba(0, 0, 0, 0.15);\n",
              "      filter: drop-shadow(0px 1px 2px rgba(0, 0, 0, 0.3));\n",
              "      fill: #FFFFFF;\n",
              "    }\n",
              "  </style>\n",
              "\n",
              "      <script>\n",
              "        const buttonEl =\n",
              "          document.querySelector('#df-485fb589-2c25-4fd8-a73a-3d65dce71c1a button.colab-df-convert');\n",
              "        buttonEl.style.display =\n",
              "          google.colab.kernel.accessAllowed ? 'block' : 'none';\n",
              "\n",
              "        async function convertToInteractive(key) {\n",
              "          const element = document.querySelector('#df-485fb589-2c25-4fd8-a73a-3d65dce71c1a');\n",
              "          const dataTable =\n",
              "            await google.colab.kernel.invokeFunction('convertToInteractive',\n",
              "                                                     [key], {});\n",
              "          if (!dataTable) return;\n",
              "\n",
              "          const docLinkHtml = 'Like what you see? Visit the ' +\n",
              "            '<a target=\"_blank\" href=https://colab.research.google.com/notebooks/data_table.ipynb>data table notebook</a>'\n",
              "            + ' to learn more about interactive tables.';\n",
              "          element.innerHTML = '';\n",
              "          dataTable['output_type'] = 'display_data';\n",
              "          await google.colab.output.renderOutput(dataTable, element);\n",
              "          const docLink = document.createElement('div');\n",
              "          docLink.innerHTML = docLinkHtml;\n",
              "          element.appendChild(docLink);\n",
              "        }\n",
              "      </script>\n",
              "    </div>\n",
              "  </div>\n",
              "  "
            ]
          },
          "metadata": {},
          "execution_count": 6
        }
      ]
    },
    {
      "cell_type": "code",
      "source": [
        "# How many examples of each class?\n",
        "train_df.target.value_counts()"
      ],
      "metadata": {
        "colab": {
          "base_uri": "https://localhost:8080/"
        },
        "id": "hZg0SqbSlMw6",
        "outputId": "d096b928-7fb1-4128-915f-8605da688f6b"
      },
      "execution_count": null,
      "outputs": [
        {
          "output_type": "execute_result",
          "data": {
            "text/plain": [
              "0    4342\n",
              "1    3271\n",
              "Name: target, dtype: int64"
            ]
          },
          "metadata": {},
          "execution_count": 7
        }
      ]
    },
    {
      "cell_type": "code",
      "source": [
        "# How many total samples?\n",
        "len(train_df), len(test_df)"
      ],
      "metadata": {
        "colab": {
          "base_uri": "https://localhost:8080/"
        },
        "id": "2brMJnutld4Z",
        "outputId": "952fc156-e957-4057-f852-6cf77d829aa6"
      },
      "execution_count": null,
      "outputs": [
        {
          "output_type": "execute_result",
          "data": {
            "text/plain": [
              "(7613, 3263)"
            ]
          },
          "metadata": {},
          "execution_count": 8
        }
      ]
    },
    {
      "cell_type": "code",
      "source": [
        "# Let's visualize some random training examples\n",
        "import random\n",
        "random_index = random.randint(0, len(train_df)-5)\n",
        "for row in train_df_shuffled[[\"text\", \"target\"]][random_index:random_index+5].itertuples():\n",
        "  _, text, target = row\n",
        "  print(f\"Target: {target}\", \"{real disaster}\" if target > 0 else \"{not real disaster}\")\n",
        "  print(f\"Text:\\n{text}\")\n",
        "  print(\"---\\n\")"
      ],
      "metadata": {
        "colab": {
          "base_uri": "https://localhost:8080/"
        },
        "id": "ffaNJUvWmDTZ",
        "outputId": "ee41ccce-698d-4ec6-bc88-e4472d426177"
      },
      "execution_count": null,
      "outputs": [
        {
          "output_type": "stream",
          "name": "stdout",
          "text": [
            "Target: 1 {real disaster}\n",
            "Text:\n",
            "Now Trending in Nigeria: Police charge traditional ruler others with informantÛªs  murder http://t.co/93inFxzhX0\n",
            "---\n",
            "\n",
            "Target: 1 {real disaster}\n",
            "Text:\n",
            "REPORTED: HIT &amp; RUN-IN ROADWAY-PROPERTY DAMAGE at 15901 STATESVILLE RD\n",
            "---\n",
            "\n",
            "Target: 1 {real disaster}\n",
            "Text:\n",
            "ohH NO FUKURODANI DIDN'T SURVIVE THE APOCALYPSE BOKUTO FEELS HORRIBLE  my poor boy my ppor child\n",
            "---\n",
            "\n",
            "Target: 1 {real disaster}\n",
            "Text:\n",
            "Maryland mansion fire that killed 6 caused by damaged plug under Christmas tree report says - Into the flames: Firefighter's bravery...\n",
            "---\n",
            "\n",
            "Target: 0 {not real disaster}\n",
            "Text:\n",
            "Interview with Actor Randy Irwin A.S.K What Could Be The Harm http://t.co/k14q8cHWKp\n",
            "---\n",
            "\n"
          ]
        }
      ]
    },
    {
      "cell_type": "markdown",
      "source": [
        " ## Split data into traning and validation sets"
      ],
      "metadata": {
        "id": "eBF0UoQYrX7k"
      }
    },
    {
      "cell_type": "code",
      "source": [
        "from sklearn.model_selection import train_test_split\n",
        "\n",
        "# Use train_test_split to split traning_data into training and validation sets\n",
        "train_sentences, val_sentences, train_labels, val_labels = train_test_split(train_df_shuffled[\"text\"].tolist(),\n",
        "                                                                            train_df_shuffled[\"target\"].tolist(),\n",
        "                                                                            test_size=0.1,\n",
        "                                                                            random_state=42)"
      ],
      "metadata": {
        "id": "SLNHc21enxHG"
      },
      "execution_count": null,
      "outputs": []
    },
    {
      "cell_type": "code",
      "source": [
        "# Check the lengths\n",
        "len(train_sentences), len(val_sentences)"
      ],
      "metadata": {
        "colab": {
          "base_uri": "https://localhost:8080/"
        },
        "id": "hU8PnpSUsWuC",
        "outputId": "21721ccc-1831-49a5-afdf-748ad2e70e12"
      },
      "execution_count": null,
      "outputs": [
        {
          "output_type": "execute_result",
          "data": {
            "text/plain": [
              "(6851, 762)"
            ]
          },
          "metadata": {},
          "execution_count": 11
        }
      ]
    },
    {
      "cell_type": "code",
      "source": [
        "# Check the first 10 samples\n",
        "train_sentences[:10], train_labels[:10]"
      ],
      "metadata": {
        "colab": {
          "base_uri": "https://localhost:8080/"
        },
        "id": "pNcz7E2isdjZ",
        "outputId": "8bd702af-093b-4bb9-9132-2f1e6ba6c7c5"
      },
      "execution_count": null,
      "outputs": [
        {
          "output_type": "execute_result",
          "data": {
            "text/plain": [
              "(['@mogacola @zamtriossu i screamed after hitting tweet',\n",
              "  'Imagine getting flattened by Kurt Zouma',\n",
              "  '@Gurmeetramrahim #MSGDoing111WelfareWorks Green S welfare force ke appx 65000 members har time disaster victim ki help ke liye tyar hai....',\n",
              "  \"@shakjn @C7 @Magnums im shaking in fear he's gonna hack the planet\",\n",
              "  'Somehow find you and I collide http://t.co/Ee8RpOahPk',\n",
              "  '@EvaHanderek @MarleyKnysh great times until the bus driver held us hostage in the mall parking lot lmfao',\n",
              "  'destroy the free fandom honestly',\n",
              "  'Weapons stolen from National Guard Armory in New Albany still missing #Gunsense http://t.co/lKNU8902JE',\n",
              "  '@wfaaweather Pete when will the heat wave pass? Is it really going to be mid month? Frisco Boy Scouts have a canoe trip in Okla.',\n",
              "  'Patient-reported outcomes in long-term survivors of metastatic colorectal cancer - British Journal of Surgery http://t.co/5Yl4DC1Tqt'],\n",
              " [0, 0, 1, 0, 0, 1, 1, 0, 1, 1])"
            ]
          },
          "metadata": {},
          "execution_count": 12
        }
      ]
    },
    {
      "cell_type": "markdown",
      "source": [
        "## Converting text into numbers\n",
        "\n",
        "When dealing with a text problem, one of the first things you'll have to do before you can build a model is to convert your text to numbers because neural nets don't like anything other than numbers.\n",
        "\n",
        "There are few ways to do this, namely:\n",
        "* **Tokenization** - direct mapping of token (a token could be word or a character) to number\n",
        "* **Embedding** -  create a matrix of feature vector for each token (the size of the feature vector can be defined and this embedding can be learned)"
      ],
      "metadata": {
        "id": "Mh3NgbhiwuxX"
      }
    },
    {
      "cell_type": "markdown",
      "source": [
        "### Text Vectorization (tokenization)"
      ],
      "metadata": {
        "id": "T1AZDGCN0z4i"
      }
    },
    {
      "cell_type": "code",
      "source": [
        "train_sentences[:5]"
      ],
      "metadata": {
        "colab": {
          "base_uri": "https://localhost:8080/"
        },
        "id": "NtHa9M_4s0cS",
        "outputId": "31f71754-9295-4e34-e1b7-5a4c21fd41a7"
      },
      "execution_count": null,
      "outputs": [
        {
          "output_type": "execute_result",
          "data": {
            "text/plain": [
              "['@mogacola @zamtriossu i screamed after hitting tweet',\n",
              " 'Imagine getting flattened by Kurt Zouma',\n",
              " '@Gurmeetramrahim #MSGDoing111WelfareWorks Green S welfare force ke appx 65000 members har time disaster victim ki help ke liye tyar hai....',\n",
              " \"@shakjn @C7 @Magnums im shaking in fear he's gonna hack the planet\",\n",
              " 'Somehow find you and I collide http://t.co/Ee8RpOahPk']"
            ]
          },
          "metadata": {},
          "execution_count": 13
        }
      ]
    },
    {
      "cell_type": "code",
      "source": [
        "import tensorflow as tf\n",
        "from tensorflow.keras.layers import TextVectorization\n",
        "\n",
        "# Use the default TextVectorization parameters\n",
        "text_vectorizer = TextVectorization(max_tokens=None, # how many words in the vocabulary\n",
        "                                    standardize=\"lower_and_strip_punctuation\",\n",
        "                                    split=\"whitespace\",\n",
        "                                    ngrams=None, # create groups of n-words? \n",
        "                                    output_mode=\"int\", # how to map tokens to numbers \n",
        "                                    output_sequence_length=None, # how long do you want your sequences to be?\n",
        "                                    )"
      ],
      "metadata": {
        "id": "PsnbKD7-wtiT"
      },
      "execution_count": null,
      "outputs": []
    },
    {
      "cell_type": "code",
      "source": [
        "# Find the average number of tokens (words) in the training tweets\n",
        "round(sum([len(i.split()) for i in train_sentences]) / len(train_sentences))"
      ],
      "metadata": {
        "colab": {
          "base_uri": "https://localhost:8080/"
        },
        "id": "8bklZq8z1Cdg",
        "outputId": "8949b9f4-382a-483c-a9cb-22df5bcc00a3"
      },
      "execution_count": null,
      "outputs": [
        {
          "output_type": "execute_result",
          "data": {
            "text/plain": [
              "15"
            ]
          },
          "metadata": {},
          "execution_count": 15
        }
      ]
    },
    {
      "cell_type": "code",
      "source": [
        "# Setup text vectorization variables\n",
        "max_vocab_length = 10000 # max number of words to have in our vocabulary\n",
        "max_length = 15 # max length our sequences will be (e.g how many words from a Tweet does a model see?)\n",
        "\n",
        "text_vectorizer = TextVectorization(max_tokens=max_vocab_length,\n",
        "                                    output_mode=\"int\",\n",
        "                                    output_sequence_length=max_length)"
      ],
      "metadata": {
        "id": "GwGCfyiw4nlP"
      },
      "execution_count": null,
      "outputs": []
    },
    {
      "cell_type": "code",
      "source": [
        "# Adapting the text_vectorizer with the train_sentence\n",
        "text_vectorizer.adapt(train_sentences)"
      ],
      "metadata": {
        "id": "ExAP-sfl5lvi"
      },
      "execution_count": null,
      "outputs": []
    },
    {
      "cell_type": "code",
      "source": [
        "# Displaying the vocabulary\n",
        "text_vectorizer.get_vocabulary()[:10]"
      ],
      "metadata": {
        "colab": {
          "base_uri": "https://localhost:8080/"
        },
        "id": "w703PGFB6Oym",
        "outputId": "ec3e4a1c-5187-4567-845c-54dc25b10373"
      },
      "execution_count": null,
      "outputs": [
        {
          "output_type": "execute_result",
          "data": {
            "text/plain": [
              "['', '[UNK]', 'the', 'a', 'in', 'to', 'of', 'and', 'i', 'is']"
            ]
          },
          "metadata": {},
          "execution_count": 18
        }
      ]
    },
    {
      "cell_type": "code",
      "source": [
        "# Create a sample sentence and tokenize it\n",
        "sample_sentence = \"There's a flood in my street!\"\n",
        "text_vectorizer([sample_sentence])"
      ],
      "metadata": {
        "colab": {
          "base_uri": "https://localhost:8080/"
        },
        "id": "U-kkiepT7QCL",
        "outputId": "def30a8e-0576-45ce-d477-050db2bea6d1"
      },
      "execution_count": null,
      "outputs": [
        {
          "output_type": "execute_result",
          "data": {
            "text/plain": [
              "<tf.Tensor: shape=(1, 15), dtype=int64, numpy=\n",
              "array([[264,   3, 232,   4,  13, 698,   0,   0,   0,   0,   0,   0,   0,\n",
              "          0,   0]])>"
            ]
          },
          "metadata": {},
          "execution_count": 19
        }
      ]
    },
    {
      "cell_type": "code",
      "source": [
        "# Choose a random sentence from the training dataset and tokenize it\n",
        "random_sentence = random.choice(train_sentences) \n",
        "print(f\"Original text:\\n {random_sentence}\\\n",
        "        \\n\\nVectorized version:\")\n",
        "text_vectorizer([random_sentence])"
      ],
      "metadata": {
        "colab": {
          "base_uri": "https://localhost:8080/"
        },
        "id": "LYRM7M8W-_4W",
        "outputId": "accb2b24-6989-491a-ab27-077da5a480b9"
      },
      "execution_count": null,
      "outputs": [
        {
          "output_type": "stream",
          "name": "stdout",
          "text": [
            "Original text:\n",
            " who said this? Yosemite Sam or Drumpf? ÛÏNobody Û÷ill vote for a flattened out rabbit skin a-huh huh Û_ I always sayÛ        \n",
            "\n",
            "Vectorized version:\n"
          ]
        },
        {
          "output_type": "execute_result",
          "data": {
            "text/plain": [
              "<tf.Tensor: shape=(1, 15), dtype=int64, numpy=\n",
              "array([[  65,  205,   19, 6545, 8846,   53,    1, 6442, 6411, 1345,   10,\n",
              "           3,  485,   36, 9399]])>"
            ]
          },
          "metadata": {},
          "execution_count": 20
        }
      ]
    },
    {
      "cell_type": "code",
      "source": [
        "# Get the unique words in the vocabulary \n",
        "words_in_vocab = text_vectorizer.get_vocabulary() # Get all the unique words in the training sentences\n",
        "top_5_words = words_in_vocab[:5] # Get the top 5 most common words\n",
        "bottom_5_words = words_in_vocab[-5:] # Get the least 5 common words\n",
        "print(f\"Number of words in vocab: {len(words_in_vocab)}\")\n",
        "print(f\"5 most common words: {top_5_words}\")\n",
        "print(f\"5 least common words: {bottom_5_words}\")"
      ],
      "metadata": {
        "colab": {
          "base_uri": "https://localhost:8080/"
        },
        "id": "DCvYEFMp_B7m",
        "outputId": "50e413f1-b7c5-455c-c100-a7a2263e22db"
      },
      "execution_count": null,
      "outputs": [
        {
          "output_type": "stream",
          "name": "stdout",
          "text": [
            "Number of words in vocab: 10000\n",
            "5 most common words: ['', '[UNK]', 'the', 'a', 'in']\n",
            "5 least common words: ['pages', 'paeds', 'pads', 'padres', 'paddytomlinson1']\n"
          ]
        }
      ]
    },
    {
      "cell_type": "markdown",
      "source": [
        "## Creating an Embedding using an Embedding Layer\n",
        "\n",
        "The parameters we care most about for our embedding layer:\n",
        "* `input_dim` = the size of our vocabulary\n",
        "* `output_dim` = the size of the output embedding vector, for example, a value of 100 would mean each token gets represented by a 100 dim vector\n",
        "* `input_length` = length of the sequences being passed to the embedding layer"
      ],
      "metadata": {
        "id": "UKz4f0TaDbjH"
      }
    },
    {
      "cell_type": "code",
      "source": [
        "from tensorflow.keras import layers\n",
        "\n",
        "embedding = layers.Embedding(input_dim=max_vocab_length,  # set input shape\n",
        "                             output_dim=128,\n",
        "                             input_length=max_length # how long is each input\n",
        "                             )"
      ],
      "metadata": {
        "id": "p2_RdXL5CHSQ"
      },
      "execution_count": null,
      "outputs": []
    },
    {
      "cell_type": "code",
      "source": [
        "# Get a random sentence from the training set\n",
        "random_sentence = random.choice(train_sentences) \n",
        "print(f\"Original text:\\n {random_sentence}\\\n",
        "        \\n\\nEmbedded version:\")\n",
        "\n",
        "# Embed the random sentence (turn it into dense vectors of fixed size)\n",
        "sample_embedding = embedding(text_vectorizer([random_sentence]))\n",
        "sample_embedding"
      ],
      "metadata": {
        "colab": {
          "base_uri": "https://localhost:8080/"
        },
        "id": "qUWdk7PLGWsM",
        "outputId": "f3093557-d3c1-4e76-ef38-fcd672dc63ea"
      },
      "execution_count": null,
      "outputs": [
        {
          "output_type": "stream",
          "name": "stdout",
          "text": [
            "Original text:\n",
            " Trafford Centre film fans angry after Odeon cinema evacuated following false fire alarm: \n",
            " Twi... http://t.co/RYEQMxIrj8 #manchesterlite        \n",
            "\n",
            "Embedded version:\n"
          ]
        },
        {
          "output_type": "execute_result",
          "data": {
            "text/plain": [
              "<tf.Tensor: shape=(1, 15, 128), dtype=float32, numpy=\n",
              "array([[[ 0.04713602,  0.02884141, -0.03171052, ..., -0.01195562,\n",
              "         -0.04853659,  0.04361481],\n",
              "        [ 0.02423072,  0.0284647 , -0.04813384, ...,  0.02059152,\n",
              "          0.01533273,  0.00291647],\n",
              "        [ 0.04128459, -0.02274512,  0.04856261, ...,  0.00381225,\n",
              "         -0.03031751, -0.01574297],\n",
              "        ...,\n",
              "        [-0.04241501, -0.03606848, -0.01742632, ...,  0.00355338,\n",
              "          0.03394656, -0.03856875],\n",
              "        [-0.02584404, -0.01479262,  0.04758256, ..., -0.02283584,\n",
              "          0.04258767, -0.01398493],\n",
              "        [-0.01753848,  0.02919892, -0.01971569, ...,  0.04721974,\n",
              "         -0.0126484 , -0.01198422]]], dtype=float32)>"
            ]
          },
          "metadata": {},
          "execution_count": 23
        }
      ]
    },
    {
      "cell_type": "markdown",
      "source": [
        "## Modelling a text dataset (running a series of experiments)\n",
        "\n",
        "Now we've got a way to turn out text sequences into numbers, it's time to start building a series of modelling experiments.\n",
        "\n",
        "We'll start with as baseline and move on from there.\n",
        "\n",
        "* Model 0: Naive Bayes (baseline)\n",
        "* Model 1: Feed-forward neural network (dense model)\n",
        "* Model 2: LSTM model (RNN)\n",
        "* Model 3: GRU model (RNN)\n",
        "* Model 4: Bidirectional_LSTM model (RNN)\n",
        "* Model 5: 1D Convolutional Neural Network (CNN)\n",
        "* Model 6: Tensorflow Hub Pretrained Feature Extractor (using transfer learning for NLP)\n",
        "* Model 7: Same as model 6 with 10% of traning data"
      ],
      "metadata": {
        "id": "P0xtdfEGK4Y2"
      }
    },
    {
      "cell_type": "code",
      "source": [
        "# Model 0 Naive Bayes\n",
        "from sklearn.feature_extraction.text import CountVectorizer \n",
        "count_vect = CountVectorizer()\n",
        "X_train_counts = count_vect.fit_transform(train_sentences)\n",
        "X_train_counts.shape"
      ],
      "metadata": {
        "id": "0GZvBTdxHMqc",
        "colab": {
          "base_uri": "https://localhost:8080/"
        },
        "outputId": "1d361945-8060-4c3c-9491-5ece16657670"
      },
      "execution_count": null,
      "outputs": [
        {
          "output_type": "execute_result",
          "data": {
            "text/plain": [
              "(6851, 20076)"
            ]
          },
          "metadata": {},
          "execution_count": 24
        }
      ]
    },
    {
      "cell_type": "code",
      "source": [
        "import itertools\n",
        "dict(itertools.islice(count_vect.vocabulary_.items(), 5))"
      ],
      "metadata": {
        "colab": {
          "base_uri": "https://localhost:8080/"
        },
        "id": "gviu4QzGc8Fl",
        "outputId": "541e53ea-bc9f-4d82-a3b8-019b74316196"
      },
      "execution_count": null,
      "outputs": [
        {
          "output_type": "execute_result",
          "data": {
            "text/plain": [
              "{'mogacola': 11723,\n",
              " 'zamtriossu': 19875,\n",
              " 'screamed': 15538,\n",
              " 'after': 1515,\n",
              " 'hitting': 8429}"
            ]
          },
          "metadata": {},
          "execution_count": 25
        }
      ]
    },
    {
      "cell_type": "code",
      "source": [
        "from sklearn.feature_extraction.text import TfidfTransformer \n",
        "tf_transformer = TfidfTransformer(use_idf=False).fit(X_train_counts)\n",
        "X_train_tf = tf_transformer.transform(X_train_counts) \n",
        "X_train_tf.shape"
      ],
      "metadata": {
        "colab": {
          "base_uri": "https://localhost:8080/"
        },
        "id": "e9A_ZIt9d7Hs",
        "outputId": "8a362899-52b7-4bb3-9fb3-8b278d0155fa"
      },
      "execution_count": null,
      "outputs": [
        {
          "output_type": "execute_result",
          "data": {
            "text/plain": [
              "(6851, 20076)"
            ]
          },
          "metadata": {},
          "execution_count": 26
        }
      ]
    },
    {
      "cell_type": "code",
      "source": [
        "from sklearn.naive_bayes import MultinomialNB \n",
        "clf = MultinomialNB().fit(X_train_tf, train_labels)"
      ],
      "metadata": {
        "id": "IYNf6RKMebIE"
      },
      "execution_count": null,
      "outputs": []
    },
    {
      "cell_type": "code",
      "source": [
        "new_data = [\"God is love\", \"It was complete a disaster\", \"there is a forest fire at spot pond, geese are fleeing across the street, I cannot save them all\"]\n",
        "X_new_counts = count_vect.transform(new_data)\n",
        "X_new_tf = tf_transformer.transform(X_new_counts)\n",
        "\n",
        "predicted = clf.predict(X_new_tf)\n",
        "\n",
        "for sentence, category in zip(new_data, predicted):\n",
        "  print('%r => %s' % (sentence, category))"
      ],
      "metadata": {
        "colab": {
          "base_uri": "https://localhost:8080/"
        },
        "id": "S-8JPel6fHUD",
        "outputId": "3defa5e6-f843-43a1-e015-920c5167e073"
      },
      "execution_count": null,
      "outputs": [
        {
          "output_type": "stream",
          "name": "stdout",
          "text": [
            "'God is love' => 0\n",
            "'It was complete a disaster' => 0\n",
            "'there is a forest fire at spot pond, geese are fleeing across the street, I cannot save them all' => 0\n"
          ]
        }
      ]
    },
    {
      "cell_type": "code",
      "source": [
        "# Evaluate our baseline model\n",
        "print(\"Our baseline score:\", clf.score(tf_transformer.transform(count_vect.transform(val_sentences)), val_labels) * 100)"
      ],
      "metadata": {
        "colab": {
          "base_uri": "https://localhost:8080/"
        },
        "id": "EoUNnSZogYAE",
        "outputId": "6f100192-4fd0-4fed-d77e-91268fd9cb8f"
      },
      "execution_count": null,
      "outputs": [
        {
          "output_type": "stream",
          "name": "stdout",
          "text": [
            "Our baseline score: 78.34645669291339\n"
          ]
        }
      ]
    },
    {
      "cell_type": "code",
      "source": [
        "# Make predictions\n",
        "baseline_preds = clf.predict(tf_transformer.transform(count_vect.transform(val_sentences)))\n",
        "baseline_preds[:20]"
      ],
      "metadata": {
        "colab": {
          "base_uri": "https://localhost:8080/"
        },
        "id": "A9NR_N8giXhL",
        "outputId": "132c44bb-402d-4550-df52-9b351e9cc6ba"
      },
      "execution_count": null,
      "outputs": [
        {
          "output_type": "execute_result",
          "data": {
            "text/plain": [
              "array([1, 1, 1, 0, 0, 1, 1, 1, 1, 0, 0, 0, 0, 0, 0, 0, 0, 0, 0, 1])"
            ]
          },
          "metadata": {},
          "execution_count": 30
        }
      ]
    },
    {
      "cell_type": "code",
      "source": [
        "val_labels[:20]"
      ],
      "metadata": {
        "colab": {
          "base_uri": "https://localhost:8080/"
        },
        "id": "V5GFJ2bwkXA7",
        "outputId": "289de3d2-fa49-4a67-b8ff-b74c7df2dac3"
      },
      "execution_count": null,
      "outputs": [
        {
          "output_type": "execute_result",
          "data": {
            "text/plain": [
              "[0, 0, 1, 1, 1, 1, 1, 1, 1, 0, 0, 0, 0, 0, 0, 0, 0, 0, 1, 0]"
            ]
          },
          "metadata": {},
          "execution_count": 31
        }
      ]
    },
    {
      "cell_type": "code",
      "source": [
        "# Building a model_0 pipeline\n",
        "from sklearn.pipeline import Pipeline\n",
        "model_0 = Pipeline([\n",
        "    ('vect', CountVectorizer()),\n",
        "    ('tfidf', TfidfTransformer()),\n",
        "    ('clf', MultinomialNB())\n",
        "])\n",
        "\n",
        "# Fit the model\n",
        "model_0.fit(train_sentences, train_labels)\n",
        "\n",
        "# Make predictions\n",
        "baseline_preds = model_0.predict(val_sentences)\n",
        "baseline_preds[:20]"
      ],
      "metadata": {
        "colab": {
          "base_uri": "https://localhost:8080/"
        },
        "id": "-EjT2JlnkaO0",
        "outputId": "6d0d700b-20df-4c3d-8e96-78c2ce1f1453"
      },
      "execution_count": null,
      "outputs": [
        {
          "output_type": "execute_result",
          "data": {
            "text/plain": [
              "array([1, 1, 1, 0, 0, 1, 1, 1, 1, 0, 0, 1, 0, 0, 0, 0, 0, 0, 0, 1])"
            ]
          },
          "metadata": {},
          "execution_count": 32
        }
      ]
    },
    {
      "cell_type": "code",
      "source": [
        "# Build an evaluation function\n",
        "from sklearn.metrics import precision_score, recall_score, accuracy_score\n",
        "from helper_functions import make_confusion_matrix\n",
        "\n",
        "def evaluation_function(y_true, y_pred):\n",
        "  accuracy = accuracy_score(y_true, y_pred)\n",
        "  precision = precision_score(y_true, y_pred) \n",
        "  recall = recall_score(y_true, y_pred)\n",
        "  data = {\n",
        "      \"Accuracy score\": np.round(accuracy, 2),\n",
        "      \"Precision score\": np.round(precision, 2),\n",
        "      \"Recall score\": np.round(recall, 2)\n",
        "  }\n",
        "  return data"
      ],
      "metadata": {
        "id": "g4b5rHaMmwVD"
      },
      "execution_count": null,
      "outputs": []
    },
    {
      "cell_type": "code",
      "source": [
        "import numpy as np\n",
        "baseline_metrics = evaluation_function(val_labels, baseline_preds)\n",
        "baseline_metrics"
      ],
      "metadata": {
        "colab": {
          "base_uri": "https://localhost:8080/"
        },
        "id": "5ZegxwJenqtd",
        "outputId": "bbb9e6a7-bb20-4a04-c423-72261c068fc4"
      },
      "execution_count": null,
      "outputs": [
        {
          "output_type": "execute_result",
          "data": {
            "text/plain": [
              "{'Accuracy score': 0.79, 'Precision score': 0.89, 'Recall score': 0.63}"
            ]
          },
          "metadata": {},
          "execution_count": 34
        }
      ]
    },
    {
      "cell_type": "code",
      "source": [
        "# Model 1: Feed Forward Network\n",
        "import numpy as np \n",
        "import matplotlib.pyplot as plt\n",
        "import tensorflow as tf\n",
        "from tensorflow import keras\n",
        "from tensorflow.keras import layers  \n",
        "\n",
        "def plot_graphs(history, metric):\n",
        "  plt.plot(history.history[metric])\n",
        "  plt.plot(history.history['val_'+metric], '')\n",
        "  plt.xlabel(\"Epochs\")\n",
        "  plt.ylabel(metric)\n",
        "  plt.legend([metric, 'val_'+metric])"
      ],
      "metadata": {
        "id": "9mcWgGUwnxeT"
      },
      "execution_count": null,
      "outputs": []
    },
    {
      "cell_type": "code",
      "source": [
        "# Create the model\n",
        "inputs = layers.Input(shape=(1,), dtype=tf.string)\n",
        "x = text_vectorizer(inputs)\n",
        "x = embedding(x)\n",
        "x = layers.Dense(128, activation=\"relu\")(x)\n",
        "x = layers.Dense(64, activation=\"relu\")(x)\n",
        "x = layers.Dense(32, activation=\"relu\")(x)\n",
        "x = layers.Flatten()(x)\n",
        "outputs = layers.Dense(1, activation=\"sigmoid\")(x)\n",
        "model_1 = keras.Model(inputs, outputs)\n",
        "\n",
        "model_1.summary()\n",
        "\n",
        "# Compile the model\n",
        "model_1.compile(loss=\"binary_crossentropy\",\n",
        "                optimizer=\"adam\",\n",
        "                metrics=[\"accuracy\"])\n",
        "\n",
        "# Fit the model\n",
        "model_1_history = model_1.fit(train_sentences,\n",
        "                      train_labels,\n",
        "                      epochs=20,\n",
        "                      validation_data=(val_sentences, val_labels))"
      ],
      "metadata": {
        "colab": {
          "base_uri": "https://localhost:8080/"
        },
        "id": "-MHZjXQGtreB",
        "outputId": "5b5dadfe-d47d-44a1-efbc-f84fb6e5b6ff"
      },
      "execution_count": null,
      "outputs": [
        {
          "output_type": "stream",
          "name": "stdout",
          "text": [
            "Model: \"model\"\n",
            "_________________________________________________________________\n",
            " Layer (type)                Output Shape              Param #   \n",
            "=================================================================\n",
            " input_1 (InputLayer)        [(None, 1)]               0         \n",
            "                                                                 \n",
            " text_vectorization_1 (TextV  (None, 15)               0         \n",
            " ectorization)                                                   \n",
            "                                                                 \n",
            " embedding (Embedding)       (None, 15, 128)           1280000   \n",
            "                                                                 \n",
            " dense (Dense)               (None, 15, 128)           16512     \n",
            "                                                                 \n",
            " dense_1 (Dense)             (None, 15, 64)            8256      \n",
            "                                                                 \n",
            " dense_2 (Dense)             (None, 15, 32)            2080      \n",
            "                                                                 \n",
            " flatten (Flatten)           (None, 480)               0         \n",
            "                                                                 \n",
            " dense_3 (Dense)             (None, 1)                 481       \n",
            "                                                                 \n",
            "=================================================================\n",
            "Total params: 1,307,329\n",
            "Trainable params: 1,307,329\n",
            "Non-trainable params: 0\n",
            "_________________________________________________________________\n",
            "Epoch 1/20\n",
            "215/215 [==============================] - 31s 113ms/step - loss: 0.5594 - accuracy: 0.6981 - val_loss: 0.4669 - val_accuracy: 0.7743\n",
            "Epoch 2/20\n",
            "215/215 [==============================] - 5s 24ms/step - loss: 0.3260 - accuracy: 0.8673 - val_loss: 0.4731 - val_accuracy: 0.7848\n",
            "Epoch 3/20\n",
            "215/215 [==============================] - 2s 10ms/step - loss: 0.1968 - accuracy: 0.9248 - val_loss: 0.5670 - val_accuracy: 0.7730\n",
            "Epoch 4/20\n",
            "215/215 [==============================] - 2s 10ms/step - loss: 0.1169 - accuracy: 0.9585 - val_loss: 0.6450 - val_accuracy: 0.7703\n",
            "Epoch 5/20\n",
            "215/215 [==============================] - 2s 8ms/step - loss: 0.0835 - accuracy: 0.9699 - val_loss: 0.7567 - val_accuracy: 0.7769\n",
            "Epoch 6/20\n",
            "215/215 [==============================] - 3s 13ms/step - loss: 0.0641 - accuracy: 0.9749 - val_loss: 0.8244 - val_accuracy: 0.7625\n",
            "Epoch 7/20\n",
            "215/215 [==============================] - 2s 8ms/step - loss: 0.0557 - accuracy: 0.9790 - val_loss: 0.8779 - val_accuracy: 0.7664\n",
            "Epoch 8/20\n",
            "215/215 [==============================] - 2s 8ms/step - loss: 0.0509 - accuracy: 0.9785 - val_loss: 0.9005 - val_accuracy: 0.7480\n",
            "Epoch 9/20\n",
            "215/215 [==============================] - 1s 6ms/step - loss: 0.0478 - accuracy: 0.9809 - val_loss: 0.9088 - val_accuracy: 0.7467\n",
            "Epoch 10/20\n",
            "215/215 [==============================] - 1s 6ms/step - loss: 0.0435 - accuracy: 0.9822 - val_loss: 0.9255 - val_accuracy: 0.7651\n",
            "Epoch 11/20\n",
            "215/215 [==============================] - 2s 10ms/step - loss: 0.0419 - accuracy: 0.9815 - val_loss: 1.0016 - val_accuracy: 0.7480\n",
            "Epoch 12/20\n",
            "215/215 [==============================] - 2s 7ms/step - loss: 0.0409 - accuracy: 0.9812 - val_loss: 1.0093 - val_accuracy: 0.7677\n",
            "Epoch 13/20\n",
            "215/215 [==============================] - 1s 6ms/step - loss: 0.0402 - accuracy: 0.9818 - val_loss: 0.9988 - val_accuracy: 0.7533\n",
            "Epoch 14/20\n",
            "215/215 [==============================] - 1s 6ms/step - loss: 0.0377 - accuracy: 0.9829 - val_loss: 1.0042 - val_accuracy: 0.7533\n",
            "Epoch 15/20\n",
            "215/215 [==============================] - 2s 7ms/step - loss: 0.0376 - accuracy: 0.9819 - val_loss: 1.0846 - val_accuracy: 0.7664\n",
            "Epoch 16/20\n",
            "215/215 [==============================] - 1s 6ms/step - loss: 0.0345 - accuracy: 0.9831 - val_loss: 1.1218 - val_accuracy: 0.7585\n",
            "Epoch 17/20\n",
            "215/215 [==============================] - 2s 9ms/step - loss: 0.0360 - accuracy: 0.9819 - val_loss: 1.0344 - val_accuracy: 0.7612\n",
            "Epoch 18/20\n",
            "215/215 [==============================] - 1s 6ms/step - loss: 0.0336 - accuracy: 0.9826 - val_loss: 1.0702 - val_accuracy: 0.7507\n",
            "Epoch 19/20\n",
            "215/215 [==============================] - 1s 6ms/step - loss: 0.0319 - accuracy: 0.9838 - val_loss: 1.0864 - val_accuracy: 0.7454\n",
            "Epoch 20/20\n",
            "215/215 [==============================] - 1s 6ms/step - loss: 0.0330 - accuracy: 0.9831 - val_loss: 1.0847 - val_accuracy: 0.7480\n"
          ]
        }
      ]
    },
    {
      "cell_type": "code",
      "source": [
        "model_1.evaluate(val_sentences, val_labels)"
      ],
      "metadata": {
        "colab": {
          "base_uri": "https://localhost:8080/"
        },
        "id": "u5-GMniX89mA",
        "outputId": "7b44ccc4-1520-42f8-d768-763d54ac259f"
      },
      "execution_count": null,
      "outputs": [
        {
          "output_type": "stream",
          "name": "stdout",
          "text": [
            "24/24 [==============================] - 0s 4ms/step - loss: 1.0847 - accuracy: 0.7480\n"
          ]
        },
        {
          "output_type": "execute_result",
          "data": {
            "text/plain": [
              "[1.0846940279006958, 0.748031497001648]"
            ]
          },
          "metadata": {},
          "execution_count": 37
        }
      ]
    },
    {
      "cell_type": "code",
      "source": [
        "y_pred_prob = model_1.predict(val_sentences)"
      ],
      "metadata": {
        "colab": {
          "base_uri": "https://localhost:8080/"
        },
        "id": "jwqMczQLvre5",
        "outputId": "28762dc1-0074-4a2e-db4a-e539309ea138"
      },
      "execution_count": null,
      "outputs": [
        {
          "output_type": "stream",
          "name": "stdout",
          "text": [
            "24/24 [==============================] - 0s 3ms/step\n"
          ]
        }
      ]
    },
    {
      "cell_type": "code",
      "source": [
        "y_pred_prob.shape"
      ],
      "metadata": {
        "colab": {
          "base_uri": "https://localhost:8080/"
        },
        "id": "9o18Z-1-76UJ",
        "outputId": "1b2c4b85-004c-4561-9281-507618cece6f"
      },
      "execution_count": null,
      "outputs": [
        {
          "output_type": "execute_result",
          "data": {
            "text/plain": [
              "(762, 1)"
            ]
          },
          "metadata": {},
          "execution_count": 39
        }
      ]
    },
    {
      "cell_type": "code",
      "source": [
        "preds = []\n",
        "for x in y_pred_prob:\n",
        "  if x >= 0.5:\n",
        "    preds.append(1)\n",
        "  else:\n",
        "    preds.append(0)"
      ],
      "metadata": {
        "id": "W5h78yud9Se7"
      },
      "execution_count": null,
      "outputs": []
    },
    {
      "cell_type": "code",
      "source": [
        "preds[:10]"
      ],
      "metadata": {
        "colab": {
          "base_uri": "https://localhost:8080/"
        },
        "id": "I-8mudQ092X-",
        "outputId": "3f67158f-8948-4587-9452-725e115f703b"
      },
      "execution_count": null,
      "outputs": [
        {
          "output_type": "execute_result",
          "data": {
            "text/plain": [
              "[0, 1, 1, 0, 0, 1, 1, 1, 1, 0]"
            ]
          },
          "metadata": {},
          "execution_count": 41
        }
      ]
    },
    {
      "cell_type": "code",
      "source": [
        "val_labels[:10]"
      ],
      "metadata": {
        "colab": {
          "base_uri": "https://localhost:8080/"
        },
        "id": "MbsFYHpJ98ri",
        "outputId": "01c9a8f5-dad3-4b04-f528-f6d4dd80cb83"
      },
      "execution_count": null,
      "outputs": [
        {
          "output_type": "execute_result",
          "data": {
            "text/plain": [
              "[0, 0, 1, 1, 1, 1, 1, 1, 1, 0]"
            ]
          },
          "metadata": {},
          "execution_count": 42
        }
      ]
    },
    {
      "cell_type": "code",
      "source": [
        "model_1_preds = tf.squeeze(tf.round(y_pred_prob))"
      ],
      "metadata": {
        "id": "a1fZ_Bi--lhT"
      },
      "execution_count": null,
      "outputs": []
    },
    {
      "cell_type": "code",
      "source": [
        "baseline_metrics"
      ],
      "metadata": {
        "id": "MW8Z8sDI_PDf",
        "colab": {
          "base_uri": "https://localhost:8080/"
        },
        "outputId": "86b0a049-0e90-4381-ab71-7b43a0ea05a6"
      },
      "execution_count": null,
      "outputs": [
        {
          "output_type": "execute_result",
          "data": {
            "text/plain": [
              "{'Accuracy score': 0.79, 'Precision score': 0.89, 'Recall score': 0.63}"
            ]
          },
          "metadata": {},
          "execution_count": 44
        }
      ]
    },
    {
      "cell_type": "code",
      "source": [
        "model_1_results = evaluation_function(val_labels, model_1_preds)\n",
        "model_1_results"
      ],
      "metadata": {
        "colab": {
          "base_uri": "https://localhost:8080/"
        },
        "id": "Pvmd7EY81axi",
        "outputId": "efd36b20-5aff-48fc-b85a-f65334ed7f50"
      },
      "execution_count": null,
      "outputs": [
        {
          "output_type": "execute_result",
          "data": {
            "text/plain": [
              "{'Accuracy score': 0.75, 'Precision score': 0.75, 'Recall score': 0.68}"
            ]
          },
          "metadata": {},
          "execution_count": 45
        }
      ]
    },
    {
      "cell_type": "code",
      "source": [
        "plt.figure(figsize=(16, 8))\n",
        "plt.subplot(1, 2, 1)\n",
        "plot_graphs(model_1_history, 'accuracy')\n",
        "plt.ylim(None, 1)\n",
        "plt.subplot(1, 2, 2)\n",
        "plot_graphs(model_1_history, 'loss')\n",
        "plt.ylim(0, None)"
      ],
      "metadata": {
        "colab": {
          "base_uri": "https://localhost:8080/",
          "height": 379
        },
        "id": "7L7sPyju5lwW",
        "outputId": "79a94bcf-a55c-436b-b356-729e57991d73"
      },
      "execution_count": null,
      "outputs": [
        {
          "output_type": "execute_result",
          "data": {
            "text/plain": [
              "(0.0, 1.1762775033712387)"
            ]
          },
          "metadata": {},
          "execution_count": 46
        },
        {
          "output_type": "display_data",
          "data": {
            "text/plain": [
              "<Figure size 1152x576 with 2 Axes>"
            ],
            "image/png": "[encoded data removed]"
          },
          "metadata": {
            "needs_background": "light"
          }
        }
      ]
    },
    {
      "cell_type": "markdown",
      "source": [
        "### Visualizing learned embeddings"
      ],
      "metadata": {
        "id": "Uk2Hch-uXhiG"
      }
    },
    {
      "cell_type": "code",
      "source": [
        "# Get the vocabulary from the text vectorization layer\n",
        "words_in_vocab = text_vectorizer.get_vocabulary()\n",
        "len(words_in_vocab), words_in_vocab[:10]"
      ],
      "metadata": {
        "id": "oRVwi8Qq7iR2",
        "colab": {
          "base_uri": "https://localhost:8080/"
        },
        "outputId": "cab7a82a-0b1d-4bc2-a8a3-69adcabcb89f"
      },
      "execution_count": null,
      "outputs": [
        {
          "output_type": "execute_result",
          "data": {
            "text/plain": [
              "(10000, ['', '[UNK]', 'the', 'a', 'in', 'to', 'of', 'and', 'i', 'is'])"
            ]
          },
          "metadata": {},
          "execution_count": 47
        }
      ]
    },
    {
      "cell_type": "code",
      "source": [
        "model_1.summary()"
      ],
      "metadata": {
        "colab": {
          "base_uri": "https://localhost:8080/"
        },
        "id": "25pzYACYXzjC",
        "outputId": "fae40a0d-e2c8-4a49-bb82-4f85c6936b81"
      },
      "execution_count": null,
      "outputs": [
        {
          "output_type": "stream",
          "name": "stdout",
          "text": [
            "Model: \"model\"\n",
            "_________________________________________________________________\n",
            " Layer (type)                Output Shape              Param #   \n",
            "=================================================================\n",
            " input_1 (InputLayer)        [(None, 1)]               0         \n",
            "                                                                 \n",
            " text_vectorization_1 (TextV  (None, 15)               0         \n",
            " ectorization)                                                   \n",
            "                                                                 \n",
            " embedding (Embedding)       (None, 15, 128)           1280000   \n",
            "                                                                 \n",
            " dense (Dense)               (None, 15, 128)           16512     \n",
            "                                                                 \n",
            " dense_1 (Dense)             (None, 15, 64)            8256      \n",
            "                                                                 \n",
            " dense_2 (Dense)             (None, 15, 32)            2080      \n",
            "                                                                 \n",
            " flatten (Flatten)           (None, 480)               0         \n",
            "                                                                 \n",
            " dense_3 (Dense)             (None, 1)                 481       \n",
            "                                                                 \n",
            "=================================================================\n",
            "Total params: 1,307,329\n",
            "Trainable params: 1,307,329\n",
            "Non-trainable params: 0\n",
            "_________________________________________________________________\n"
          ]
        }
      ]
    },
    {
      "cell_type": "code",
      "source": [
        "# Get the weight matrix of embedding layer\n",
        "# (these are the numerical representation of each token in our training data)\n",
        "embed_weights = model_1.get_layer(\"embedding\").get_weights()[0]\n",
        "embed_weights.shape"
      ],
      "metadata": {
        "colab": {
          "base_uri": "https://localhost:8080/"
        },
        "id": "_u2mObYwYI76",
        "outputId": "8858e177-5314-4972-cb33-5a7fed9cde8d"
      },
      "execution_count": null,
      "outputs": [
        {
          "output_type": "execute_result",
          "data": {
            "text/plain": [
              "(10000, 128)"
            ]
          },
          "metadata": {},
          "execution_count": 49
        }
      ]
    },
    {
      "cell_type": "code",
      "source": [
        "import io\n",
        "\n",
        "out_v = io.open('vectors.tsv', 'w', encoding='utf-8')\n",
        "out_m = io.open('metadata.tsv', 'w', encoding='utf-8')\n",
        "\n",
        "for index, word in enumerate(words_in_vocab):\n",
        "  if index == 0:\n",
        "    continue  # skip 0, it's padding.\n",
        "  vec = embed_weights[index]\n",
        "  out_v.write('\\t'.join([str(x) for x in vec]) + \"\\n\")\n",
        "  out_m.write(word + \"\\n\")\n",
        "out_v.close()\n",
        "out_m.close()"
      ],
      "metadata": {
        "id": "ooeN4LHsYoyx"
      },
      "execution_count": null,
      "outputs": []
    },
    {
      "cell_type": "code",
      "source": [
        "# Model 2: (LSTM) A recurrent neural network\n",
        "inputs = keras.Input(shape=(1,), dtype=tf.string) \n",
        "x = text_vectorizer(inputs)\n",
        "x = embedding(x)\n",
        "x = layers.LSTM(64, return_sequences=True)(x)\n",
        "x = layers.LSTM(32)(x)\n",
        "x = layers.Dense(64, activation=\"relu\")(x)\n",
        "x = layers.Dropout(0.5)(x)\n",
        "outputs = layers.Dense(1, activation=\"sigmoid\")(x)\n",
        "model_2 = keras.Model(inputs, outputs)\n",
        "model_2.summary()"
      ],
      "metadata": {
        "id": "tR-sG4wVbPG9",
        "colab": {
          "base_uri": "https://localhost:8080/"
        },
        "outputId": "1b9e2118-6252-484e-9a0d-ba9c4eb06d2b"
      },
      "execution_count": null,
      "outputs": [
        {
          "output_type": "stream",
          "name": "stdout",
          "text": [
            "Model: \"model_1\"\n",
            "_________________________________________________________________\n",
            " Layer (type)                Output Shape              Param #   \n",
            "=================================================================\n",
            " input_2 (InputLayer)        [(None, 1)]               0         \n",
            "                                                                 \n",
            " text_vectorization_1 (TextV  (None, 15)               0         \n",
            " ectorization)                                                   \n",
            "                                                                 \n",
            " embedding (Embedding)       (None, 15, 128)           1280000   \n",
            "                                                                 \n",
            " lstm (LSTM)                 (None, 15, 64)            49408     \n",
            "                                                                 \n",
            " lstm_1 (LSTM)               (None, 32)                12416     \n",
            "                                                                 \n",
            " dense_4 (Dense)             (None, 64)                2112      \n",
            "                                                                 \n",
            " dropout (Dropout)           (None, 64)                0         \n",
            "                                                                 \n",
            " dense_5 (Dense)             (None, 1)                 65        \n",
            "                                                                 \n",
            "=================================================================\n",
            "Total params: 1,344,001\n",
            "Trainable params: 1,344,001\n",
            "Non-trainable params: 0\n",
            "_________________________________________________________________\n"
          ]
        }
      ]
    },
    {
      "cell_type": "code",
      "source": [
        "# Compile the model\n",
        "model_2.compile(loss=\"binary_crossentropy\",\n",
        "                optimizer=\"adam\",\n",
        "                metrics=[\"accuracy\"])\n",
        "\n",
        "# Fit the model\n",
        "history_2 = model_2.fit(train_sentences,\n",
        "            train_labels,\n",
        "            epochs=10,\n",
        "            validation_data=(val_sentences, val_labels))"
      ],
      "metadata": {
        "colab": {
          "base_uri": "https://localhost:8080/"
        },
        "id": "0vYEZZ6O-s54",
        "outputId": "be9d4b99-9bb6-4b30-e42b-2f5865405fcc"
      },
      "execution_count": null,
      "outputs": [
        {
          "output_type": "stream",
          "name": "stdout",
          "text": [
            "Epoch 1/10\n",
            "215/215 [==============================] - 16s 49ms/step - loss: 0.2610 - accuracy: 0.8977 - val_loss: 0.6122 - val_accuracy: 0.7690\n",
            "Epoch 2/10\n",
            "215/215 [==============================] - 2s 12ms/step - loss: 0.1364 - accuracy: 0.9527 - val_loss: 0.7662 - val_accuracy: 0.7625\n",
            "Epoch 3/10\n",
            "215/215 [==============================] - 3s 13ms/step - loss: 0.0811 - accuracy: 0.9648 - val_loss: 0.8524 - val_accuracy: 0.7612\n",
            "Epoch 4/10\n",
            "215/215 [==============================] - 2s 10ms/step - loss: 0.0657 - accuracy: 0.9743 - val_loss: 1.5147 - val_accuracy: 0.7441\n",
            "Epoch 5/10\n",
            "215/215 [==============================] - 2s 10ms/step - loss: 0.0577 - accuracy: 0.9755 - val_loss: 1.3776 - val_accuracy: 0.7415\n",
            "Epoch 6/10\n",
            "215/215 [==============================] - 2s 8ms/step - loss: 0.0536 - accuracy: 0.9768 - val_loss: 1.2733 - val_accuracy: 0.7572\n",
            "Epoch 7/10\n",
            "215/215 [==============================] - 2s 8ms/step - loss: 0.0441 - accuracy: 0.9800 - val_loss: 1.4213 - val_accuracy: 0.7507\n",
            "Epoch 8/10\n",
            "215/215 [==============================] - 2s 10ms/step - loss: 0.0455 - accuracy: 0.9787 - val_loss: 1.4130 - val_accuracy: 0.7520\n",
            "Epoch 9/10\n",
            "215/215 [==============================] - 2s 9ms/step - loss: 0.0414 - accuracy: 0.9804 - val_loss: 1.6087 - val_accuracy: 0.7375\n",
            "Epoch 10/10\n",
            "215/215 [==============================] - 2s 9ms/step - loss: 0.0382 - accuracy: 0.9810 - val_loss: 1.6544 - val_accuracy: 0.7415\n"
          ]
        }
      ]
    },
    {
      "cell_type": "code",
      "source": [
        "plt.figure(figsize=(16, 8))\n",
        "plt.subplot(1, 2, 1)\n",
        "plot_graphs(history_2, 'accuracy')\n",
        "plt.ylim(None, 1)\n",
        "plt.subplot(1, 2, 2)\n",
        "plot_graphs(history_2, 'loss')\n",
        "plt.ylim(0, None)"
      ],
      "metadata": {
        "colab": {
          "base_uri": "https://localhost:8080/",
          "height": 379
        },
        "id": "n6oOgoa7_lxG",
        "outputId": "f554bd89-eeef-4c8a-fc25-b12c32a34220"
      },
      "execution_count": null,
      "outputs": [
        {
          "output_type": "execute_result",
          "data": {
            "text/plain": [
              "(0.0, 1.735187555477023)"
            ]
          },
          "metadata": {},
          "execution_count": 53
        },
        {
          "output_type": "display_data",
          "data": {
            "text/plain": [
              "<Figure size 1152x576 with 2 Axes>"
            ],
            "image/png": "[encoded data removed]"
          },
          "metadata": {
            "needs_background": "light"
          }
        }
      ]
    },
    {
      "cell_type": "code",
      "source": [
        "model_2_preds = tf.squeeze(tf.round(model_2.predict(val_sentences)))\n",
        "model_2_preds[:5].numpy()"
      ],
      "metadata": {
        "colab": {
          "base_uri": "https://localhost:8080/"
        },
        "id": "NqT1RxPTAbmU",
        "outputId": "bb55aab7-2af3-4636-ddf7-6b660bf365f5"
      },
      "execution_count": null,
      "outputs": [
        {
          "output_type": "stream",
          "name": "stdout",
          "text": [
            "24/24 [==============================] - 1s 3ms/step\n"
          ]
        },
        {
          "output_type": "execute_result",
          "data": {
            "text/plain": [
              "array([0., 1., 1., 0., 0.], dtype=float32)"
            ]
          },
          "metadata": {},
          "execution_count": 54
        }
      ]
    },
    {
      "cell_type": "code",
      "source": [
        "model_2_results = evaluation_function(val_labels, model_2_preds)\n",
        "model_2_results"
      ],
      "metadata": {
        "colab": {
          "base_uri": "https://localhost:8080/"
        },
        "id": "SqofikxSAV-I",
        "outputId": "3a1cbe60-9f2b-4aff-d47e-0a1d52172cd9"
      },
      "execution_count": null,
      "outputs": [
        {
          "output_type": "execute_result",
          "data": {
            "text/plain": [
              "{'Accuracy score': 0.74, 'Precision score': 0.74, 'Recall score': 0.68}"
            ]
          },
          "metadata": {},
          "execution_count": 55
        }
      ]
    },
    {
      "cell_type": "code",
      "source": [
        "baseline_metrics"
      ],
      "metadata": {
        "colab": {
          "base_uri": "https://localhost:8080/"
        },
        "id": "Y412h5SkA1p7",
        "outputId": "43a13678-b9e7-482c-e95b-741d48e952b1"
      },
      "execution_count": null,
      "outputs": [
        {
          "output_type": "execute_result",
          "data": {
            "text/plain": [
              "{'Accuracy score': 0.79, 'Precision score': 0.89, 'Recall score': 0.63}"
            ]
          },
          "metadata": {},
          "execution_count": 56
        }
      ]
    },
    {
      "cell_type": "code",
      "source": [
        "# Nodel_3: GRU RNN\n",
        "inputs = keras.Input(shape=(1,), dtype=tf.string)\n",
        "x = text_vectorizer(inputs)\n",
        "x = embedding(x)\n",
        "x = layers.GRU(512, return_sequences=True)(x)\n",
        "x = layers.GRU(128, return_sequences=True)(x)\n",
        "x = layers.GRU(64, return_sequences=True)(x)\n",
        "x = layers.GRU(32)(x)\n",
        "x = layers.Dense(64, activation=\"relu\")(x)\n",
        "x = layers.Dropout(0.5)(x)\n",
        "outputs = layers.Dense(1, activation=\"sigmoid\")(x)\n",
        "model_3 = keras.Model(inputs, outputs, name=\"model_3\")\n",
        "model_3.summary()"
      ],
      "metadata": {
        "id": "owusGvJwA24D",
        "colab": {
          "base_uri": "https://localhost:8080/"
        },
        "outputId": "bb4fcb5d-ff74-49af-c3c1-b471b2ce552c"
      },
      "execution_count": null,
      "outputs": [
        {
          "output_type": "stream",
          "name": "stdout",
          "text": [
            "Model: \"model_3\"\n",
            "_________________________________________________________________\n",
            " Layer (type)                Output Shape              Param #   \n",
            "=================================================================\n",
            " input_3 (InputLayer)        [(None, 1)]               0         \n",
            "                                                                 \n",
            " text_vectorization_1 (TextV  (None, 15)               0         \n",
            " ectorization)                                                   \n",
            "                                                                 \n",
            " embedding (Embedding)       (None, 15, 128)           1280000   \n",
            "                                                                 \n",
            " gru (GRU)                   (None, 15, 512)           986112    \n",
            "                                                                 \n",
            " gru_1 (GRU)                 (None, 15, 128)           246528    \n",
            "                                                                 \n",
            " gru_2 (GRU)                 (None, 15, 64)            37248     \n",
            "                                                                 \n",
            " gru_3 (GRU)                 (None, 32)                9408      \n",
            "                                                                 \n",
            " dense_6 (Dense)             (None, 64)                2112      \n",
            "                                                                 \n",
            " dropout_1 (Dropout)         (None, 64)                0         \n",
            "                                                                 \n",
            " dense_7 (Dense)             (None, 1)                 65        \n",
            "                                                                 \n",
            "=================================================================\n",
            "Total params: 2,561,473\n",
            "Trainable params: 2,561,473\n",
            "Non-trainable params: 0\n",
            "_________________________________________________________________\n"
          ]
        }
      ]
    },
    {
      "cell_type": "code",
      "source": [
        "# Compile the model\n",
        "model_3.compile(loss=\"binary_crossentropy\",\n",
        "                optimizer=\"adam\",\n",
        "                metrics=[\"accuracy\"])\n",
        "\n",
        "# Fit the model\n",
        "history_3 = model_3.fit(train_sentences,\n",
        "                        train_labels,\n",
        "                        epochs=10,\n",
        "                        validation_data=(val_sentences, val_labels))"
      ],
      "metadata": {
        "colab": {
          "base_uri": "https://localhost:8080/"
        },
        "id": "ujYk_UloPQC4",
        "outputId": "74fbc8dc-c1cd-4f37-bbc8-9429f5f09479"
      },
      "execution_count": null,
      "outputs": [
        {
          "output_type": "stream",
          "name": "stdout",
          "text": [
            "Epoch 1/10\n",
            "215/215 [==============================] - 18s 48ms/step - loss: 0.1612 - accuracy: 0.9456 - val_loss: 0.9055 - val_accuracy: 0.7454\n",
            "Epoch 2/10\n",
            "215/215 [==============================] - 3s 16ms/step - loss: 0.0676 - accuracy: 0.9753 - val_loss: 1.2583 - val_accuracy: 0.7507\n",
            "Epoch 3/10\n",
            "215/215 [==============================] - 3s 14ms/step - loss: 0.0628 - accuracy: 0.9742 - val_loss: 1.5348 - val_accuracy: 0.7323\n",
            "Epoch 4/10\n",
            "215/215 [==============================] - 3s 14ms/step - loss: 0.0637 - accuracy: 0.9756 - val_loss: 1.3645 - val_accuracy: 0.7441\n",
            "Epoch 5/10\n",
            "215/215 [==============================] - 3s 12ms/step - loss: 0.0586 - accuracy: 0.9775 - val_loss: 1.1451 - val_accuracy: 0.7428\n",
            "Epoch 6/10\n",
            "215/215 [==============================] - 2s 12ms/step - loss: 0.0480 - accuracy: 0.9772 - val_loss: 1.1347 - val_accuracy: 0.7507\n",
            "Epoch 7/10\n",
            "215/215 [==============================] - 3s 13ms/step - loss: 0.0394 - accuracy: 0.9812 - val_loss: 1.5329 - val_accuracy: 0.7402\n",
            "Epoch 8/10\n",
            "215/215 [==============================] - 3s 13ms/step - loss: 0.0399 - accuracy: 0.9812 - val_loss: 1.5535 - val_accuracy: 0.7454\n",
            "Epoch 9/10\n",
            "215/215 [==============================] - 2s 11ms/step - loss: 0.0388 - accuracy: 0.9829 - val_loss: 1.7616 - val_accuracy: 0.7388\n",
            "Epoch 10/10\n",
            "215/215 [==============================] - 2s 11ms/step - loss: 0.0366 - accuracy: 0.9837 - val_loss: 1.6962 - val_accuracy: 0.7480\n"
          ]
        }
      ]
    },
    {
      "cell_type": "code",
      "source": [
        "plt.figure(figsize=(16, 8))\n",
        "plt.subplot(1, 2, 1)\n",
        "plot_graphs(history_3, 'accuracy')\n",
        "plt.ylim(None, 1)\n",
        "plt.subplot(1, 2, 2)\n",
        "plot_graphs(history_3, 'loss')\n",
        "plt.ylim(0, None)"
      ],
      "metadata": {
        "colab": {
          "base_uri": "https://localhost:8080/",
          "height": 379
        },
        "id": "lqnhA-9eQCqw",
        "outputId": "556f2b61-d4f9-4fb7-eb69-103eddca0167"
      },
      "execution_count": null,
      "outputs": [
        {
          "output_type": "execute_result",
          "data": {
            "text/plain": [
              "(0.0, 1.847862358391285)"
            ]
          },
          "metadata": {},
          "execution_count": 59
        },
        {
          "output_type": "display_data",
          "data": {
            "text/plain": [
              "<Figure size 1152x576 with 2 Axes>"
            ],
            "image/png": "[encoded data removed]"
          },
          "metadata": {
            "needs_background": "light"
          }
        }
      ]
    },
    {
      "cell_type": "code",
      "source": [
        "model_3_preds = tf.squeeze(tf.round(model_3.predict(val_sentences)))\n",
        "model_3_preds[:5].numpy()"
      ],
      "metadata": {
        "colab": {
          "base_uri": "https://localhost:8080/"
        },
        "id": "Obpx6sKpQRLs",
        "outputId": "c6709042-7990-48ff-982f-ad5f1fb2be60"
      },
      "execution_count": null,
      "outputs": [
        {
          "output_type": "stream",
          "name": "stdout",
          "text": [
            "24/24 [==============================] - 1s 5ms/step\n"
          ]
        },
        {
          "output_type": "execute_result",
          "data": {
            "text/plain": [
              "array([0., 1., 1., 0., 0.], dtype=float32)"
            ]
          },
          "metadata": {},
          "execution_count": 60
        }
      ]
    },
    {
      "cell_type": "code",
      "source": [
        "model_3_results = evaluation_function(val_labels, model_3_preds)\n",
        "model_3_results"
      ],
      "metadata": {
        "colab": {
          "base_uri": "https://localhost:8080/"
        },
        "id": "2NIXZoGmQc25",
        "outputId": "8d163678-e75e-4404-ef21-dd9beb1cb131"
      },
      "execution_count": null,
      "outputs": [
        {
          "output_type": "execute_result",
          "data": {
            "text/plain": [
              "{'Accuracy score': 0.75, 'Precision score': 0.73, 'Recall score': 0.71}"
            ]
          },
          "metadata": {},
          "execution_count": 61
        }
      ]
    },
    {
      "cell_type": "code",
      "source": [
        "baseline_metrics"
      ],
      "metadata": {
        "colab": {
          "base_uri": "https://localhost:8080/"
        },
        "id": "QnShAg4JQhV4",
        "outputId": "3567fcb1-c093-43fc-8491-d628f88ee92e"
      },
      "execution_count": null,
      "outputs": [
        {
          "output_type": "execute_result",
          "data": {
            "text/plain": [
              "{'Accuracy score': 0.79, 'Precision score': 0.89, 'Recall score': 0.63}"
            ]
          },
          "metadata": {},
          "execution_count": 62
        }
      ]
    },
    {
      "cell_type": "code",
      "source": [
        "# Model_4: Bidirectional\n",
        "inputs = keras.Input(shape=(1,), dtype=tf.string)\n",
        "x = text_vectorizer(inputs)\n",
        "x = embedding(x)\n",
        "x = layers.Bidirectional(layers.LSTM(64))(x)\n",
        "outputs = layers.Dense(1, activation=\"sigmoid\")(x)\n",
        "model_4 = keras.Model(inputs, outputs)"
      ],
      "metadata": {
        "id": "JXhQfybFVOv-"
      },
      "execution_count": null,
      "outputs": []
    },
    {
      "cell_type": "code",
      "source": [
        "# Compile the model\n",
        "model_4.compile(loss=\"binary_crossentropy\",\n",
        "                optimizer=\"adam\",\n",
        "                metrics=[\"accuracy\"])\n",
        "\n",
        "# Fit the model\n",
        "history_4 = model_4.fit(train_sentences, \n",
        "                        train_labels,\n",
        "                        epochs=10, \n",
        "                        validation_data=(val_sentences, val_labels))"
      ],
      "metadata": {
        "colab": {
          "base_uri": "https://localhost:8080/"
        },
        "id": "X9ZYS0MdVt3e",
        "outputId": "8b2c41a8-9813-4ad4-9d76-0b79e766c7af"
      },
      "execution_count": null,
      "outputs": [
        {
          "output_type": "stream",
          "name": "stdout",
          "text": [
            "Epoch 1/10\n",
            "215/215 [==============================] - 13s 43ms/step - loss: 0.1333 - accuracy: 0.9524 - val_loss: 1.1412 - val_accuracy: 0.7612\n",
            "Epoch 2/10\n",
            "215/215 [==============================] - 2s 11ms/step - loss: 0.0435 - accuracy: 0.9790 - val_loss: 1.1327 - val_accuracy: 0.7625\n",
            "Epoch 3/10\n",
            "215/215 [==============================] - 3s 13ms/step - loss: 0.0334 - accuracy: 0.9838 - val_loss: 1.5174 - val_accuracy: 0.7480\n",
            "Epoch 4/10\n",
            "215/215 [==============================] - 2s 8ms/step - loss: 0.0329 - accuracy: 0.9829 - val_loss: 1.3633 - val_accuracy: 0.7441\n",
            "Epoch 5/10\n",
            "215/215 [==============================] - 2s 9ms/step - loss: 0.0319 - accuracy: 0.9844 - val_loss: 1.5296 - val_accuracy: 0.7493\n",
            "Epoch 6/10\n",
            "215/215 [==============================] - 2s 11ms/step - loss: 0.0313 - accuracy: 0.9837 - val_loss: 1.5702 - val_accuracy: 0.7533\n",
            "Epoch 7/10\n",
            "215/215 [==============================] - 2s 10ms/step - loss: 0.0293 - accuracy: 0.9850 - val_loss: 1.6562 - val_accuracy: 0.7480\n",
            "Epoch 8/10\n",
            "215/215 [==============================] - 2s 9ms/step - loss: 0.0306 - accuracy: 0.9841 - val_loss: 1.7540 - val_accuracy: 0.7310\n",
            "Epoch 9/10\n",
            "215/215 [==============================] - 2s 10ms/step - loss: 0.0334 - accuracy: 0.9844 - val_loss: 1.6849 - val_accuracy: 0.7546\n",
            "Epoch 10/10\n",
            "215/215 [==============================] - 2s 8ms/step - loss: 0.0301 - accuracy: 0.9839 - val_loss: 1.6485 - val_accuracy: 0.7480\n"
          ]
        }
      ]
    },
    {
      "cell_type": "code",
      "source": [
        "plt.figure(figsize=(16, 8))\n",
        "plt.subplot(1, 2, 1)\n",
        "plot_graphs(history_4, 'accuracy')\n",
        "plt.ylim(None, 1)\n",
        "plt.subplot(1, 2, 2)\n",
        "plot_graphs(history_4, 'loss')\n",
        "plt.ylim(0, None)"
      ],
      "metadata": {
        "colab": {
          "base_uri": "https://localhost:8080/",
          "height": 379
        },
        "id": "QAZdrDN2WC88",
        "outputId": "542daf2f-1f20-44eb-a5de-23ce3134e788"
      },
      "execution_count": null,
      "outputs": [
        {
          "output_type": "execute_result",
          "data": {
            "text/plain": [
              "(0.0, 1.840278113540262)"
            ]
          },
          "metadata": {},
          "execution_count": 65
        },
        {
          "output_type": "display_data",
          "data": {
            "text/plain": [
              "<Figure size 1152x576 with 2 Axes>"
            ],
            "image/png": "[encoded data removed]"
          },
          "metadata": {
            "needs_background": "light"
          }
        }
      ]
    },
    {
      "cell_type": "code",
      "source": [
        "model_4_preds = tf.squeeze(tf.round(model_4.predict(val_sentences)))\n",
        "model_4_preds[:5].numpy()"
      ],
      "metadata": {
        "colab": {
          "base_uri": "https://localhost:8080/"
        },
        "id": "_-YcfWiYWNQt",
        "outputId": "ba889022-0f53-4c9c-bec8-c4995128e32f"
      },
      "execution_count": null,
      "outputs": [
        {
          "output_type": "stream",
          "name": "stdout",
          "text": [
            "24/24 [==============================] - 1s 3ms/step\n"
          ]
        },
        {
          "output_type": "execute_result",
          "data": {
            "text/plain": [
              "array([0., 1., 1., 1., 0.], dtype=float32)"
            ]
          },
          "metadata": {},
          "execution_count": 66
        }
      ]
    },
    {
      "cell_type": "code",
      "source": [
        "model_4_results = evaluation_function(val_labels, model_4_preds)\n",
        "model_4_results"
      ],
      "metadata": {
        "colab": {
          "base_uri": "https://localhost:8080/"
        },
        "id": "dIhlxkvrWVrs",
        "outputId": "89b5d4b1-b537-4d55-d0b3-69fc4fbb2227"
      },
      "execution_count": null,
      "outputs": [
        {
          "output_type": "execute_result",
          "data": {
            "text/plain": [
              "{'Accuracy score': 0.75, 'Precision score': 0.74, 'Recall score': 0.7}"
            ]
          },
          "metadata": {},
          "execution_count": 67
        }
      ]
    },
    {
      "cell_type": "code",
      "source": [
        "baseline_metrics"
      ],
      "metadata": {
        "colab": {
          "base_uri": "https://localhost:8080/"
        },
        "id": "l_h5L9dEWXyk",
        "outputId": "9348776b-9f59-4cd6-8e53-4ef9819d9407"
      },
      "execution_count": null,
      "outputs": [
        {
          "output_type": "execute_result",
          "data": {
            "text/plain": [
              "{'Accuracy score': 0.79, 'Precision score': 0.89, 'Recall score': 0.63}"
            ]
          },
          "metadata": {},
          "execution_count": 68
        }
      ]
    },
    {
      "cell_type": "code",
      "source": [
        "# Model 5: 1D Convoluations\n",
        "inputs = keras.Input(shape=(1,), dtype=tf.string)\n",
        "x = text_vectorizer(inputs)\n",
        "x = embedding(x)\n",
        "x = layers.Conv1D(64, 3, padding=\"causal\", activation=\"relu\")(x)\n",
        "x = layers.MaxPooling1D(2)(x)\n",
        "x = layers.Conv1D(32, 3, padding=\"causal\")(x) \n",
        "x = layers.GlobalMaxPooling1D()(x) \n",
        "outputs = layers.Dense(1, activation=\"sigmoid\")(x)\n",
        "model_5 = keras.Model(inputs, outputs, name=\"model_5\")\n",
        "model_5.summary()"
      ],
      "metadata": {
        "colab": {
          "base_uri": "https://localhost:8080/"
        },
        "id": "DBEc50D3WYqk",
        "outputId": "48497eb4-b3eb-4615-8eea-d8dca95550d6"
      },
      "execution_count": null,
      "outputs": [
        {
          "output_type": "stream",
          "name": "stdout",
          "text": [
            "Model: \"model_5\"\n",
            "_________________________________________________________________\n",
            " Layer (type)                Output Shape              Param #   \n",
            "=================================================================\n",
            " input_5 (InputLayer)        [(None, 1)]               0         \n",
            "                                                                 \n",
            " text_vectorization_1 (TextV  (None, 15)               0         \n",
            " ectorization)                                                   \n",
            "                                                                 \n",
            " embedding (Embedding)       (None, 15, 128)           1280000   \n",
            "                                                                 \n",
            " conv1d (Conv1D)             (None, 15, 64)            24640     \n",
            "                                                                 \n",
            " max_pooling1d (MaxPooling1D  (None, 7, 64)            0         \n",
            " )                                                               \n",
            "                                                                 \n",
            " conv1d_1 (Conv1D)           (None, 7, 32)             6176      \n",
            "                                                                 \n",
            " global_max_pooling1d (Globa  (None, 32)               0         \n",
            " lMaxPooling1D)                                                  \n",
            "                                                                 \n",
            " dense_9 (Dense)             (None, 1)                 33        \n",
            "                                                                 \n",
            "=================================================================\n",
            "Total params: 1,310,849\n",
            "Trainable params: 1,310,849\n",
            "Non-trainable params: 0\n",
            "_________________________________________________________________\n"
          ]
        }
      ]
    },
    {
      "cell_type": "code",
      "source": [
        "# Compile the model\n",
        "model_5.compile(loss=\"binary_crossentropy\",\n",
        "                optimizer=\"adam\",\n",
        "                metrics=[\"accuracy\"])\n",
        "\n",
        "# Fit the model\n",
        "history_5 = model_5.fit(train_sentences,\n",
        "            train_labels,\n",
        "            epochs=10,\n",
        "            validation_data=(val_sentences, val_labels))"
      ],
      "metadata": {
        "colab": {
          "base_uri": "https://localhost:8080/"
        },
        "id": "LNsz5FZRyZVe",
        "outputId": "d5fda754-d0ae-4dfb-f313-ab2d11fca4dd"
      },
      "execution_count": null,
      "outputs": [
        {
          "output_type": "stream",
          "name": "stdout",
          "text": [
            "Epoch 1/10\n",
            "215/215 [==============================] - 15s 41ms/step - loss: 0.1372 - accuracy: 0.9521 - val_loss: 0.9645 - val_accuracy: 0.7454\n",
            "Epoch 2/10\n",
            "215/215 [==============================] - 3s 12ms/step - loss: 0.0595 - accuracy: 0.9747 - val_loss: 1.0821 - val_accuracy: 0.7441\n",
            "Epoch 3/10\n",
            "215/215 [==============================] - 2s 8ms/step - loss: 0.0461 - accuracy: 0.9804 - val_loss: 1.2016 - val_accuracy: 0.7441\n",
            "Epoch 4/10\n",
            "215/215 [==============================] - 2s 7ms/step - loss: 0.0393 - accuracy: 0.9825 - val_loss: 1.3269 - val_accuracy: 0.7415\n",
            "Epoch 5/10\n",
            "215/215 [==============================] - 1s 7ms/step - loss: 0.0373 - accuracy: 0.9823 - val_loss: 1.4649 - val_accuracy: 0.7323\n",
            "Epoch 6/10\n",
            "215/215 [==============================] - 1s 6ms/step - loss: 0.0342 - accuracy: 0.9834 - val_loss: 1.5366 - val_accuracy: 0.7402\n",
            "Epoch 7/10\n",
            "215/215 [==============================] - 2s 8ms/step - loss: 0.0325 - accuracy: 0.9838 - val_loss: 1.6477 - val_accuracy: 0.7441\n",
            "Epoch 8/10\n",
            "215/215 [==============================] - 1s 6ms/step - loss: 0.0304 - accuracy: 0.9837 - val_loss: 1.6991 - val_accuracy: 0.7310\n",
            "Epoch 9/10\n",
            "215/215 [==============================] - 1s 7ms/step - loss: 0.0310 - accuracy: 0.9842 - val_loss: 1.7196 - val_accuracy: 0.7441\n",
            "Epoch 10/10\n",
            "215/215 [==============================] - 1s 6ms/step - loss: 0.0294 - accuracy: 0.9847 - val_loss: 1.7776 - val_accuracy: 0.7388\n"
          ]
        }
      ]
    },
    {
      "cell_type": "code",
      "source": [
        "def model_results(history, model):\n",
        "  plt.figure(figsize=(16, 8))\n",
        "  plt.subplot(1, 2, 1)\n",
        "  plot_graphs(history_4, 'accuracy')\n",
        "  plt.ylim(None, 1)\n",
        "  plt.subplot(1, 2, 2)\n",
        "  plot_graphs(history_4, 'loss')\n",
        "  plt.ylim(0, None)\n",
        "  plt.show()\n",
        "  model_preds = tf.squeeze(tf.round(model.predict(val_sentences)))\n",
        "  model_results = evaluation_function(val_labels, model_preds)\n",
        "  return model_preds, model_results "
      ],
      "metadata": {
        "id": "lMvnQWxuzkbv"
      },
      "execution_count": null,
      "outputs": []
    },
    {
      "cell_type": "code",
      "source": [
        "model_5_preds, model_5_results = model_results(history_5, model_5)\n",
        "model_5_preds[:10].numpy(), model_5_results"
      ],
      "metadata": {
        "colab": {
          "base_uri": "https://localhost:8080/",
          "height": 414
        },
        "id": "hhZ2rGv60XzG",
        "outputId": "44bda9c5-16b6-4827-97b5-eb7981765d51"
      },
      "execution_count": null,
      "outputs": [
        {
          "output_type": "display_data",
          "data": {
            "text/plain": [
              "<Figure size 1152x576 with 2 Axes>"
            ],
            "image/png": "[encoded data removed]"
          },
          "metadata": {
            "needs_background": "light"
          }
        },
        {
          "output_type": "stream",
          "name": "stdout",
          "text": [
            "24/24 [==============================] - 0s 2ms/step\n"
          ]
        },
        {
          "output_type": "execute_result",
          "data": {
            "text/plain": [
              "(array([0., 1., 1., 0., 0., 1., 1., 1., 1., 0.], dtype=float32),\n",
              " {'Accuracy score': 0.74, 'Precision score': 0.75, 'Recall score': 0.65})"
            ]
          },
          "metadata": {},
          "execution_count": 72
        }
      ]
    },
    {
      "cell_type": "code",
      "source": [
        "baseline_metrics"
      ],
      "metadata": {
        "colab": {
          "base_uri": "https://localhost:8080/"
        },
        "id": "60VpT4-p0sos",
        "outputId": "6a9adb38-e0f4-4594-b705-b1f2c2903f70"
      },
      "execution_count": null,
      "outputs": [
        {
          "output_type": "execute_result",
          "data": {
            "text/plain": [
              "{'Accuracy score': 0.79, 'Precision score': 0.89, 'Recall score': 0.63}"
            ]
          },
          "metadata": {},
          "execution_count": 73
        }
      ]
    },
    {
      "cell_type": "code",
      "source": [
        "# Test out our embedding layer, Conv1D layer and max pooling\n",
        "embedding_text = embedding(text_vectorizer([\"this ia a test sentence\"]))\n",
        "conv_1d = layers.Conv1D(filters=32,\n",
        "                        kernel_size=3,\n",
        "                        activation=\"relu\",\n",
        "                        padding=\"causal\")  \n",
        "conv_1d_output = conv_1d(embedding_text)\n",
        "max_pool = layers.GlobalMaxPool1D()\n",
        "max_pool_output = max_pool(conv_1d_output)\n",
        "\n",
        "embedding_text.shape, conv_1d_output.shape, max_pool_output.shape"
      ],
      "metadata": {
        "colab": {
          "base_uri": "https://localhost:8080/"
        },
        "id": "Vu8RDxUm1AS8",
        "outputId": "12f7ba29-e719-4f0c-db80-07b48bba4d8b"
      },
      "execution_count": null,
      "outputs": [
        {
          "output_type": "execute_result",
          "data": {
            "text/plain": [
              "(TensorShape([1, 15, 128]), TensorShape([1, 15, 32]), TensorShape([1, 32]))"
            ]
          },
          "metadata": {},
          "execution_count": 74
        }
      ]
    },
    {
      "cell_type": "code",
      "source": [
        "max_pool_output"
      ],
      "metadata": {
        "colab": {
          "base_uri": "https://localhost:8080/"
        },
        "id": "xYftv0c83Gxj",
        "outputId": "52fe6b7e-fbd0-4e85-f14c-072870b97f93"
      },
      "execution_count": null,
      "outputs": [
        {
          "output_type": "execute_result",
          "data": {
            "text/plain": [
              "<tf.Tensor: shape=(1, 32), dtype=float32, numpy=\n",
              "array([[0.12970135, 0.06811327, 0.06875048, 0.0282247 , 0.10564496,\n",
              "        0.        , 0.09632271, 0.14513084, 0.03457537, 0.10183977,\n",
              "        0.08197834, 0.08018348, 0.05508677, 0.10569059, 0.1004631 ,\n",
              "        0.05266316, 0.03960618, 0.03371977, 0.03635955, 0.04146553,\n",
              "        0.07186618, 0.10614227, 0.06107635, 0.13374126, 0.06639308,\n",
              "        0.08284851, 0.        , 0.03834437, 0.10588694, 0.08313033,\n",
              "        0.06490559, 0.09988873]], dtype=float32)>"
            ]
          },
          "metadata": {},
          "execution_count": 75
        }
      ]
    },
    {
      "cell_type": "code",
      "source": [
        "# Model 6: Tensorflow Hub Pretrained Sentence Encoder\n",
        "import tensorflow_hub as hub\n",
        "\n",
        "embed = hub.load(\"https://tfhub.dev/google/universal-sentence-encoder/4\")\n",
        "embeddings = embed([\n",
        "    \"The quick brown fox jumps over the lazy dog.\",\n",
        "    \"I am a sentence for which I would like to get its embedding\"\n",
        "])\n",
        "embeddings"
      ],
      "metadata": {
        "colab": {
          "base_uri": "https://localhost:8080/"
        },
        "id": "y5IRr2r051vl",
        "outputId": "7f745a6d-4d30-471c-c0e3-53ee4f1792ec"
      },
      "execution_count": null,
      "outputs": [
        {
          "output_type": "execute_result",
          "data": {
            "text/plain": [
              "<tf.Tensor: shape=(2, 512), dtype=float32, numpy=\n",
              "array([[-0.03133018, -0.06338634, -0.01607501, ..., -0.0324278 ,\n",
              "        -0.04575739,  0.05370454],\n",
              "       [ 0.0508086 , -0.01652433,  0.01573778, ...,  0.00976659,\n",
              "         0.0317012 ,  0.01788116]], dtype=float32)>"
            ]
          },
          "metadata": {},
          "execution_count": 76
        }
      ]
    },
    {
      "cell_type": "code",
      "source": [
        "# Build a KerasLayer\n",
        "sentence_encoder_layer = hub.KerasLayer(\"https://tfhub.dev/google/universal-sentence-encoder/4\", \n",
        "                   input_shape=[],\n",
        "                   dtype=tf.string,\n",
        "                   trainable=False,\n",
        "                   name=\"USE\")"
      ],
      "metadata": {
        "id": "Dp3anSPzB9VL"
      },
      "execution_count": null,
      "outputs": []
    },
    {
      "cell_type": "code",
      "source": [
        "# Create model using the Sequential API\n",
        "model_6 = keras.Sequential([\n",
        "    sentence_encoder_layer,\n",
        "    layers.Dense(64, activation=\"relu\"),\n",
        "    layers.Dense(32, activation=\"relu\"),\n",
        "    layers.Dense(1, activation=\"sigmoid\")\n",
        "], name=\"model_6\")\n",
        "\n",
        "# Compile the model\n",
        "model_6.compile(loss=\"binary_crossentropy\",\n",
        "                optimizer=\"adam\",\n",
        "                metrics=[\"accuracy\"])\n",
        "\n",
        "# Fit the model\n",
        "history_6 = model_6.fit(train_sentences,\n",
        "            train_labels,\n",
        "            epochs=10,\n",
        "            validation_data=(val_sentences, val_labels))"
      ],
      "metadata": {
        "colab": {
          "base_uri": "https://localhost:8080/"
        },
        "id": "0yj2lMUCCR6a",
        "outputId": "14983227-f5d0-46e6-aa9c-f68669bf264f"
      },
      "execution_count": null,
      "outputs": [
        {
          "output_type": "stream",
          "name": "stderr",
          "text": [
            "WARNING:tensorflow:From /usr/local/lib/python3.9/dist-packages/tensorflow/python/autograph/pyct/static_analysis/liveness.py:83: Analyzer.lamba_check (from tensorflow.python.autograph.pyct.static_analysis.liveness) is deprecated and will be removed after 2023-09-23.\n",
            "Instructions for updating:\n",
            "Lambda fuctions will be no more assumed to be used in the statement where they are used, or at least in the same block. https://github.com/tensorflow/tensorflow/issues/56089\n"
          ]
        },
        {
          "output_type": "stream",
          "name": "stdout",
          "text": [
            "Epoch 1/10\n",
            "215/215 [==============================] - 6s 15ms/step - loss: 0.4844 - accuracy: 0.7919 - val_loss: 0.4432 - val_accuracy: 0.8018\n",
            "Epoch 2/10\n",
            "215/215 [==============================] - 3s 14ms/step - loss: 0.4028 - accuracy: 0.8234 - val_loss: 0.4344 - val_accuracy: 0.8123\n",
            "Epoch 3/10\n",
            "215/215 [==============================] - 2s 11ms/step - loss: 0.3825 - accuracy: 0.8355 - val_loss: 0.4229 - val_accuracy: 0.8163\n",
            "Epoch 4/10\n",
            "215/215 [==============================] - 2s 11ms/step - loss: 0.3639 - accuracy: 0.8443 - val_loss: 0.4183 - val_accuracy: 0.8294\n",
            "Epoch 5/10\n",
            "215/215 [==============================] - 3s 16ms/step - loss: 0.3434 - accuracy: 0.8545 - val_loss: 0.4312 - val_accuracy: 0.8241\n",
            "Epoch 6/10\n",
            "215/215 [==============================] - 2s 12ms/step - loss: 0.3202 - accuracy: 0.8678 - val_loss: 0.4270 - val_accuracy: 0.8228\n",
            "Epoch 7/10\n",
            "215/215 [==============================] - 2s 11ms/step - loss: 0.2944 - accuracy: 0.8786 - val_loss: 0.4424 - val_accuracy: 0.8045\n",
            "Epoch 8/10\n",
            "215/215 [==============================] - 2s 11ms/step - loss: 0.2660 - accuracy: 0.8946 - val_loss: 0.4513 - val_accuracy: 0.8136\n",
            "Epoch 9/10\n",
            "215/215 [==============================] - 3s 13ms/step - loss: 0.2362 - accuracy: 0.9072 - val_loss: 0.4826 - val_accuracy: 0.8110\n",
            "Epoch 10/10\n",
            "215/215 [==============================] - 2s 11ms/step - loss: 0.2104 - accuracy: 0.9206 - val_loss: 0.5241 - val_accuracy: 0.8136\n"
          ]
        }
      ]
    },
    {
      "cell_type": "code",
      "source": [
        "model_6_preds, model_6_results = model_results(history_6, model_6)\n",
        "model_6_preds[:10].numpy(), model_6_results"
      ],
      "metadata": {
        "colab": {
          "base_uri": "https://localhost:8080/",
          "height": 414
        },
        "id": "MmweqFdGFG15",
        "outputId": "9f61b226-b3d0-4ac0-f9db-625fc5f636d7"
      },
      "execution_count": null,
      "outputs": [
        {
          "output_type": "display_data",
          "data": {
            "text/plain": [
              "<Figure size 1152x576 with 2 Axes>"
            ],
            "image/png": "[encoded data removed]"
          },
          "metadata": {
            "needs_background": "light"
          }
        },
        {
          "output_type": "stream",
          "name": "stdout",
          "text": [
            "24/24 [==============================] - 1s 8ms/step\n"
          ]
        },
        {
          "output_type": "execute_result",
          "data": {
            "text/plain": [
              "(array([0., 1., 1., 0., 0., 1., 1., 1., 1., 0.], dtype=float32),\n",
              " {'Accuracy score': 0.81, 'Precision score': 0.88, 'Recall score': 0.68})"
            ]
          },
          "metadata": {},
          "execution_count": 79
        }
      ]
    },
    {
      "cell_type": "code",
      "source": [
        "baseline_metrics"
      ],
      "metadata": {
        "colab": {
          "base_uri": "https://localhost:8080/"
        },
        "id": "ygOwfpeLFeJ7",
        "outputId": "ded46c24-ee73-455b-8cec-1ac419836a6f"
      },
      "execution_count": null,
      "outputs": [
        {
          "output_type": "execute_result",
          "data": {
            "text/plain": [
              "{'Accuracy score': 0.79, 'Precision score': 0.89, 'Recall score': 0.63}"
            ]
          },
          "metadata": {},
          "execution_count": 80
        }
      ]
    },
    {
      "cell_type": "code",
      "source": [
        "# Model 7: TF Hub Pretrained USE but with 10% of training data\n",
        "\n",
        "# Create subset of 10% of the training data\n",
        "train_10_percent = train_df_shuffled[[\"text\", \"target\"]].sample(frac=0.1, random_state=42)\n",
        "train_sentences_10_percent = train_10_percent[\"text\"].tolist()\n",
        "train_labels_10_percent = train_10_percent[\"target\"].tolist()"
      ],
      "metadata": {
        "id": "4KAuh3ZiFnPg"
      },
      "execution_count": null,
      "outputs": []
    },
    {
      "cell_type": "code",
      "source": [
        "# Build the model\n",
        "model_7 = keras.Sequential([\n",
        "    sentence_encoder_layer,\n",
        "    layers.Dense(128, activation=\"relu\"),\n",
        "    layers.Dense(64, activation=\"relu\"),\n",
        "    layers.Dense(32, activation=\"relu\"),\n",
        "    layers.Dense(16, activation=\"relu\"),\n",
        "    layers.Dense(1, activation=\"sigmoid\")\n",
        "])\n",
        "\n",
        "# Compile the model\n",
        "model_7.compile(loss=\"binary_crossentropy\",\n",
        "                optimizer=\"adam\",\n",
        "                metrics=[\"accuracy\"])\n",
        "\n",
        "# Fit the model\n",
        "history_7 = model_7.fit(train_sentences_10_percent, \n",
        "            train_labels_10_percent,\n",
        "            epochs=20,\n",
        "            validation_data=(val_sentences, val_labels))  "
      ],
      "metadata": {
        "colab": {
          "base_uri": "https://localhost:8080/"
        },
        "id": "5uRADEQfRMXl",
        "outputId": "98fdad4b-731c-4452-f7b9-3e809c5524ab"
      },
      "execution_count": null,
      "outputs": [
        {
          "output_type": "stream",
          "name": "stdout",
          "text": [
            "Epoch 1/20\n",
            "24/24 [==============================] - 4s 41ms/step - loss: 0.6540 - accuracy: 0.6491 - val_loss: 0.5690 - val_accuracy: 0.8215\n",
            "Epoch 2/20\n",
            "24/24 [==============================] - 1s 21ms/step - loss: 0.4990 - accuracy: 0.8226 - val_loss: 0.3850 - val_accuracy: 0.8556\n",
            "Epoch 3/20\n",
            "24/24 [==============================] - 1s 49ms/step - loss: 0.3721 - accuracy: 0.8463 - val_loss: 0.2852 - val_accuracy: 0.8898\n",
            "Epoch 4/20\n",
            "24/24 [==============================] - 1s 33ms/step - loss: 0.2856 - accuracy: 0.8949 - val_loss: 0.2080 - val_accuracy: 0.9409\n",
            "Epoch 5/20\n",
            "24/24 [==============================] - 1s 22ms/step - loss: 0.2118 - accuracy: 0.9330 - val_loss: 0.1419 - val_accuracy: 0.9711\n",
            "Epoch 6/20\n",
            "24/24 [==============================] - 1s 52ms/step - loss: 0.1447 - accuracy: 0.9619 - val_loss: 0.1006 - val_accuracy: 0.9738\n",
            "Epoch 7/20\n",
            "24/24 [==============================] - 1s 54ms/step - loss: 0.0912 - accuracy: 0.9763 - val_loss: 0.0595 - val_accuracy: 0.9882\n",
            "Epoch 8/20\n",
            "24/24 [==============================] - 1s 51ms/step - loss: 0.0619 - accuracy: 0.9855 - val_loss: 0.0389 - val_accuracy: 0.9895\n",
            "Epoch 9/20\n",
            "24/24 [==============================] - 1s 49ms/step - loss: 0.0476 - accuracy: 0.9882 - val_loss: 0.0362 - val_accuracy: 0.9921\n",
            "Epoch 10/20\n",
            "24/24 [==============================] - 1s 55ms/step - loss: 0.0356 - accuracy: 0.9895 - val_loss: 0.0220 - val_accuracy: 0.9961\n",
            "Epoch 11/20\n",
            "24/24 [==============================] - 2s 64ms/step - loss: 0.0337 - accuracy: 0.9908 - val_loss: 0.0288 - val_accuracy: 0.9921\n",
            "Epoch 12/20\n",
            "24/24 [==============================] - 1s 52ms/step - loss: 0.0323 - accuracy: 0.9895 - val_loss: 0.0288 - val_accuracy: 0.9921\n",
            "Epoch 13/20\n",
            "24/24 [==============================] - 1s 48ms/step - loss: 0.0245 - accuracy: 0.9934 - val_loss: 0.0235 - val_accuracy: 0.9934\n",
            "Epoch 14/20\n",
            "24/24 [==============================] - 1s 49ms/step - loss: 0.0278 - accuracy: 0.9921 - val_loss: 0.0132 - val_accuracy: 0.9948\n",
            "Epoch 15/20\n",
            "24/24 [==============================] - 1s 44ms/step - loss: 0.0174 - accuracy: 0.9934 - val_loss: 0.0156 - val_accuracy: 0.9934\n",
            "Epoch 16/20\n",
            "24/24 [==============================] - 1s 54ms/step - loss: 0.0213 - accuracy: 0.9934 - val_loss: 0.0131 - val_accuracy: 0.9961\n",
            "Epoch 17/20\n",
            "24/24 [==============================] - 1s 43ms/step - loss: 0.0168 - accuracy: 0.9921 - val_loss: 0.0120 - val_accuracy: 0.9934\n",
            "Epoch 18/20\n",
            "24/24 [==============================] - 1s 50ms/step - loss: 0.0165 - accuracy: 0.9934 - val_loss: 0.0164 - val_accuracy: 0.9961\n",
            "Epoch 19/20\n",
            "24/24 [==============================] - 1s 33ms/step - loss: 0.0188 - accuracy: 0.9947 - val_loss: 0.0160 - val_accuracy: 0.9948\n",
            "Epoch 20/20\n",
            "24/24 [==============================] - 1s 38ms/step - loss: 0.0159 - accuracy: 0.9947 - val_loss: 0.0098 - val_accuracy: 0.9961\n"
          ]
        }
      ]
    },
    {
      "cell_type": "code",
      "source": [
        "model_7_preds, model_7_results = model_results(history_7, model_7)\n",
        "model_7_preds[:10].numpy(), model_7_results"
      ],
      "metadata": {
        "colab": {
          "base_uri": "https://localhost:8080/",
          "height": 414
        },
        "id": "U6b5o1TOS8X9",
        "outputId": "185b4850-da17-4e3c-825a-e3edf4a39588"
      },
      "execution_count": null,
      "outputs": [
        {
          "output_type": "display_data",
          "data": {
            "text/plain": [
              "<Figure size 1152x576 with 2 Axes>"
            ],
            "image/png": "[encoded data removed]"
          },
          "metadata": {
            "needs_background": "light"
          }
        },
        {
          "output_type": "stream",
          "name": "stdout",
          "text": [
            "24/24 [==============================] - 1s 9ms/step\n"
          ]
        },
        {
          "output_type": "execute_result",
          "data": {
            "text/plain": [
              "(array([0., 1., 1., 1., 1., 1., 1., 1., 1., 0.], dtype=float32),\n",
              " {'Accuracy score': 1.0, 'Precision score': 0.99, 'Recall score': 1.0})"
            ]
          },
          "metadata": {},
          "execution_count": 83
        }
      ]
    },
    {
      "cell_type": "code",
      "source": [
        "baseline_metrics"
      ],
      "metadata": {
        "colab": {
          "base_uri": "https://localhost:8080/"
        },
        "id": "xwI1oHG0TRZD",
        "outputId": "51efb3b2-a07d-4199-cfe3-aefad0b70c9c"
      },
      "execution_count": null,
      "outputs": [
        {
          "output_type": "execute_result",
          "data": {
            "text/plain": [
              "{'Accuracy score': 0.79, 'Precision score': 0.89, 'Recall score': 0.63}"
            ]
          },
          "metadata": {},
          "execution_count": 84
        }
      ]
    },
    {
      "cell_type": "code",
      "source": [
        "model_7_cloned = keras.models.clone_model(model_7)"
      ],
      "metadata": {
        "id": "hglOv3GYTg1b"
      },
      "execution_count": null,
      "outputs": []
    },
    {
      "cell_type": "code",
      "source": [
        "model_7_cloned.summary()"
      ],
      "metadata": {
        "colab": {
          "base_uri": "https://localhost:8080/"
        },
        "id": "9flUurc9UJEC",
        "outputId": "7da20269-27a0-455c-8f15-b2eaa0c1f265"
      },
      "execution_count": null,
      "outputs": [
        {
          "output_type": "stream",
          "name": "stdout",
          "text": [
            "Model: \"sequential\"\n",
            "_________________________________________________________________\n",
            " Layer (type)                Output Shape              Param #   \n",
            "=================================================================\n",
            " USE (KerasLayer)            (None, 512)               256797824 \n",
            "                                                                 \n",
            " dense_13 (Dense)            (None, 128)               65664     \n",
            "                                                                 \n",
            " dense_14 (Dense)            (None, 64)                8256      \n",
            "                                                                 \n",
            " dense_15 (Dense)            (None, 32)                2080      \n",
            "                                                                 \n",
            " dense_16 (Dense)            (None, 16)                528       \n",
            "                                                                 \n",
            " dense_17 (Dense)            (None, 1)                 17        \n",
            "                                                                 \n",
            "=================================================================\n",
            "Total params: 256,874,369\n",
            "Trainable params: 76,545\n",
            "Non-trainable params: 256,797,824\n",
            "_________________________________________________________________\n"
          ]
        }
      ]
    },
    {
      "cell_type": "code",
      "source": [
        "model_7_cloned.compile(loss=\"binary_crossentropy\",\n",
        "                       optimizer=\"adam\",\n",
        "                       metrics=[\"accuracy\"])\n",
        "\n",
        "history_7_cloned = model_7_cloned.fit(train_sentences_10_percent,\n",
        "                   train_labels_10_percent,\n",
        "                   epochs=20, \n",
        "                   validation_data=(val_sentences, val_labels))"
      ],
      "metadata": {
        "colab": {
          "base_uri": "https://localhost:8080/"
        },
        "id": "xOb-KGiEUOpy",
        "outputId": "7fd2d893-3281-4a44-a360-89fcd2f3905b"
      },
      "execution_count": null,
      "outputs": [
        {
          "output_type": "stream",
          "name": "stdout",
          "text": [
            "Epoch 1/20\n",
            "24/24 [==============================] - 5s 65ms/step - loss: 0.6748 - accuracy: 0.6859 - val_loss: 0.6256 - val_accuracy: 0.8045\n",
            "Epoch 2/20\n",
            "24/24 [==============================] - 1s 36ms/step - loss: 0.5391 - accuracy: 0.8121 - val_loss: 0.4119 - val_accuracy: 0.8491\n",
            "Epoch 3/20\n",
            "24/24 [==============================] - 1s 21ms/step - loss: 0.3919 - accuracy: 0.8463 - val_loss: 0.3103 - val_accuracy: 0.8871\n",
            "Epoch 4/20\n",
            "24/24 [==============================] - 1s 22ms/step - loss: 0.3073 - accuracy: 0.8883 - val_loss: 0.2472 - val_accuracy: 0.9199\n",
            "Epoch 5/20\n",
            "24/24 [==============================] - 1s 22ms/step - loss: 0.2394 - accuracy: 0.9159 - val_loss: 0.1816 - val_accuracy: 0.9488\n",
            "Epoch 6/20\n",
            "24/24 [==============================] - 1s 26ms/step - loss: 0.1711 - accuracy: 0.9488 - val_loss: 0.1174 - val_accuracy: 0.9738\n",
            "Epoch 7/20\n",
            "24/24 [==============================] - 1s 22ms/step - loss: 0.1131 - accuracy: 0.9685 - val_loss: 0.0683 - val_accuracy: 0.9843\n",
            "Epoch 8/20\n",
            "24/24 [==============================] - 1s 22ms/step - loss: 0.0744 - accuracy: 0.9803 - val_loss: 0.0476 - val_accuracy: 0.9895\n",
            "Epoch 9/20\n",
            "24/24 [==============================] - 1s 21ms/step - loss: 0.0528 - accuracy: 0.9882 - val_loss: 0.0353 - val_accuracy: 0.9895\n",
            "Epoch 10/20\n",
            "24/24 [==============================] - 1s 22ms/step - loss: 0.0384 - accuracy: 0.9895 - val_loss: 0.0235 - val_accuracy: 0.9934\n",
            "Epoch 11/20\n",
            "24/24 [==============================] - 0s 21ms/step - loss: 0.0339 - accuracy: 0.9895 - val_loss: 0.0327 - val_accuracy: 0.9934\n",
            "Epoch 12/20\n",
            "24/24 [==============================] - 0s 21ms/step - loss: 0.0247 - accuracy: 0.9934 - val_loss: 0.0196 - val_accuracy: 0.9948\n",
            "Epoch 13/20\n",
            "24/24 [==============================] - 1s 25ms/step - loss: 0.0274 - accuracy: 0.9895 - val_loss: 0.0143 - val_accuracy: 0.9961\n",
            "Epoch 14/20\n",
            "24/24 [==============================] - 1s 23ms/step - loss: 0.0152 - accuracy: 0.9947 - val_loss: 0.0107 - val_accuracy: 0.9974\n",
            "Epoch 15/20\n",
            "24/24 [==============================] - 1s 22ms/step - loss: 0.0140 - accuracy: 0.9947 - val_loss: 0.0131 - val_accuracy: 0.9961\n",
            "Epoch 16/20\n",
            "24/24 [==============================] - 1s 22ms/step - loss: 0.0163 - accuracy: 0.9934 - val_loss: 0.0165 - val_accuracy: 0.9934\n",
            "Epoch 17/20\n",
            "24/24 [==============================] - 1s 22ms/step - loss: 0.0226 - accuracy: 0.9934 - val_loss: 0.0155 - val_accuracy: 0.9934\n",
            "Epoch 18/20\n",
            "24/24 [==============================] - 1s 22ms/step - loss: 0.0204 - accuracy: 0.9921 - val_loss: 0.0091 - val_accuracy: 0.9974\n",
            "Epoch 19/20\n",
            "24/24 [==============================] - 1s 26ms/step - loss: 0.0113 - accuracy: 0.9961 - val_loss: 0.0064 - val_accuracy: 0.9987\n",
            "Epoch 20/20\n",
            "24/24 [==============================] - 1s 48ms/step - loss: 0.0094 - accuracy: 0.9961 - val_loss: 0.0055 - val_accuracy: 0.9987\n"
          ]
        }
      ]
    },
    {
      "cell_type": "code",
      "source": [
        "model_7_preds, model_7_results = model_results(history_7_cloned, model_7_cloned)\n",
        "model_7_preds[:10].numpy(), model_7_results"
      ],
      "metadata": {
        "colab": {
          "base_uri": "https://localhost:8080/",
          "height": 414
        },
        "id": "rxbY-w-nU4yb",
        "outputId": "42c966ed-11a8-43bf-d3fe-409eb077381c"
      },
      "execution_count": null,
      "outputs": [
        {
          "output_type": "display_data",
          "data": {
            "text/plain": [
              "<Figure size 1152x576 with 2 Axes>"
            ],
            "image/png": "[encoded data removed]"
          },
          "metadata": {
            "needs_background": "light"
          }
        },
        {
          "output_type": "stream",
          "name": "stdout",
          "text": [
            "24/24 [==============================] - 1s 10ms/step\n"
          ]
        },
        {
          "output_type": "execute_result",
          "data": {
            "text/plain": [
              "(array([0., 1., 1., 1., 1., 1., 1., 1., 1., 0.], dtype=float32),\n",
              " {'Accuracy score': 1.0, 'Precision score': 1.0, 'Recall score': 1.0})"
            ]
          },
          "metadata": {},
          "execution_count": 88
        }
      ]
    },
    {
      "cell_type": "code",
      "source": [
        "val_labels[:10]"
      ],
      "metadata": {
        "colab": {
          "base_uri": "https://localhost:8080/"
        },
        "id": "qW_hOwOyVKXM",
        "outputId": "f6e26efb-8f06-4539-d92e-58779c3c785e"
      },
      "execution_count": null,
      "outputs": [
        {
          "output_type": "execute_result",
          "data": {
            "text/plain": [
              "[0, 0, 1, 1, 1, 1, 1, 1, 1, 0]"
            ]
          },
          "metadata": {},
          "execution_count": 89
        }
      ]
    },
    {
      "cell_type": "code",
      "source": [
        "preds = model_7_cloned.predict([\n",
        "    \"Two lions were killed by the local tribe...\",\n",
        "    \"I am very happy today...\",\n",
        "    \"There was a hurricane and most of the trees are uprooted.\"\n",
        "])\n",
        "tf.squeeze(tf.round(preds))"
      ],
      "metadata": {
        "colab": {
          "base_uri": "https://localhost:8080/"
        },
        "id": "znFpQ2PLWm_5",
        "outputId": "de24f4d6-7a05-4134-a294-5a485c078d0c"
      },
      "execution_count": null,
      "outputs": [
        {
          "output_type": "stream",
          "name": "stdout",
          "text": [
            "1/1 [==============================] - 0s 40ms/step\n"
          ]
        },
        {
          "output_type": "execute_result",
          "data": {
            "text/plain": [
              "<tf.Tensor: shape=(3,), dtype=float32, numpy=array([1., 0., 1.], dtype=float32)>"
            ]
          },
          "metadata": {},
          "execution_count": 90
        }
      ]
    },
    {
      "cell_type": "code",
      "source": [
        "# Making a better dataset split (no data leakage)\n",
        "train_10_percent_split = int(0.1 * len(train_sentences))\n",
        "train_sentences_10_percent = train_sentences[:train_10_percent_split]\n",
        "train_labels_10_percent = train_labels[:train_10_percent_split]"
      ],
      "metadata": {
        "id": "cp2n8g0YW4PA"
      },
      "execution_count": null,
      "outputs": []
    },
    {
      "cell_type": "code",
      "source": [
        "retrained_model_7 = keras.models.clone_model(model_7)\n",
        "\n",
        "retrained_model_7.compile(loss=\"binary_crossentropy\",\n",
        "                          optimizer=\"adam\",\n",
        "                          metrics=[\"accuracy\"])\n",
        "\n",
        "retrained_history_7 = retrained_model_7.fit(train_sentences_10_percent,\n",
        "                      train_labels_10_percent,\n",
        "                      epochs=20,\n",
        "                      validation_data=(val_sentences, val_labels))"
      ],
      "metadata": {
        "colab": {
          "base_uri": "https://localhost:8080/"
        },
        "id": "MKBe4vFtaGza",
        "outputId": "08053f51-f2f5-487c-93c7-1d21b5ef1baa"
      },
      "execution_count": null,
      "outputs": [
        {
          "output_type": "stream",
          "name": "stdout",
          "text": [
            "Epoch 1/20\n",
            "22/22 [==============================] - 4s 49ms/step - loss: 0.6792 - accuracy: 0.6555 - val_loss: 0.6513 - val_accuracy: 0.7454\n",
            "Epoch 2/20\n",
            "22/22 [==============================] - 1s 50ms/step - loss: 0.5505 - accuracy: 0.8263 - val_loss: 0.4930 - val_accuracy: 0.7743\n",
            "Epoch 3/20\n",
            "22/22 [==============================] - 1s 23ms/step - loss: 0.3886 - accuracy: 0.8394 - val_loss: 0.5070 - val_accuracy: 0.7782\n",
            "Epoch 4/20\n",
            "22/22 [==============================] - 1s 28ms/step - loss: 0.3042 - accuracy: 0.8920 - val_loss: 0.5235 - val_accuracy: 0.7690\n",
            "Epoch 5/20\n",
            "22/22 [==============================] - 1s 24ms/step - loss: 0.2438 - accuracy: 0.9109 - val_loss: 0.5814 - val_accuracy: 0.7559\n",
            "Epoch 6/20\n",
            "22/22 [==============================] - 0s 23ms/step - loss: 0.1842 - accuracy: 0.9474 - val_loss: 0.6347 - val_accuracy: 0.7598\n",
            "Epoch 7/20\n",
            "22/22 [==============================] - 0s 22ms/step - loss: 0.1247 - accuracy: 0.9679 - val_loss: 0.7204 - val_accuracy: 0.7480\n",
            "Epoch 8/20\n",
            "22/22 [==============================] - 1s 23ms/step - loss: 0.0831 - accuracy: 0.9796 - val_loss: 0.8035 - val_accuracy: 0.7507\n",
            "Epoch 9/20\n",
            "22/22 [==============================] - 1s 23ms/step - loss: 0.0584 - accuracy: 0.9825 - val_loss: 0.8602 - val_accuracy: 0.7454\n",
            "Epoch 10/20\n",
            "22/22 [==============================] - 0s 23ms/step - loss: 0.0391 - accuracy: 0.9883 - val_loss: 0.9775 - val_accuracy: 0.7257\n",
            "Epoch 11/20\n",
            "22/22 [==============================] - 0s 23ms/step - loss: 0.0313 - accuracy: 0.9912 - val_loss: 1.0395 - val_accuracy: 0.7362\n",
            "Epoch 12/20\n",
            "22/22 [==============================] - 0s 22ms/step - loss: 0.0183 - accuracy: 0.9942 - val_loss: 1.1054 - val_accuracy: 0.7428\n",
            "Epoch 13/20\n",
            "22/22 [==============================] - 0s 22ms/step - loss: 0.0125 - accuracy: 0.9985 - val_loss: 1.1861 - val_accuracy: 0.7388\n",
            "Epoch 14/20\n",
            "22/22 [==============================] - 0s 22ms/step - loss: 0.0106 - accuracy: 0.9971 - val_loss: 1.2173 - val_accuracy: 0.7323\n",
            "Epoch 15/20\n",
            "22/22 [==============================] - 0s 22ms/step - loss: 0.0065 - accuracy: 0.9985 - val_loss: 1.2736 - val_accuracy: 0.7362\n",
            "Epoch 16/20\n",
            "22/22 [==============================] - 0s 22ms/step - loss: 0.0079 - accuracy: 0.9985 - val_loss: 1.3265 - val_accuracy: 0.7454\n",
            "Epoch 17/20\n",
            "22/22 [==============================] - 0s 23ms/step - loss: 0.0061 - accuracy: 0.9985 - val_loss: 1.3335 - val_accuracy: 0.7388\n",
            "Epoch 18/20\n",
            "22/22 [==============================] - 0s 23ms/step - loss: 0.0049 - accuracy: 0.9985 - val_loss: 1.3614 - val_accuracy: 0.7336\n",
            "Epoch 19/20\n",
            "22/22 [==============================] - 0s 22ms/step - loss: 0.0043 - accuracy: 0.9985 - val_loss: 1.3974 - val_accuracy: 0.7375\n",
            "Epoch 20/20\n",
            "22/22 [==============================] - 1s 46ms/step - loss: 0.0040 - accuracy: 0.9985 - val_loss: 1.4376 - val_accuracy: 0.7362\n"
          ]
        }
      ]
    },
    {
      "cell_type": "code",
      "source": [
        "model_7_preds, model_7_results = model_results(retrained_history_7, retrained_model_7)\n",
        "model_7_preds[:10].numpy(), model_7_results"
      ],
      "metadata": {
        "colab": {
          "base_uri": "https://localhost:8080/",
          "height": 414
        },
        "id": "CUimLT5rfWVn",
        "outputId": "8f355c88-d4d4-4f08-f5f3-66ef2bd310c3"
      },
      "execution_count": null,
      "outputs": [
        {
          "output_type": "display_data",
          "data": {
            "text/plain": [
              "<Figure size 1152x576 with 2 Axes>"
            ],
            "image/png": "[encoded data removed]"
          },
          "metadata": {
            "needs_background": "light"
          }
        },
        {
          "output_type": "stream",
          "name": "stdout",
          "text": [
            "24/24 [==============================] - 1s 12ms/step\n"
          ]
        },
        {
          "output_type": "execute_result",
          "data": {
            "text/plain": [
              "(array([0., 0., 1., 1., 1., 0., 1., 1., 1., 0.], dtype=float32),\n",
              " {'Accuracy score': 0.74, 'Precision score': 0.73, 'Recall score': 0.67})"
            ]
          },
          "metadata": {},
          "execution_count": 93
        }
      ]
    },
    {
      "cell_type": "code",
      "source": [
        "pd.Series(train_labels_10_percent).value_counts()"
      ],
      "metadata": {
        "colab": {
          "base_uri": "https://localhost:8080/"
        },
        "id": "iok9uxBmbGTm",
        "outputId": "89dbd5fc-6289-40a4-a778-26f99749ae23"
      },
      "execution_count": null,
      "outputs": [
        {
          "output_type": "execute_result",
          "data": {
            "text/plain": [
              "0    406\n",
              "1    279\n",
              "dtype: int64"
            ]
          },
          "metadata": {},
          "execution_count": 94
        }
      ]
    },
    {
      "cell_type": "code",
      "source": [
        "all_model_results = pd.DataFrame({\n",
        "    \"0_baseline\": baseline_metrics,\n",
        "    \"1_simple_dense\": model_1_results,\n",
        "    \"2_lstm\": model_2_results,\n",
        "    \"3_gru\": model_3_results,\n",
        "    \"4_bidirectional\": model_4_results,\n",
        "    \"5_conv1d\": model_5_results,\n",
        "    \"6_tf_hub_use_encoder\": model_6_results,\n",
        "    \"7_tf_hub_use_encoder_10_percent\": model_7_results\n",
        "})\n",
        "all_model_results = all_model_results.transpose()\n",
        "all_model_results"
      ],
      "metadata": {
        "colab": {
          "base_uri": "https://localhost:8080/",
          "height": 300
        },
        "id": "AKQaV01hbdM1",
        "outputId": "e3c059a7-6b35-4978-d8af-15410568abd2"
      },
      "execution_count": null,
      "outputs": [
        {
          "output_type": "execute_result",
          "data": {
            "text/plain": [
              "                                 Accuracy score  Precision score  Recall score\n",
              "0_baseline                                 0.79             0.89          0.63\n",
              "1_simple_dense                             0.75             0.75          0.68\n",
              "2_lstm                                     0.74             0.74          0.68\n",
              "3_gru                                      0.75             0.73          0.71\n",
              "4_bidirectional                            0.75             0.74          0.70\n",
              "5_conv1d                                   0.74             0.75          0.65\n",
              "6_tf_hub_use_encoder                       0.81             0.88          0.68\n",
              "7_tf_hub_use_encoder_10_percent            0.74             0.73          0.67"
            ],
            "text/html": [
              "\n",
              "  <div id=\"df-5409ef8b-6f16-4ecf-a331-492857dba897\">\n",
              "    <div class=\"colab-df-container\">\n",
              "      <div>\n",
              "<style scoped>\n",
              "    .dataframe tbody tr th:only-of-type {\n",
              "        vertical-align: middle;\n",
              "    }\n",
              "\n",
              "    .dataframe tbody tr th {\n",
              "        vertical-align: top;\n",
              "    }\n",
              "\n",
              "    .dataframe thead th {\n",
              "        text-align: right;\n",
              "    }\n",
              "</style>\n",
              "<table border=\"1\" class=\"dataframe\">\n",
              "  <thead>\n",
              "    <tr style=\"text-align: right;\">\n",
              "      <th></th>\n",
              "      <th>Accuracy score</th>\n",
              "      <th>Precision score</th>\n",
              "      <th>Recall score</th>\n",
              "    </tr>\n",
              "  </thead>\n",
              "  <tbody>\n",
              "    <tr>\n",
              "      <th>0_baseline</th>\n",
              "      <td>0.79</td>\n",
              "      <td>0.89</td>\n",
              "      <td>0.63</td>\n",
              "    </tr>\n",
              "    <tr>\n",
              "      <th>1_simple_dense</th>\n",
              "      <td>0.75</td>\n",
              "      <td>0.75</td>\n",
              "      <td>0.68</td>\n",
              "    </tr>\n",
              "    <tr>\n",
              "      <th>2_lstm</th>\n",
              "      <td>0.74</td>\n",
              "      <td>0.74</td>\n",
              "      <td>0.68</td>\n",
              "    </tr>\n",
              "    <tr>\n",
              "      <th>3_gru</th>\n",
              "      <td>0.75</td>\n",
              "      <td>0.73</td>\n",
              "      <td>0.71</td>\n",
              "    </tr>\n",
              "    <tr>\n",
              "      <th>4_bidirectional</th>\n",
              "      <td>0.75</td>\n",
              "      <td>0.74</td>\n",
              "      <td>0.70</td>\n",
              "    </tr>\n",
              "    <tr>\n",
              "      <th>5_conv1d</th>\n",
              "      <td>0.74</td>\n",
              "      <td>0.75</td>\n",
              "      <td>0.65</td>\n",
              "    </tr>\n",
              "    <tr>\n",
              "      <th>6_tf_hub_use_encoder</th>\n",
              "      <td>0.81</td>\n",
              "      <td>0.88</td>\n",
              "      <td>0.68</td>\n",
              "    </tr>\n",
              "    <tr>\n",
              "      <th>7_tf_hub_use_encoder_10_percent</th>\n",
              "      <td>0.74</td>\n",
              "      <td>0.73</td>\n",
              "      <td>0.67</td>\n",
              "    </tr>\n",
              "  </tbody>\n",
              "</table>\n",
              "</div>\n",
              "      <button class=\"colab-df-convert\" onclick=\"convertToInteractive('df-5409ef8b-6f16-4ecf-a331-492857dba897')\"\n",
              "              title=\"Convert this dataframe to an interactive table.\"\n",
              "              style=\"display:none;\">\n",
              "        \n",
              "  <svg xmlns=\"http://www.w3.org/2000/svg\" height=\"24px\"viewBox=\"0 0 24 24\"\n",
              "       width=\"24px\">\n",
              "    <path d=\"M0 0h24v24H0V0z\" fill=\"none\"/>\n",
              "    <path d=\"M18.56 5.44l.94 2.06.94-2.06 2.06-.94-2.06-.94-.94-2.06-.94 2.06-2.06.94zm-11 1L8.5 8.5l.94-2.06 2.06-.94-2.06-.94L8.5 2.5l-.94 2.06-2.06.94zm10 10l.94 2.06.94-2.06 2.06-.94-2.06-.94-.94-2.06-.94 2.06-2.06.94z\"/><path d=\"M17.41 7.96l-1.37-1.37c-.4-.4-.92-.59-1.43-.59-.52 0-1.04.2-1.43.59L10.3 9.45l-7.72 7.72c-.78.78-.78 2.05 0 2.83L4 21.41c.39.39.9.59 1.41.59.51 0 1.02-.2 1.41-.59l7.78-7.78 2.81-2.81c.8-.78.8-2.07 0-2.86zM5.41 20L4 18.59l7.72-7.72 1.47 1.35L5.41 20z\"/>\n",
              "  </svg>\n",
              "      </button>\n",
              "      \n",
              "  <style>\n",
              "    .colab-df-container {\n",
              "      display:flex;\n",
              "      flex-wrap:wrap;\n",
              "      gap: 12px;\n",
              "    }\n",
              "\n",
              "    .colab-df-convert {\n",
              "      background-color: #E8F0FE;\n",
              "      border: none;\n",
              "      border-radius: 50%;\n",
              "      cursor: pointer;\n",
              "      display: none;\n",
              "      fill: #1967D2;\n",
              "      height: 32px;\n",
              "      padding: 0 0 0 0;\n",
              "      width: 32px;\n",
              "    }\n",
              "\n",
              "    .colab-df-convert:hover {\n",
              "      background-color: #E2EBFA;\n",
              "      box-shadow: 0px 1px 2px rgba(60, 64, 67, 0.3), 0px 1px 3px 1px rgba(60, 64, 67, 0.15);\n",
              "      fill: #174EA6;\n",
              "    }\n",
              "\n",
              "    [theme=dark] .colab-df-convert {\n",
              "      background-color: #3B4455;\n",
              "      fill: #D2E3FC;\n",
              "    }\n",
              "\n",
              "    [theme=dark] .colab-df-convert:hover {\n",
              "      background-color: #434B5C;\n",
              "      box-shadow: 0px 1px 3px 1px rgba(0, 0, 0, 0.15);\n",
              "      filter: drop-shadow(0px 1px 2px rgba(0, 0, 0, 0.3));\n",
              "      fill: #FFFFFF;\n",
              "    }\n",
              "  </style>\n",
              "\n",
              "      <script>\n",
              "        const buttonEl =\n",
              "          document.querySelector('#df-5409ef8b-6f16-4ecf-a331-492857dba897 button.colab-df-convert');\n",
              "        buttonEl.style.display =\n",
              "          google.colab.kernel.accessAllowed ? 'block' : 'none';\n",
              "\n",
              "        async function convertToInteractive(key) {\n",
              "          const element = document.querySelector('#df-5409ef8b-6f16-4ecf-a331-492857dba897');\n",
              "          const dataTable =\n",
              "            await google.colab.kernel.invokeFunction('convertToInteractive',\n",
              "                                                     [key], {});\n",
              "          if (!dataTable) return;\n",
              "\n",
              "          const docLinkHtml = 'Like what you see? Visit the ' +\n",
              "            '<a target=\"_blank\" href=https://colab.research.google.com/notebooks/data_table.ipynb>data table notebook</a>'\n",
              "            + ' to learn more about interactive tables.';\n",
              "          element.innerHTML = '';\n",
              "          dataTable['output_type'] = 'display_data';\n",
              "          await google.colab.output.renderOutput(dataTable, element);\n",
              "          const docLink = document.createElement('div');\n",
              "          docLink.innerHTML = docLinkHtml;\n",
              "          element.appendChild(docLink);\n",
              "        }\n",
              "      </script>\n",
              "    </div>\n",
              "  </div>\n",
              "  "
            ]
          },
          "metadata": {},
          "execution_count": 95
        }
      ]
    },
    {
      "cell_type": "code",
      "source": [
        "all_model_results.plot(kind=\"bar\", figsize=(10, 7)).legend(bbox_to_anchor=(1.0, 1.0));"
      ],
      "metadata": {
        "colab": {
          "base_uri": "https://localhost:8080/",
          "height": 562
        },
        "id": "u1nGi7wCgLI6",
        "outputId": "fd9a14b2-4640-4533-9aa1-ca211f5510ad"
      },
      "execution_count": null,
      "outputs": [
        {
          "output_type": "display_data",
          "data": {
            "text/plain": [
              "<Figure size 720x504 with 1 Axes>"
            ],
            "image/png": "[encoded data removed]"
          },
          "metadata": {
            "needs_background": "light"
          }
        }
      ]
    },
    {
      "cell_type": "code",
      "source": [
        "all_model_results.sort_values(\"Accuracy score\", ascending=False)[\"Accuracy score\"].plot(kind=\"bar\", figsize=(10, 7));"
      ],
      "metadata": {
        "id": "ETrQ-UTohNex",
        "colab": {
          "base_uri": "https://localhost:8080/",
          "height": 590
        },
        "outputId": "f601b258-0a81-422c-a988-68d1856d8b92"
      },
      "execution_count": null,
      "outputs": [
        {
          "output_type": "display_data",
          "data": {
            "text/plain": [
              "<Figure size 720x504 with 1 Axes>"
            ],
            "image/png": "[encoded data removed]"
          },
          "metadata": {
            "needs_background": "light"
          }
        }
      ]
    }
  ]
}