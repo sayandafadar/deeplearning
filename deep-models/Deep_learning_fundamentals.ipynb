{
  "nbformat": 4,
  "nbformat_minor": 0,
  "metadata": {
    "colab": {
      "provenance": []
    },
    "kernelspec": {
      "name": "python3",
      "display_name": "Python 3"
    },
    "language_info": {
      "name": "python"
    },
    "gpuClass": "standard"
  },
  "cells": [
    {
      "cell_type": "markdown",
      "source": [
        "# **Generalization: The goal of machine learning**\n",
        "\n",
        "\n",
        "\n",
        "*   ***Optimization*** refers to the process of adjusting a model to get the best performance possible on the training data (the learning in machine learning).\n",
        "*   ***Generalization*** refers to how well the trained model performs on data it has never seen before.\n",
        "\n",
        "The goal of the game is to get good generalization, of course, but you don’t control generalization; you can only fit the model to its training data. If you\n",
        "do that too well, overfitting kicks in and generalization suffers.\n",
        "\n"
      ],
      "metadata": {
        "id": "y8vlWZogstpT"
      }
    },
    {
      "cell_type": "markdown",
      "source": [
        "## **Causes of overfitting**\n",
        "\n",
        "\n",
        "\n",
        "*   Noisy trainging data\n",
        "*   Ambiguous features\n",
        "\n",
        "*   Rare features and spurious correlations"
      ],
      "metadata": {
        "id": "H3Aey1rBw2xd"
      }
    },
    {
      "cell_type": "code",
      "execution_count": null,
      "metadata": {
        "id": "bI6hogggr8hP"
      },
      "outputs": [],
      "source": [
        "#Add white noise or all-zeros channels to MNIST\n",
        "from tensorflow.keras.datasets import mnist\n",
        "import numpy as np\n",
        "\n",
        "(train_images, train_labels), _ = mnist.load_data()\n",
        "train_images = train_images.reshape((60000, 28 * 28))\n",
        "train_images = train_images.astype(\"float32\") / 255\n",
        "\n",
        "\n",
        "train_images_with_white_noise_channels = np.concatenate(\n",
        "    [train_images, np.random.random((len(train_images), 784))], \n",
        "    axis=1) #axis=1 adds 784 to 784 otherwise it would add 60000 to 60000\n",
        "\n",
        "train_images_with_zeros_channels = np.concatenate(\n",
        "    [train_images, np.zeros((len(train_images), 784))], axis=1)"
      ]
    },
    {
      "cell_type": "code",
      "source": [
        "train_images_with_white_noise_channels.shape"
      ],
      "metadata": {
        "colab": {
          "base_uri": "https://localhost:8080/"
        },
        "id": "3PKPnbJv3s7A",
        "outputId": "64b52924-90c3-496b-eae8-12d579e499c2"
      },
      "execution_count": null,
      "outputs": [
        {
          "output_type": "execute_result",
          "data": {
            "text/plain": [
              "(60000, 1568)"
            ]
          },
          "metadata": {},
          "execution_count": 8
        }
      ]
    },
    {
      "cell_type": "code",
      "source": [
        "#Training the model\n",
        "from tensorflow import keras\n",
        "from tensorflow.keras import layers\n",
        "\n",
        "def get_model():\n",
        "  model = keras.Sequential([\n",
        "      layers.Dense(512, activation=\"relu\"),\n",
        "      layers.Dense(10, activation=\"softmax\")\n",
        "  ])\n",
        "  model.compile(optimizer=\"rmsprop\",\n",
        "                loss=\"sparse_categorical_crossentropy\",\n",
        "                metrics=[\"accuracy\"])\n",
        "  return model\n",
        "\n",
        "model = get_model()\n",
        "history_noise = model.fit(\n",
        "    train_images_with_white_noise_channels, train_labels,\n",
        "    epochs=10,\n",
        "    batch_size=128,\n",
        "    validation_split=0.2)\n",
        "\n",
        "model = get_model()\n",
        "history_zeros = model.fit(\n",
        "    train_images_with_zeros_channels, train_labels,\n",
        "    epochs=10,\n",
        "    batch_size=128,\n",
        "    validation_split=0.2)"
      ],
      "metadata": {
        "colab": {
          "base_uri": "https://localhost:8080/"
        },
        "id": "l_tsVAb7z6qU",
        "outputId": "b2c42db9-fb6d-45d1-a25f-c2453a90d2b7"
      },
      "execution_count": null,
      "outputs": [
        {
          "output_type": "stream",
          "name": "stdout",
          "text": [
            "Epoch 1/10\n",
            "375/375 [==============================] - 7s 18ms/step - loss: 0.6104 - accuracy: 0.8124 - val_loss: 0.2634 - val_accuracy: 0.9198\n",
            "Epoch 2/10\n",
            "375/375 [==============================] - 7s 18ms/step - loss: 0.2489 - accuracy: 0.9227 - val_loss: 0.2312 - val_accuracy: 0.9294\n",
            "Epoch 3/10\n",
            "375/375 [==============================] - 7s 18ms/step - loss: 0.1603 - accuracy: 0.9496 - val_loss: 0.1965 - val_accuracy: 0.9380\n",
            "Epoch 4/10\n",
            "375/375 [==============================] - 7s 18ms/step - loss: 0.1138 - accuracy: 0.9658 - val_loss: 0.1360 - val_accuracy: 0.9613\n",
            "Epoch 5/10\n",
            "375/375 [==============================] - 7s 18ms/step - loss: 0.0818 - accuracy: 0.9743 - val_loss: 0.1462 - val_accuracy: 0.9549\n",
            "Epoch 6/10\n",
            "375/375 [==============================] - 7s 18ms/step - loss: 0.0612 - accuracy: 0.9804 - val_loss: 0.1349 - val_accuracy: 0.9628\n",
            "Epoch 7/10\n",
            "375/375 [==============================] - 7s 18ms/step - loss: 0.0445 - accuracy: 0.9861 - val_loss: 0.1447 - val_accuracy: 0.9601\n",
            "Epoch 8/10\n",
            "375/375 [==============================] - 7s 18ms/step - loss: 0.0335 - accuracy: 0.9893 - val_loss: 0.1281 - val_accuracy: 0.9702\n",
            "Epoch 9/10\n",
            "375/375 [==============================] - 7s 18ms/step - loss: 0.0275 - accuracy: 0.9912 - val_loss: 0.1799 - val_accuracy: 0.9525\n",
            "Epoch 10/10\n",
            "375/375 [==============================] - 7s 18ms/step - loss: 0.0211 - accuracy: 0.9935 - val_loss: 0.1324 - val_accuracy: 0.9701\n",
            "Epoch 1/10\n",
            "375/375 [==============================] - 7s 18ms/step - loss: 0.2902 - accuracy: 0.9155 - val_loss: 0.1519 - val_accuracy: 0.9568\n",
            "Epoch 2/10\n",
            "375/375 [==============================] - 7s 17ms/step - loss: 0.1205 - accuracy: 0.9641 - val_loss: 0.1080 - val_accuracy: 0.9678\n",
            "Epoch 3/10\n",
            "375/375 [==============================] - 7s 18ms/step - loss: 0.0783 - accuracy: 0.9766 - val_loss: 0.0873 - val_accuracy: 0.9737\n",
            "Epoch 4/10\n",
            "375/375 [==============================] - 7s 17ms/step - loss: 0.0559 - accuracy: 0.9836 - val_loss: 0.0854 - val_accuracy: 0.9730\n",
            "Epoch 5/10\n",
            "375/375 [==============================] - 7s 17ms/step - loss: 0.0419 - accuracy: 0.9870 - val_loss: 0.0854 - val_accuracy: 0.9760\n",
            "Epoch 6/10\n",
            "375/375 [==============================] - 7s 18ms/step - loss: 0.0313 - accuracy: 0.9906 - val_loss: 0.0814 - val_accuracy: 0.9772\n",
            "Epoch 7/10\n",
            "375/375 [==============================] - 7s 17ms/step - loss: 0.0239 - accuracy: 0.9931 - val_loss: 0.0762 - val_accuracy: 0.9797\n",
            "Epoch 8/10\n",
            "375/375 [==============================] - 7s 18ms/step - loss: 0.0193 - accuracy: 0.9944 - val_loss: 0.0873 - val_accuracy: 0.9768\n",
            "Epoch 9/10\n",
            "375/375 [==============================] - 7s 18ms/step - loss: 0.0136 - accuracy: 0.9960 - val_loss: 0.0819 - val_accuracy: 0.9781\n",
            "Epoch 10/10\n",
            "375/375 [==============================] - 8s 20ms/step - loss: 0.0106 - accuracy: 0.9971 - val_loss: 0.0877 - val_accuracy: 0.9790\n"
          ]
        }
      ]
    },
    {
      "cell_type": "code",
      "source": [
        "#plotting a validation accuracy comparison\n",
        "import matplotlib.pyplot as plt\n",
        "val_acc_noise = history_noise.history[\"val_accuracy\"]\n",
        "val_acc_zeros = history_zeros.history[\"val_accuracy\"]\n",
        "epochs = range(1, 11)\n",
        "plt.plot(epochs, val_acc_noise, \"b-\",\n",
        "         label=\"Validation accuracy with noise channels\")\n",
        "plt.plot(epochs, val_acc_zeros, \"b--\",\n",
        "         label=\"Validation accuracy with zeros channels\")\n",
        "plt.title(\"Effect of noise channels on validation accuracy\")\n",
        "plt.xlabel(\"Epochs\")\n",
        "plt.ylabel(\"Accuracy\")\n",
        "plt.legend()\n",
        "plt.show()"
      ],
      "metadata": {
        "colab": {
          "base_uri": "https://localhost:8080/",
          "height": 295
        },
        "id": "h2_mfT391y65",
        "outputId": "d06ad7b0-d89d-47c7-8a7a-b57623a18239"
      },
      "execution_count": null,
      "outputs": [
        {
          "output_type": "display_data",
          "data": {
            "text/plain": [
              "<Figure size 432x288 with 1 Axes>"
            ],
            "image/png": "[encoded data removed]"
          },
          "metadata": {
            "needs_background": "light"
          }
        }
      ]
    },
    {
      "cell_type": "markdown",
      "source": [
        "## **Feature Selection**\n",
        "\n",
        "In cases where you aren’t sure whether the features you have are informative or distracting, it’s common to do ***feature selection*** before training. \n",
        "\n",
        "\n",
        "The typical way to do **feature selection** is to compute some usefulness score for each feature available—a measure of how informative the feature is with respect to the task, such as the mutual information between the feature and the labels—and only keep features that\n",
        "are above some threshold. Doing this would filter out the white noise channels."
      ],
      "metadata": {
        "id": "WfWLMpMV5HrI"
      }
    },
    {
      "cell_type": "markdown",
      "source": [
        "## **The nature of generalization in deep learning**"
      ],
      "metadata": {
        "id": "9ZFEXooD6j7S"
      }
    },
    {
      "cell_type": "code",
      "source": [
        "#Fitting a MNIST model with randomly shuffled labels\n",
        "(train_images, train_labels), _ = mnist.load_data()\n",
        "train_images = train_images.reshape((60000, 28 * 28))\n",
        "train_images = train_images.astype(\"float32\") / 255\n",
        "\n",
        "random_train_labels = train_labels[:]\n",
        "np.random.shuffle(random_train_labels)\n",
        "\n",
        "model = keras.Sequential([\n",
        "    layers.Dense(512, activation=\"relu\"),\n",
        "    layers.Dense(10, activation=\"softmax\")\n",
        "])\n",
        "\n",
        "model.compile(optimizer=\"rmsprop\",\n",
        "              loss=\"sparse_categorical_crossentropy\",\n",
        "              metrics=[\"accuracy\"])\n",
        "model.fit(train_images, \n",
        "          random_train_labels,\n",
        "          epochs=10,\n",
        "          batch_size=128,\n",
        "          validation_split=0.2)"
      ],
      "metadata": {
        "colab": {
          "base_uri": "https://localhost:8080/"
        },
        "id": "2xidaQgT27UH",
        "outputId": "eac55460-dbd5-44ec-af77-945e9e27df4f"
      },
      "execution_count": null,
      "outputs": [
        {
          "output_type": "stream",
          "name": "stdout",
          "text": [
            "Epoch 1/10\n",
            "375/375 [==============================] - 5s 11ms/step - loss: 2.3163 - accuracy: 0.1048 - val_loss: 2.3072 - val_accuracy: 0.1071\n",
            "Epoch 2/10\n",
            "375/375 [==============================] - 4s 11ms/step - loss: 2.2996 - accuracy: 0.1195 - val_loss: 2.3112 - val_accuracy: 0.1040\n",
            "Epoch 3/10\n",
            "375/375 [==============================] - 4s 11ms/step - loss: 2.2890 - accuracy: 0.1309 - val_loss: 2.3251 - val_accuracy: 0.1047\n",
            "Epoch 4/10\n",
            "375/375 [==============================] - 4s 11ms/step - loss: 2.2736 - accuracy: 0.1450 - val_loss: 2.3285 - val_accuracy: 0.1065\n",
            "Epoch 5/10\n",
            "375/375 [==============================] - 4s 11ms/step - loss: 2.2525 - accuracy: 0.1601 - val_loss: 2.3438 - val_accuracy: 0.0978\n",
            "Epoch 6/10\n",
            "375/375 [==============================] - 4s 11ms/step - loss: 2.2310 - accuracy: 0.1723 - val_loss: 2.3598 - val_accuracy: 0.1025\n",
            "Epoch 7/10\n",
            "375/375 [==============================] - 4s 11ms/step - loss: 2.2045 - accuracy: 0.1907 - val_loss: 2.3812 - val_accuracy: 0.0945\n",
            "Epoch 8/10\n",
            "375/375 [==============================] - 4s 11ms/step - loss: 2.1747 - accuracy: 0.2051 - val_loss: 2.3948 - val_accuracy: 0.1004\n",
            "Epoch 9/10\n",
            "375/375 [==============================] - 4s 11ms/step - loss: 2.1433 - accuracy: 0.2228 - val_loss: 2.4272 - val_accuracy: 0.0981\n",
            "Epoch 10/10\n",
            "375/375 [==============================] - 4s 11ms/step - loss: 2.1102 - accuracy: 0.2380 - val_loss: 2.4497 - val_accuracy: 0.1002\n"
          ]
        },
        {
          "output_type": "execute_result",
          "data": {
            "text/plain": [
              "<keras.callbacks.History at 0x7f801eb90400>"
            ]
          },
          "metadata": {},
          "execution_count": 11
        }
      ]
    },
    {
      "cell_type": "markdown",
      "source": [
        "## **Training Data**\n",
        "A “dense sampling” in this context means that the training data should densely cover the entirety of the input data\n",
        "manifold.\n",
        "\n",
        "The best way to improve a deep learning model is to train it on more data or better data.\n"
      ],
      "metadata": {
        "id": "_pmOO5jn-wuP"
      }
    },
    {
      "cell_type": "markdown",
      "source": [
        "## **Diffrence between Parameters and Hyperparameters**\n",
        "\n",
        "**Hyperparameter:** Number of layers or size of the layers are called the hyperparameters of the model.\n",
        "\n",
        "**Parameter:** Parameter are the network's weights."
      ],
      "metadata": {
        "id": "OcTEceUSAgSK"
      }
    },
    {
      "cell_type": "markdown",
      "source": [
        "## **Model evaluation**"
      ],
      "metadata": {
        "id": "48vGWzJEF7FV"
      }
    },
    {
      "cell_type": "markdown",
      "source": [
        "## **Improving model fit**\n",
        "\n",
        "To achieve the perfect fit, you must first overfit. Since you don’t know in advance where the boundary lies, you must cross it to find it. Thus, your initial goal as you start working on a problem is to achieve a model that shows some generalization power and that is able to overfit. Once you have such a model, you’ll focus on refining gener-\n",
        "alization by fighting overfitting."
      ],
      "metadata": {
        "id": "S9uaUqbgGxeG"
      }
    },
    {
      "cell_type": "code",
      "source": [
        "(train_images, train_labels), _ = mnist.load_data() \n",
        "train_images = train_images.reshape((60000, 28 * 28)) \n",
        "train_images = train_images.astype(\"float32\") / 255\n",
        "model = keras.Sequential([ \n",
        "    layers.Dense(512, activation=\"relu\"), \n",
        "    layers.Dense(10, activation=\"softmax\")\n",
        "])\n",
        "model.compile(optimizer=keras.optimizers.RMSprop(1.), \n",
        "              loss=\"sparse_categorical_crossentropy\", \n",
        "              metrics=[\"accuracy\"])\n",
        "model.fit(train_images, train_labels,\n",
        "          epochs=10, \n",
        "          batch_size=128, \n",
        "          validation_split=0.2)"
      ],
      "metadata": {
        "id": "m-naaB847y-E",
        "colab": {
          "base_uri": "https://localhost:8080/"
        },
        "outputId": "75ec4d6b-612e-4911-eb90-2448b01964bc"
      },
      "execution_count": null,
      "outputs": [
        {
          "output_type": "stream",
          "name": "stdout",
          "text": [
            "Epoch 1/10\n",
            "375/375 [==============================] - 5s 13ms/step - loss: 915.7247 - accuracy: 0.4016 - val_loss: 4.8840 - val_accuracy: 0.3041\n",
            "Epoch 2/10\n",
            "375/375 [==============================] - 9s 24ms/step - loss: 4.5743 - accuracy: 0.2548 - val_loss: 2.2533 - val_accuracy: 0.2895\n",
            "Epoch 3/10\n",
            "375/375 [==============================] - 10s 26ms/step - loss: 2.8622 - accuracy: 0.2780 - val_loss: 2.4308 - val_accuracy: 0.2889\n",
            "Epoch 4/10\n",
            "375/375 [==============================] - 9s 25ms/step - loss: 2.6637 - accuracy: 0.2822 - val_loss: 1.9205 - val_accuracy: 0.2688\n",
            "Epoch 5/10\n",
            "375/375 [==============================] - 6s 16ms/step - loss: 3.4666 - accuracy: 0.2992 - val_loss: 2.0808 - val_accuracy: 0.2055\n",
            "Epoch 6/10\n",
            "375/375 [==============================] - 4s 11ms/step - loss: 2.4138 - accuracy: 0.3025 - val_loss: 2.5101 - val_accuracy: 0.3696\n",
            "Epoch 7/10\n",
            "375/375 [==============================] - 4s 11ms/step - loss: 2.9028 - accuracy: 0.3338 - val_loss: 5.7866 - val_accuracy: 0.4092\n",
            "Epoch 8/10\n",
            "375/375 [==============================] - 4s 11ms/step - loss: 2.8311 - accuracy: 0.3017 - val_loss: 2.1863 - val_accuracy: 0.2626\n",
            "Epoch 9/10\n",
            "375/375 [==============================] - 4s 11ms/step - loss: 2.5601 - accuracy: 0.3239 - val_loss: 2.7296 - val_accuracy: 0.3108\n",
            "Epoch 10/10\n",
            "375/375 [==============================] - 4s 11ms/step - loss: 2.5667 - accuracy: 0.3037 - val_loss: 2.3497 - val_accuracy: 0.2822\n"
          ]
        },
        {
          "output_type": "execute_result",
          "data": {
            "text/plain": [
              "<keras.callbacks.History at 0x7f801e92a3a0>"
            ]
          },
          "metadata": {},
          "execution_count": 13
        }
      ]
    },
    {
      "cell_type": "code",
      "source": [
        "model = keras.Sequential([\n",
        "    layers.Dense(512, activation=\"relu\"),\n",
        "    layers.Dense(10, activation=\"softmax\")\n",
        "])\n",
        "model.compile(optimizer=keras.optimizers.RMSprop(1e-12),\n",
        "              loss=\"sparse_categorical_crossentropy\",\n",
        "              metrics=[\"accuracy\"])\n",
        "model.fit(train_images, train_labels,\n",
        "          epochs=10,\n",
        "          batch_size=128,\n",
        "          validation_split=0.2)"
      ],
      "metadata": {
        "colab": {
          "base_uri": "https://localhost:8080/"
        },
        "id": "DSdNPzpDL2VN",
        "outputId": "d9f60187-2086-47a9-8b88-3c1f9e86316f"
      },
      "execution_count": null,
      "outputs": [
        {
          "output_type": "stream",
          "name": "stdout",
          "text": [
            "Epoch 1/10\n",
            "375/375 [==============================] - 5s 12ms/step - loss: 2.4164 - accuracy: 0.0819 - val_loss: 2.4234 - val_accuracy: 0.0836\n",
            "Epoch 2/10\n",
            "375/375 [==============================] - 4s 12ms/step - loss: 2.4164 - accuracy: 0.0819 - val_loss: 2.4234 - val_accuracy: 0.0836\n",
            "Epoch 3/10\n",
            "375/375 [==============================] - 4s 11ms/step - loss: 2.4164 - accuracy: 0.0819 - val_loss: 2.4234 - val_accuracy: 0.0836\n",
            "Epoch 4/10\n",
            "375/375 [==============================] - 4s 11ms/step - loss: 2.4164 - accuracy: 0.0819 - val_loss: 2.4234 - val_accuracy: 0.0836\n",
            "Epoch 5/10\n",
            "375/375 [==============================] - 4s 11ms/step - loss: 2.4164 - accuracy: 0.0819 - val_loss: 2.4234 - val_accuracy: 0.0836\n",
            "Epoch 6/10\n",
            "375/375 [==============================] - 4s 11ms/step - loss: 2.4164 - accuracy: 0.0819 - val_loss: 2.4234 - val_accuracy: 0.0836\n",
            "Epoch 7/10\n",
            "375/375 [==============================] - 4s 11ms/step - loss: 2.4164 - accuracy: 0.0819 - val_loss: 2.4234 - val_accuracy: 0.0836\n",
            "Epoch 8/10\n",
            "375/375 [==============================] - 5s 12ms/step - loss: 2.4164 - accuracy: 0.0819 - val_loss: 2.4234 - val_accuracy: 0.0836\n",
            "Epoch 9/10\n",
            "375/375 [==============================] - 4s 11ms/step - loss: 2.4164 - accuracy: 0.0819 - val_loss: 2.4234 - val_accuracy: 0.0836\n",
            "Epoch 10/10\n",
            "375/375 [==============================] - 4s 11ms/step - loss: 2.4164 - accuracy: 0.0819 - val_loss: 2.4234 - val_accuracy: 0.0836\n"
          ]
        },
        {
          "output_type": "execute_result",
          "data": {
            "text/plain": [
              "<keras.callbacks.History at 0x7f801a51c640>"
            ]
          },
          "metadata": {},
          "execution_count": 14
        }
      ]
    },
    {
      "cell_type": "code",
      "source": [
        "#A simple logistic regression on MNIST\n",
        "model = keras.Sequential([\n",
        "    layers.Dense(96, activation=\"relu\"),\n",
        "    layers.Dense(96, activation=\"relu\"),\n",
        "    layers.Dense(10, activation=\"softmax\")\n",
        "])\n",
        "\n",
        "model.compile(optimizer=\"rmsprop\",\n",
        "              loss=\"sparse_categorical_crossentropy\",\n",
        "              metrics=[\"accuracy\"])\n",
        "history_small_model = model.fit(\n",
        "    train_images, train_labels,\n",
        "    epochs=20,\n",
        "    batch_size=128,\n",
        "    validation_split=0.2\n",
        ")"
      ],
      "metadata": {
        "colab": {
          "base_uri": "https://localhost:8080/"
        },
        "id": "__jxHLIKOZVp",
        "outputId": "d2b99a75-75e7-4d6a-8118-cd093e685921"
      },
      "execution_count": null,
      "outputs": [
        {
          "output_type": "stream",
          "name": "stdout",
          "text": [
            "Epoch 1/20\n",
            "375/375 [==============================] - 3s 6ms/step - loss: 0.3545 - accuracy: 0.8991 - val_loss: 0.1871 - val_accuracy: 0.9452\n",
            "Epoch 2/20\n",
            "375/375 [==============================] - 2s 5ms/step - loss: 0.1519 - accuracy: 0.9550 - val_loss: 0.1246 - val_accuracy: 0.9638\n",
            "Epoch 3/20\n",
            "375/375 [==============================] - 2s 5ms/step - loss: 0.1079 - accuracy: 0.9678 - val_loss: 0.1092 - val_accuracy: 0.9676\n",
            "Epoch 4/20\n",
            "375/375 [==============================] - 2s 5ms/step - loss: 0.0838 - accuracy: 0.9739 - val_loss: 0.1034 - val_accuracy: 0.9695\n",
            "Epoch 5/20\n",
            "375/375 [==============================] - 2s 5ms/step - loss: 0.0683 - accuracy: 0.9791 - val_loss: 0.0969 - val_accuracy: 0.9705\n",
            "Epoch 6/20\n",
            "375/375 [==============================] - 3s 7ms/step - loss: 0.0558 - accuracy: 0.9833 - val_loss: 0.0885 - val_accuracy: 0.9750\n",
            "Epoch 7/20\n",
            "375/375 [==============================] - 3s 7ms/step - loss: 0.0476 - accuracy: 0.9855 - val_loss: 0.1103 - val_accuracy: 0.9702\n",
            "Epoch 8/20\n",
            "375/375 [==============================] - 2s 5ms/step - loss: 0.0396 - accuracy: 0.9877 - val_loss: 0.0895 - val_accuracy: 0.9747\n",
            "Epoch 9/20\n",
            "375/375 [==============================] - 2s 6ms/step - loss: 0.0334 - accuracy: 0.9900 - val_loss: 0.0963 - val_accuracy: 0.9743\n",
            "Epoch 10/20\n",
            "375/375 [==============================] - 2s 5ms/step - loss: 0.0281 - accuracy: 0.9913 - val_loss: 0.0946 - val_accuracy: 0.9763\n",
            "Epoch 11/20\n",
            "375/375 [==============================] - 2s 5ms/step - loss: 0.0233 - accuracy: 0.9930 - val_loss: 0.0988 - val_accuracy: 0.9756\n",
            "Epoch 12/20\n",
            "375/375 [==============================] - 2s 5ms/step - loss: 0.0203 - accuracy: 0.9936 - val_loss: 0.1109 - val_accuracy: 0.9733\n",
            "Epoch 13/20\n",
            "375/375 [==============================] - 2s 5ms/step - loss: 0.0170 - accuracy: 0.9948 - val_loss: 0.1126 - val_accuracy: 0.9750\n",
            "Epoch 14/20\n",
            "375/375 [==============================] - 2s 5ms/step - loss: 0.0146 - accuracy: 0.9954 - val_loss: 0.1119 - val_accuracy: 0.9743\n",
            "Epoch 15/20\n",
            "375/375 [==============================] - 2s 5ms/step - loss: 0.0117 - accuracy: 0.9963 - val_loss: 0.1156 - val_accuracy: 0.9753\n",
            "Epoch 16/20\n",
            "375/375 [==============================] - 2s 5ms/step - loss: 0.0106 - accuracy: 0.9968 - val_loss: 0.1247 - val_accuracy: 0.9743\n",
            "Epoch 17/20\n",
            "375/375 [==============================] - 2s 5ms/step - loss: 0.0093 - accuracy: 0.9971 - val_loss: 0.1167 - val_accuracy: 0.9771\n",
            "Epoch 18/20\n",
            "375/375 [==============================] - 2s 5ms/step - loss: 0.0077 - accuracy: 0.9976 - val_loss: 0.1264 - val_accuracy: 0.9764\n",
            "Epoch 19/20\n",
            "375/375 [==============================] - 2s 6ms/step - loss: 0.0064 - accuracy: 0.9979 - val_loss: 0.1397 - val_accuracy: 0.9743\n",
            "Epoch 20/20\n",
            "375/375 [==============================] - 2s 6ms/step - loss: 0.0063 - accuracy: 0.9982 - val_loss: 0.1354 - val_accuracy: 0.9743\n"
          ]
        }
      ]
    },
    {
      "cell_type": "code",
      "source": [
        "import matplotlib.pyplot as plt \n",
        "val_loss = history_small_model.history[\"val_loss\"] \n",
        "epochs = range(1, 21) \n",
        "plt.plot(epochs, val_loss, \"b--\", label=\"Validation loss\")\n",
        "plt.title(\"Effect of insufficient model capacity on validation loss\") \n",
        "plt.xlabel(\"Epochs\") \n",
        "plt.ylabel(\"Loss\")\n",
        "plt.legend()\n",
        "plt.show()"
      ],
      "metadata": {
        "colab": {
          "base_uri": "https://localhost:8080/",
          "height": 295
        },
        "id": "KkgeAqx2QVNx",
        "outputId": "db4ac492-14e1-4c34-d21f-b03d2fa7642a"
      },
      "execution_count": null,
      "outputs": [
        {
          "output_type": "display_data",
          "data": {
            "text/plain": [
              "<Figure size 432x288 with 1 Axes>"
            ],
            "image/png": "[encoded data removed]"
          },
          "metadata": {
            "needs_background": "light"
          }
        }
      ]
    },
    {
      "cell_type": "markdown",
      "source": [
        "## **Data Curation**\n",
        "\n",
        "Deep learning is curve fitting, not magic.\n",
        "\n",
        "Spending more effort and money on data collection almost always yields a much greater return on investment than spending the same on developing a better model.\n",
        "\n",
        "\n",
        "* Make sure you have enough data. Remember that you need a dense sampling of the input-cross-output space. More data will yield a better model. Sometimes, problems that seem impossible at first become solvable with a larger dataset.\n",
        "* Minimize labeling errors—visualize your inputs to check for anomalies, and proofread your labels.\n",
        "* Clean your data and deal with missing values. \n",
        "* If you have many features and you aren’t sure which ones are actually useful, do\n",
        "feature selection."
      ],
      "metadata": {
        "id": "2gZO5TS1SUXz"
      }
    },
    {
      "cell_type": "markdown",
      "source": [
        "## **Feature Engineering**\n",
        "\n",
        "Feature engineering is the process of using your own knowledge about the data and about the machine learning algorithm at hand (in this case, a neural network) to make the algorithm work better by applying hardcoded (non-learned) transformations to the\n",
        "data before it goes into the model.\n",
        "\n",
        "A particularly important way to improve the generalization potential of your data is feature engineering. For most machine learning problems, feature engineering is a key\n",
        "ingredient for success. \n",
        "\n",
        "The essence of feature engineering: making a problem easier by expressing it in a simpler way. Make the latent manifold smoother, simpler, better organized.\n",
        "Doing so usually requires understanding the problem in depth.\n"
      ],
      "metadata": {
        "id": "8NcRycoETt2M"
      }
    },
    {
      "cell_type": "markdown",
      "source": [
        "### **Regularization Techniques**"
      ],
      "metadata": {
        "id": "NlBpa3TTYRt8"
      }
    },
    {
      "cell_type": "markdown",
      "source": [
        "#### **Reducing The Network's Size**"
      ],
      "metadata": {
        "id": "CKkyXIlVe359"
      }
    },
    {
      "cell_type": "code",
      "source": [
        "from tensorflow.keras.datasets import imdb \n",
        "(train_data, train_labels), _ = imdb.load_data(num_words=10000)\n",
        "def vectorize_sequences(sequences, dimension=10000): \n",
        "  results = np.zeros((len(sequences), dimension)) \n",
        "  for i, sequence in enumerate(sequences): \n",
        "    results[i, sequence] = 1.\n",
        "  return results\n",
        "train_data = vectorize_sequences(train_data)"
      ],
      "metadata": {
        "colab": {
          "base_uri": "https://localhost:8080/"
        },
        "id": "Y9yPISSKQnFR",
        "outputId": "f7f8c590-ba4a-434a-f710-ab540552755d"
      },
      "execution_count": null,
      "outputs": [
        {
          "output_type": "stream",
          "name": "stdout",
          "text": [
            "Downloading data from https://storage.googleapis.com/tensorflow/tf-keras-datasets/imdb.npz\n",
            "17464789/17464789 [==============================] - 0s 0us/step\n"
          ]
        }
      ]
    },
    {
      "cell_type": "code",
      "source": [
        "model = keras.Sequential([\n",
        "    layers.Dense(16, activation=\"relu\"),\n",
        "    layers.Dense(16, activation=\"relu\"),\n",
        "    layers.Dense(1, activation=\"sigmoid\"),\n",
        "])\n",
        "model.compile(optimizer=\"rmsprop\",\n",
        "              loss=\"binary_crossentropy\",\n",
        "              metrics=[\"accuracy\"])\n",
        "history_original = model.fit(train_data, train_labels,\n",
        "                             epochs=20, batch_size=512, validation_split=0.4)"
      ],
      "metadata": {
        "colab": {
          "base_uri": "https://localhost:8080/"
        },
        "id": "wsxNKdbJZ03d",
        "outputId": "771c33fb-e706-449c-ff4f-ff283c25f940"
      },
      "execution_count": null,
      "outputs": [
        {
          "output_type": "stream",
          "name": "stdout",
          "text": [
            "Epoch 1/20\n",
            "30/30 [==============================] - 2s 51ms/step - loss: 0.5293 - accuracy: 0.7696 - val_loss: 0.3895 - val_accuracy: 0.8686\n",
            "Epoch 2/20\n",
            "30/30 [==============================] - 1s 38ms/step - loss: 0.3063 - accuracy: 0.9010 - val_loss: 0.3233 - val_accuracy: 0.8744\n",
            "Epoch 3/20\n",
            "30/30 [==============================] - 1s 37ms/step - loss: 0.2244 - accuracy: 0.9253 - val_loss: 0.2799 - val_accuracy: 0.8905\n",
            "Epoch 4/20\n",
            "30/30 [==============================] - 1s 38ms/step - loss: 0.1765 - accuracy: 0.9432 - val_loss: 0.2740 - val_accuracy: 0.8919\n",
            "Epoch 5/20\n",
            "30/30 [==============================] - 1s 39ms/step - loss: 0.1450 - accuracy: 0.9545 - val_loss: 0.2800 - val_accuracy: 0.8902\n",
            "Epoch 6/20\n",
            "30/30 [==============================] - 1s 36ms/step - loss: 0.1185 - accuracy: 0.9641 - val_loss: 0.2948 - val_accuracy: 0.8863\n",
            "Epoch 7/20\n",
            "30/30 [==============================] - 1s 37ms/step - loss: 0.1009 - accuracy: 0.9693 - val_loss: 0.3192 - val_accuracy: 0.8822\n",
            "Epoch 8/20\n",
            "30/30 [==============================] - 1s 36ms/step - loss: 0.0813 - accuracy: 0.9786 - val_loss: 0.3284 - val_accuracy: 0.8827\n",
            "Epoch 9/20\n",
            "30/30 [==============================] - 1s 36ms/step - loss: 0.0676 - accuracy: 0.9819 - val_loss: 0.3520 - val_accuracy: 0.8796\n",
            "Epoch 10/20\n",
            "30/30 [==============================] - 1s 35ms/step - loss: 0.0565 - accuracy: 0.9851 - val_loss: 0.3761 - val_accuracy: 0.8783\n",
            "Epoch 11/20\n",
            "30/30 [==============================] - 1s 36ms/step - loss: 0.0460 - accuracy: 0.9886 - val_loss: 0.4036 - val_accuracy: 0.8782\n",
            "Epoch 12/20\n",
            "30/30 [==============================] - 1s 38ms/step - loss: 0.0368 - accuracy: 0.9913 - val_loss: 0.4332 - val_accuracy: 0.8744\n",
            "Epoch 13/20\n",
            "30/30 [==============================] - 1s 35ms/step - loss: 0.0294 - accuracy: 0.9939 - val_loss: 0.4695 - val_accuracy: 0.8719\n",
            "Epoch 14/20\n",
            "30/30 [==============================] - 1s 35ms/step - loss: 0.0230 - accuracy: 0.9956 - val_loss: 0.5181 - val_accuracy: 0.8692\n",
            "Epoch 15/20\n",
            "30/30 [==============================] - 1s 35ms/step - loss: 0.0178 - accuracy: 0.9976 - val_loss: 0.5457 - val_accuracy: 0.8710\n",
            "Epoch 16/20\n",
            "30/30 [==============================] - 1s 36ms/step - loss: 0.0168 - accuracy: 0.9968 - val_loss: 0.5779 - val_accuracy: 0.8678\n",
            "Epoch 17/20\n",
            "30/30 [==============================] - 1s 36ms/step - loss: 0.0116 - accuracy: 0.9983 - val_loss: 0.6051 - val_accuracy: 0.8680\n",
            "Epoch 18/20\n",
            "30/30 [==============================] - 1s 35ms/step - loss: 0.0088 - accuracy: 0.9989 - val_loss: 0.6839 - val_accuracy: 0.8582\n",
            "Epoch 19/20\n",
            "30/30 [==============================] - 1s 35ms/step - loss: 0.0056 - accuracy: 0.9996 - val_loss: 0.6792 - val_accuracy: 0.8650\n",
            "Epoch 20/20\n",
            "30/30 [==============================] - 1s 35ms/step - loss: 0.0078 - accuracy: 0.9984 - val_loss: 0.7070 - val_accuracy: 0.8663\n"
          ]
        }
      ]
    },
    {
      "cell_type": "code",
      "source": [
        "#Smaller model\n",
        "model = keras.Sequential([\n",
        "    layers.Dense(4, activation='relu'),\n",
        "    layers.Dense(4, activation='relu'),\n",
        "    layers.Dense(1, activation=\"sigmoid\")\n",
        "])\n",
        "model.compile(optimizer=\"rmsprop\",\n",
        "              loss=\"binary_crossentropy\",\n",
        "              metrics=[\"accuracy\"])\n",
        "history_smaller_model = model.fit(\n",
        "    train_data, train_labels,\n",
        "    epochs=20, batch_size=512, validation_split=0.4\n",
        ")"
      ],
      "metadata": {
        "colab": {
          "base_uri": "https://localhost:8080/"
        },
        "id": "EFQ10IU_aBt6",
        "outputId": "079bf9c4-1d1c-427a-ab75-4a308ea65b57"
      },
      "execution_count": null,
      "outputs": [
        {
          "output_type": "stream",
          "name": "stdout",
          "text": [
            "Epoch 1/20\n",
            "30/30 [==============================] - 2s 52ms/step - loss: 0.5775 - accuracy: 0.7696 - val_loss: 0.4709 - val_accuracy: 0.8559\n",
            "Epoch 2/20\n",
            "30/30 [==============================] - 1s 40ms/step - loss: 0.4020 - accuracy: 0.8865 - val_loss: 0.3757 - val_accuracy: 0.8801\n",
            "Epoch 3/20\n",
            "30/30 [==============================] - 1s 36ms/step - loss: 0.3135 - accuracy: 0.9093 - val_loss: 0.3264 - val_accuracy: 0.8853\n",
            "Epoch 4/20\n",
            "30/30 [==============================] - 1s 32ms/step - loss: 0.2565 - accuracy: 0.9236 - val_loss: 0.3018 - val_accuracy: 0.8850\n",
            "Epoch 5/20\n",
            "30/30 [==============================] - 1s 31ms/step - loss: 0.2183 - accuracy: 0.9343 - val_loss: 0.2841 - val_accuracy: 0.8916\n",
            "Epoch 6/20\n",
            "30/30 [==============================] - 1s 35ms/step - loss: 0.1885 - accuracy: 0.9437 - val_loss: 0.2858 - val_accuracy: 0.8858\n",
            "Epoch 7/20\n",
            "30/30 [==============================] - 1s 32ms/step - loss: 0.1669 - accuracy: 0.9499 - val_loss: 0.2733 - val_accuracy: 0.8900\n",
            "Epoch 8/20\n",
            "30/30 [==============================] - 1s 32ms/step - loss: 0.1474 - accuracy: 0.9569 - val_loss: 0.2748 - val_accuracy: 0.8915\n",
            "Epoch 9/20\n",
            "30/30 [==============================] - 1s 32ms/step - loss: 0.1319 - accuracy: 0.9622 - val_loss: 0.2778 - val_accuracy: 0.8910\n",
            "Epoch 10/20\n",
            "30/30 [==============================] - 1s 32ms/step - loss: 0.1186 - accuracy: 0.9679 - val_loss: 0.2823 - val_accuracy: 0.8881\n",
            "Epoch 11/20\n",
            "30/30 [==============================] - 1s 32ms/step - loss: 0.1072 - accuracy: 0.9698 - val_loss: 0.2901 - val_accuracy: 0.8861\n",
            "Epoch 12/20\n",
            "30/30 [==============================] - 1s 32ms/step - loss: 0.0954 - accuracy: 0.9747 - val_loss: 0.3010 - val_accuracy: 0.8849\n",
            "Epoch 13/20\n",
            "30/30 [==============================] - 1s 31ms/step - loss: 0.0870 - accuracy: 0.9774 - val_loss: 0.3104 - val_accuracy: 0.8858\n",
            "Epoch 14/20\n",
            "30/30 [==============================] - 1s 31ms/step - loss: 0.0782 - accuracy: 0.9803 - val_loss: 0.3265 - val_accuracy: 0.8817\n",
            "Epoch 15/20\n",
            "30/30 [==============================] - 1s 41ms/step - loss: 0.0703 - accuracy: 0.9835 - val_loss: 0.3480 - val_accuracy: 0.8773\n",
            "Epoch 16/20\n",
            "30/30 [==============================] - 1s 33ms/step - loss: 0.0637 - accuracy: 0.9851 - val_loss: 0.3464 - val_accuracy: 0.8808\n",
            "Epoch 17/20\n",
            "30/30 [==============================] - 1s 31ms/step - loss: 0.0575 - accuracy: 0.9872 - val_loss: 0.3594 - val_accuracy: 0.8797\n",
            "Epoch 18/20\n",
            "30/30 [==============================] - 1s 32ms/step - loss: 0.0519 - accuracy: 0.9886 - val_loss: 0.3757 - val_accuracy: 0.8794\n",
            "Epoch 19/20\n",
            "30/30 [==============================] - 1s 32ms/step - loss: 0.0462 - accuracy: 0.9903 - val_loss: 0.3976 - val_accuracy: 0.8762\n",
            "Epoch 20/20\n",
            "30/30 [==============================] - 1s 31ms/step - loss: 0.0410 - accuracy: 0.9920 - val_loss: 0.4187 - val_accuracy: 0.8730\n"
          ]
        }
      ]
    },
    {
      "cell_type": "code",
      "source": [
        "import matplotlib.pyplot as plt \n",
        "val_loss = history_smaller_model.history[\"val_loss\"] \n",
        "epochs = range(1, 21) \n",
        "plt.plot(epochs, val_loss, \"b--\", label=\"Validation loss\")\n",
        "plt.title(\"Model with higher capacity\") \n",
        "plt.xlabel(\"Epochs\") \n",
        "plt.ylabel(\"Loss\")\n",
        "plt.legend()\n",
        "plt.show()"
      ],
      "metadata": {
        "colab": {
          "base_uri": "https://localhost:8080/",
          "height": 295
        },
        "id": "Dg1cEYNgergL",
        "outputId": "face43cd-e9f7-4b41-a593-a8bf2b18db5b"
      },
      "execution_count": null,
      "outputs": [
        {
          "output_type": "display_data",
          "data": {
            "text/plain": [
              "<Figure size 432x288 with 1 Axes>"
            ],
            "image/png": "[encoded data removed]"
          },
          "metadata": {
            "needs_background": "light"
          }
        }
      ]
    },
    {
      "cell_type": "code",
      "source": [
        "#Version of the model with higher capacity\n",
        "model = keras.Sequential([\n",
        "    layers.Dense(512, activation=\"relu\"),\n",
        "    layers.Dense(512, activation=\"relu\"),\n",
        "    layers.Dense(1, activation=\"sigmoid\")\n",
        "])\n",
        "model.compile(optimizer=\"rmsprop\",\n",
        "              loss=\"binary_crossentropy\",\n",
        "              metrics=[\"accuracy\"])\n",
        "history_larger_model = model.fit(\n",
        "    train_data, train_labels,\n",
        "    epochs=20, batch_size=512, validation_split=0.4\n",
        ")\n",
        "\n",
        "# The more capacity the model has, the more quickly it can \n",
        "# model the training data (resulting in a low training loss), \n",
        "# but the more susceptible it is to overfitting \n",
        "# (resulting in a large difference between the training and validation loss)."
      ],
      "metadata": {
        "colab": {
          "base_uri": "https://localhost:8080/"
        },
        "id": "Dj0EaPRkbJ8L",
        "outputId": "bfcac8b6-16ef-42bb-9591-0b8814ca6d6e"
      },
      "execution_count": null,
      "outputs": [
        {
          "output_type": "stream",
          "name": "stdout",
          "text": [
            "Epoch 1/20\n",
            "30/30 [==============================] - 10s 311ms/step - loss: 0.5750 - accuracy: 0.7519 - val_loss: 0.3160 - val_accuracy: 0.8898\n",
            "Epoch 2/20\n",
            "30/30 [==============================] - 9s 295ms/step - loss: 0.2509 - accuracy: 0.9017 - val_loss: 0.2672 - val_accuracy: 0.8939\n",
            "Epoch 3/20\n",
            "30/30 [==============================] - 9s 294ms/step - loss: 0.1599 - accuracy: 0.9415 - val_loss: 0.2990 - val_accuracy: 0.8874\n",
            "Epoch 4/20\n",
            "30/30 [==============================] - 9s 295ms/step - loss: 0.0718 - accuracy: 0.9744 - val_loss: 0.3613 - val_accuracy: 0.8913\n",
            "Epoch 5/20\n",
            "30/30 [==============================] - 9s 296ms/step - loss: 0.1023 - accuracy: 0.9783 - val_loss: 0.3622 - val_accuracy: 0.8864\n",
            "Epoch 6/20\n",
            "30/30 [==============================] - 10s 322ms/step - loss: 0.0036 - accuracy: 0.9998 - val_loss: 0.5358 - val_accuracy: 0.8850\n",
            "Epoch 7/20\n",
            "30/30 [==============================] - 9s 299ms/step - loss: 5.2024e-04 - accuracy: 1.0000 - val_loss: 0.6250 - val_accuracy: 0.8893\n",
            "Epoch 8/20\n",
            "30/30 [==============================] - 11s 362ms/step - loss: 7.8936e-05 - accuracy: 1.0000 - val_loss: 0.7588 - val_accuracy: 0.8874\n",
            "Epoch 9/20\n",
            "30/30 [==============================] - 12s 406ms/step - loss: 1.4378e-05 - accuracy: 1.0000 - val_loss: 0.8657 - val_accuracy: 0.8876\n",
            "Epoch 10/20\n",
            "30/30 [==============================] - 9s 298ms/step - loss: 2.9645e-06 - accuracy: 1.0000 - val_loss: 0.9609 - val_accuracy: 0.8883\n",
            "Epoch 11/20\n",
            "30/30 [==============================] - 9s 297ms/step - loss: 8.6472e-07 - accuracy: 1.0000 - val_loss: 1.1723 - val_accuracy: 0.8770\n",
            "Epoch 12/20\n",
            "30/30 [==============================] - 10s 334ms/step - loss: 0.4152 - accuracy: 0.9769 - val_loss: 0.8023 - val_accuracy: 0.8874\n",
            "Epoch 13/20\n",
            "30/30 [==============================] - 10s 345ms/step - loss: 1.1707e-05 - accuracy: 1.0000 - val_loss: 0.8075 - val_accuracy: 0.8880\n",
            "Epoch 14/20\n",
            "30/30 [==============================] - 9s 295ms/step - loss: 5.9277e-06 - accuracy: 1.0000 - val_loss: 0.8192 - val_accuracy: 0.8874\n",
            "Epoch 15/20\n",
            "30/30 [==============================] - 9s 296ms/step - loss: 3.5297e-06 - accuracy: 1.0000 - val_loss: 0.8288 - val_accuracy: 0.8878\n",
            "Epoch 16/20\n",
            "30/30 [==============================] - 9s 295ms/step - loss: 2.1123e-06 - accuracy: 1.0000 - val_loss: 0.8573 - val_accuracy: 0.8882\n",
            "Epoch 17/20\n",
            "30/30 [==============================] - 12s 397ms/step - loss: 1.0682e-06 - accuracy: 1.0000 - val_loss: 0.9095 - val_accuracy: 0.8875\n",
            "Epoch 18/20\n",
            "30/30 [==============================] - 9s 313ms/step - loss: 4.5027e-07 - accuracy: 1.0000 - val_loss: 0.9822 - val_accuracy: 0.8874\n",
            "Epoch 19/20\n",
            "30/30 [==============================] - 9s 299ms/step - loss: 1.8229e-07 - accuracy: 1.0000 - val_loss: 1.0600 - val_accuracy: 0.8872\n",
            "Epoch 20/20\n",
            "30/30 [==============================] - 10s 324ms/step - loss: 7.9582e-08 - accuracy: 1.0000 - val_loss: 1.1198 - val_accuracy: 0.8873\n"
          ]
        }
      ]
    },
    {
      "cell_type": "code",
      "source": [
        "import matplotlib.pyplot as plt \n",
        "val_loss = history_larger_model.history[\"val_loss\"] \n",
        "epochs = range(1, 21) \n",
        "plt.plot(epochs, val_loss, \"b--\", label=\"Validation loss\")\n",
        "plt.title(\"Model with higher capacity\") \n",
        "plt.xlabel(\"Epochs\") \n",
        "plt.ylabel(\"Loss\")\n",
        "plt.legend()\n",
        "plt.show()"
      ],
      "metadata": {
        "colab": {
          "base_uri": "https://localhost:8080/",
          "height": 295
        },
        "id": "AppJYmQ2cUsr",
        "outputId": "bded7faa-a54c-4327-a0da-a8ee77b782e4"
      },
      "execution_count": null,
      "outputs": [
        {
          "output_type": "display_data",
          "data": {
            "text/plain": [
              "<Figure size 432x288 with 1 Axes>"
            ],
            "image/png": "[encoded data removed]"
          },
          "metadata": {
            "needs_background": "light"
          }
        }
      ]
    },
    {
      "cell_type": "markdown",
      "source": [
        "#### **Adding Weight Regularization**"
      ],
      "metadata": {
        "id": "pGiuctkte_g6"
      }
    },
    {
      "cell_type": "code",
      "source": [
        "#Adding L2 regularization\n",
        "from tensorflow.keras import regularizers\n",
        "model = keras.Sequential([\n",
        "    layers.Dense(16, kernel_regularizer=regularizers.l2(0.002),\n",
        "                 activation=\"relu\"),\n",
        "    layers.Dense(16, kernel_regularizer=regularizers.l2(0.002),\n",
        "                 activation=\"relu\"),\n",
        "    layers.Dense(1, activation=\"sigmoid\")\n",
        "])\n",
        "model.compile(optimizer=\"rmsprop\",\n",
        "              loss=\"binary_crossentropy\",\n",
        "              metrics=[\"accuracy\"])\n",
        "history_l2_reg = model.fit(\n",
        "    train_data, train_labels,\n",
        "    epochs=20, batch_size=512, validation_split=0.4\n",
        "    )"
      ],
      "metadata": {
        "colab": {
          "base_uri": "https://localhost:8080/"
        },
        "id": "-kOAtYCpfHJw",
        "outputId": "2f836149-8e57-4eb0-ce8c-1f25d9dd8edc"
      },
      "execution_count": null,
      "outputs": [
        {
          "output_type": "stream",
          "name": "stdout",
          "text": [
            "Epoch 1/20\n",
            "30/30 [==============================] - 3s 65ms/step - loss: 0.5951 - accuracy: 0.7949 - val_loss: 0.4752 - val_accuracy: 0.8712\n",
            "Epoch 2/20\n",
            "30/30 [==============================] - 1s 37ms/step - loss: 0.4160 - accuracy: 0.8931 - val_loss: 0.4070 - val_accuracy: 0.8829\n",
            "Epoch 3/20\n",
            "30/30 [==============================] - 1s 46ms/step - loss: 0.3521 - accuracy: 0.9111 - val_loss: 0.3754 - val_accuracy: 0.8872\n",
            "Epoch 4/20\n",
            "30/30 [==============================] - 1s 37ms/step - loss: 0.3167 - accuracy: 0.9197 - val_loss: 0.3759 - val_accuracy: 0.8802\n",
            "Epoch 5/20\n",
            "30/30 [==============================] - 1s 37ms/step - loss: 0.2950 - accuracy: 0.9259 - val_loss: 0.3620 - val_accuracy: 0.8871\n",
            "Epoch 6/20\n",
            "30/30 [==============================] - 1s 36ms/step - loss: 0.2816 - accuracy: 0.9317 - val_loss: 0.3607 - val_accuracy: 0.8855\n",
            "Epoch 7/20\n",
            "30/30 [==============================] - 1s 36ms/step - loss: 0.2690 - accuracy: 0.9380 - val_loss: 0.3610 - val_accuracy: 0.8846\n",
            "Epoch 8/20\n",
            "30/30 [==============================] - 1s 36ms/step - loss: 0.2650 - accuracy: 0.9377 - val_loss: 0.3650 - val_accuracy: 0.8834\n",
            "Epoch 9/20\n",
            "30/30 [==============================] - 1s 36ms/step - loss: 0.2549 - accuracy: 0.9394 - val_loss: 0.3816 - val_accuracy: 0.8743\n",
            "Epoch 10/20\n",
            "30/30 [==============================] - 1s 37ms/step - loss: 0.2482 - accuracy: 0.9412 - val_loss: 0.3695 - val_accuracy: 0.8830\n",
            "Epoch 11/20\n",
            "30/30 [==============================] - 2s 61ms/step - loss: 0.2452 - accuracy: 0.9426 - val_loss: 0.3730 - val_accuracy: 0.8810\n",
            "Epoch 12/20\n",
            "30/30 [==============================] - 1s 36ms/step - loss: 0.2379 - accuracy: 0.9475 - val_loss: 0.3752 - val_accuracy: 0.8794\n",
            "Epoch 13/20\n",
            "30/30 [==============================] - 1s 36ms/step - loss: 0.2348 - accuracy: 0.9460 - val_loss: 0.3776 - val_accuracy: 0.8797\n",
            "Epoch 14/20\n",
            "30/30 [==============================] - 1s 36ms/step - loss: 0.2330 - accuracy: 0.9477 - val_loss: 0.4219 - val_accuracy: 0.8659\n",
            "Epoch 15/20\n",
            "30/30 [==============================] - 1s 36ms/step - loss: 0.2311 - accuracy: 0.9469 - val_loss: 0.3841 - val_accuracy: 0.8810\n",
            "Epoch 16/20\n",
            "30/30 [==============================] - 1s 37ms/step - loss: 0.2194 - accuracy: 0.9563 - val_loss: 0.3843 - val_accuracy: 0.8786\n",
            "Epoch 17/20\n",
            "30/30 [==============================] - 1s 35ms/step - loss: 0.2243 - accuracy: 0.9495 - val_loss: 0.4021 - val_accuracy: 0.8749\n",
            "Epoch 18/20\n",
            "30/30 [==============================] - 1s 36ms/step - loss: 0.2179 - accuracy: 0.9539 - val_loss: 0.4191 - val_accuracy: 0.8706\n",
            "Epoch 19/20\n",
            "30/30 [==============================] - 1s 37ms/step - loss: 0.2149 - accuracy: 0.9560 - val_loss: 0.4175 - val_accuracy: 0.8717\n",
            "Epoch 20/20\n",
            "30/30 [==============================] - 1s 36ms/step - loss: 0.2125 - accuracy: 0.9553 - val_loss: 0.4464 - val_accuracy: 0.8610\n"
          ]
        }
      ]
    },
    {
      "cell_type": "code",
      "source": [
        "import matplotlib.pyplot as plt \n",
        "val_loss_ori = history_original.history[\"val_loss\"]\n",
        "val_loss_l2 = history_l2_reg.history[\"val_loss\"] \n",
        "epochs = range(1, 21) \n",
        "plt.plot(epochs, val_loss, \"b\", label=\"Validation loss of l2-regularized model\")\n",
        "plt.plot(epochs, val_loss_ori, \"b--\", label=\"Validation loss of original model\")\n",
        "plt.title(\"Model with higher capacity\") \n",
        "plt.xlabel(\"Epochs\") \n",
        "plt.ylabel(\"Loss\")\n",
        "plt.legend()\n",
        "plt.show()"
      ],
      "metadata": {
        "colab": {
          "base_uri": "https://localhost:8080/",
          "height": 295
        },
        "id": "6SXV9EMHg6pZ",
        "outputId": "b2aeeb96-e81b-46f4-cde4-57c6da3f4448"
      },
      "execution_count": null,
      "outputs": [
        {
          "output_type": "display_data",
          "data": {
            "text/plain": [
              "<Figure size 432x288 with 1 Axes>"
            ],
            "image/png": "[encoded data removed]"
          },
          "metadata": {
            "needs_background": "light"
          }
        }
      ]
    },
    {
      "cell_type": "markdown",
      "source": [
        "#### **Adding Dropout**"
      ],
      "metadata": {
        "id": "8FRgiv2DiQvi"
      }
    },
    {
      "cell_type": "code",
      "source": [
        "model = keras.Sequential([ \n",
        "    layers.Dense(16, activation=\"relu\"), \n",
        "    layers.Dropout(0.5), \n",
        "    layers.Dense(16, activation=\"relu\"), \n",
        "    layers.Dropout(0.5), \n",
        "    layers.Dense(1, activation=\"sigmoid\")\n",
        "])\n",
        "model.compile(optimizer=\"rmsprop\", \n",
        "              loss=\"binary_crossentropy\", \n",
        "              metrics=[\"accuracy\"])\n",
        "history_dropout = model.fit( \n",
        "    train_data, train_labels,\n",
        "    epochs=20, batch_size=512, \n",
        "    validation_split=0.4)"
      ],
      "metadata": {
        "colab": {
          "base_uri": "https://localhost:8080/"
        },
        "id": "GGD3IzO3hyWC",
        "outputId": "a382648b-1d67-418c-e338-da63c74b4776"
      },
      "execution_count": null,
      "outputs": [
        {
          "output_type": "stream",
          "name": "stdout",
          "text": [
            "Epoch 1/20\n",
            "30/30 [==============================] - 2s 51ms/step - loss: 0.6025 - accuracy: 0.6742 - val_loss: 0.4492 - val_accuracy: 0.8574\n",
            "Epoch 2/20\n",
            "30/30 [==============================] - 1s 35ms/step - loss: 0.4615 - accuracy: 0.7971 - val_loss: 0.3496 - val_accuracy: 0.8778\n",
            "Epoch 3/20\n",
            "30/30 [==============================] - 1s 36ms/step - loss: 0.3793 - accuracy: 0.8433 - val_loss: 0.3236 - val_accuracy: 0.8733\n",
            "Epoch 4/20\n",
            "30/30 [==============================] - 1s 36ms/step - loss: 0.3201 - accuracy: 0.8821 - val_loss: 0.2771 - val_accuracy: 0.8927\n",
            "Epoch 5/20\n",
            "30/30 [==============================] - 1s 35ms/step - loss: 0.2729 - accuracy: 0.9020 - val_loss: 0.2770 - val_accuracy: 0.8889\n",
            "Epoch 6/20\n",
            "30/30 [==============================] - 1s 35ms/step - loss: 0.2388 - accuracy: 0.9172 - val_loss: 0.2891 - val_accuracy: 0.8882\n",
            "Epoch 7/20\n",
            "30/30 [==============================] - 1s 35ms/step - loss: 0.2042 - accuracy: 0.9287 - val_loss: 0.2956 - val_accuracy: 0.8859\n",
            "Epoch 8/20\n",
            "30/30 [==============================] - 1s 35ms/step - loss: 0.1821 - accuracy: 0.9389 - val_loss: 0.2955 - val_accuracy: 0.8906\n",
            "Epoch 9/20\n",
            "30/30 [==============================] - 1s 35ms/step - loss: 0.1695 - accuracy: 0.9448 - val_loss: 0.3253 - val_accuracy: 0.8890\n",
            "Epoch 10/20\n",
            "30/30 [==============================] - 1s 35ms/step - loss: 0.1468 - accuracy: 0.9505 - val_loss: 0.3303 - val_accuracy: 0.8877\n",
            "Epoch 11/20\n",
            "30/30 [==============================] - 2s 54ms/step - loss: 0.1274 - accuracy: 0.9589 - val_loss: 0.3623 - val_accuracy: 0.8879\n",
            "Epoch 12/20\n",
            "30/30 [==============================] - 1s 40ms/step - loss: 0.1236 - accuracy: 0.9587 - val_loss: 0.4134 - val_accuracy: 0.8824\n",
            "Epoch 13/20\n",
            "30/30 [==============================] - 1s 35ms/step - loss: 0.1151 - accuracy: 0.9611 - val_loss: 0.4112 - val_accuracy: 0.8864\n",
            "Epoch 14/20\n",
            "30/30 [==============================] - 1s 35ms/step - loss: 0.1041 - accuracy: 0.9643 - val_loss: 0.4364 - val_accuracy: 0.8854\n",
            "Epoch 15/20\n",
            "30/30 [==============================] - 1s 35ms/step - loss: 0.0958 - accuracy: 0.9663 - val_loss: 0.4806 - val_accuracy: 0.8838\n",
            "Epoch 16/20\n",
            "30/30 [==============================] - 1s 35ms/step - loss: 0.0917 - accuracy: 0.9689 - val_loss: 0.4982 - val_accuracy: 0.8828\n",
            "Epoch 17/20\n",
            "30/30 [==============================] - 1s 36ms/step - loss: 0.0884 - accuracy: 0.9734 - val_loss: 0.5647 - val_accuracy: 0.8799\n",
            "Epoch 18/20\n",
            "30/30 [==============================] - 1s 36ms/step - loss: 0.0806 - accuracy: 0.9742 - val_loss: 0.5674 - val_accuracy: 0.8725\n",
            "Epoch 19/20\n",
            "30/30 [==============================] - 1s 37ms/step - loss: 0.0796 - accuracy: 0.9773 - val_loss: 0.5983 - val_accuracy: 0.8831\n",
            "Epoch 20/20\n",
            "30/30 [==============================] - 1s 35ms/step - loss: 0.0745 - accuracy: 0.9767 - val_loss: 0.6032 - val_accuracy: 0.8833\n"
          ]
        }
      ]
    },
    {
      "cell_type": "code",
      "source": [
        "import matplotlib.pyplot as plt \n",
        "val_loss_ori = history_original.history[\"val_loss\"]\n",
        "val_loss_l2 = history_dropout.history[\"val_loss\"] \n",
        "epochs = range(1, 21) \n",
        "plt.plot(epochs, val_loss, \"b\", label=\"Validation loss of dropout\")\n",
        "plt.plot(epochs, val_loss_ori, \"b--\", label=\"Validation loss of original model\")\n",
        "plt.title(\"Model with higher capacity\") \n",
        "plt.xlabel(\"Epochs\") \n",
        "plt.ylabel(\"Loss\")\n",
        "plt.legend()\n",
        "plt.show()"
      ],
      "metadata": {
        "colab": {
          "base_uri": "https://localhost:8080/",
          "height": 295
        },
        "id": "_XQGWHHMjX1V",
        "outputId": "7cfa61b1-b745-41f5-a3c3-26abf6052965"
      },
      "execution_count": null,
      "outputs": [
        {
          "output_type": "display_data",
          "data": {
            "text/plain": [
              "<Figure size 432x288 with 1 Axes>"
            ],
            "image/png": "[encoded data removed]"
          },
          "metadata": {
            "needs_background": "light"
          }
        }
      ]
    }
  ]
}